{
 "cells": [
  {
   "cell_type": "markdown",
   "metadata": {
    "collapsed": true,
    "pycharm": {
     "is_executing": false
    }
   },
   "source": [
    "# Calculate average and upper Q of 2020 and 2021 (predict) players stats"
   ]
  },
  {
   "cell_type": "code",
   "execution_count": 1,
   "metadata": {
    "pycharm": {
     "is_executing": false
    }
   },
   "outputs": [],
   "source": [
    "%matplotlib inline\n",
    "import numpy as np\n",
    "import pandas as pd\n",
    "import seaborn as sns\n",
    "import matplotlib.pyplot as plt\n",
    "import matplotlib as mpl\n",
    "from typing import Dict, List, Tuple, Text"
   ]
  },
  {
   "cell_type": "markdown",
   "metadata": {},
   "source": [
    "### Load 2020 player data"
   ]
  },
  {
   "cell_type": "code",
   "execution_count": 2,
   "metadata": {
    "pycharm": {
     "is_executing": false
    }
   },
   "outputs": [],
   "source": [
    "def postition_grouping(value) -> Text:\n",
    "    forward = ['ls', 'st', 'rs', 'lw', 'lf', 'cf', 'rf', 'rw']\n",
    "    mid = ['lam', 'cam', 'ram', 'lm', 'lcm', 'cm', 'rcm', 'rm', 'ldm', 'cdm', 'rdm']\n",
    "    back = ['lwb', 'rwb', 'lb', 'lcb', 'cb', 'rcb', 'rb']\n",
    "    keeper = ['gk']\n",
    "    \n",
    "    position_dict = {}\n",
    "    position_dict['forward'] = forward\n",
    "    position_dict['mid'] = mid\n",
    "    position_dict['back'] = back\n",
    "    position_dict['keeper'] = keeper\n",
    "    \n",
    "    value_list = value.replace(' ','').split(',')\n",
    "    \n",
    "    for v in value_list:\n",
    "        for position, items in position_dict.items():\n",
    "            if v.lower() in items:\n",
    "                return (position)\n",
    "    print('Error')"
   ]
  },
  {
   "cell_type": "code",
   "execution_count": 3,
   "metadata": {
    "pycharm": {
     "is_executing": false
    }
   },
   "outputs": [
    {
     "data": {
      "text/plain": "   sofifa_id                                         player_url  \\\n0     158023  https://sofifa.com/player/158023/lionel-messi/...   \n1      20801  https://sofifa.com/player/20801/c-ronaldo-dos-...   \n2     190871  https://sofifa.com/player/190871/neymar-da-sil...   \n3     200389  https://sofifa.com/player/200389/jan-oblak/20/...   \n4     183277  https://sofifa.com/player/183277/eden-hazard/2...   \n\n          short_name                            long_name  age         dob  \\\n0           L. Messi       Lionel Andrés Messi Cuccittini   32  1987-06-24   \n1  Cristiano Ronaldo  Cristiano Ronaldo dos Santos Aveiro   34  1985-02-05   \n2          Neymar Jr        Neymar da Silva Santos Junior   27  1992-02-05   \n3           J. Oblak                            Jan Oblak   26  1993-01-07   \n4          E. Hazard                          Eden Hazard   28  1991-01-07   \n\n   height_cm  weight_kg nationality                 club  ...   ldm   cdm  \\\n0        170         72   Argentina         FC Barcelona  ...  66+2  66+2   \n1        187         83    Portugal             Juventus  ...  61+3  61+3   \n2        175         68      Brazil  Paris Saint-Germain  ...  61+3  61+3   \n3        188         87    Slovenia      Atlético Madrid  ...   NaN   NaN   \n4        175         74     Belgium          Real Madrid  ...  63+3  63+3   \n\n    rdm   rwb    lb   lcb    cb   rcb    rb position  \n0  66+2  68+2  63+2  52+2  52+2  52+2  63+2  forward  \n1  61+3  65+3  61+3  53+3  53+3  53+3  61+3  forward  \n2  61+3  66+3  61+3  46+3  46+3  46+3  61+3  forward  \n3   NaN   NaN   NaN   NaN   NaN   NaN   NaN   keeper  \n4  63+3  66+3  61+3  49+3  49+3  49+3  61+3  forward  \n\n[5 rows x 105 columns]",
      "text/html": "<div>\n<style scoped>\n    .dataframe tbody tr th:only-of-type {\n        vertical-align: middle;\n    }\n\n    .dataframe tbody tr th {\n        vertical-align: top;\n    }\n\n    .dataframe thead th {\n        text-align: right;\n    }\n</style>\n<table border=\"1\" class=\"dataframe\">\n  <thead>\n    <tr style=\"text-align: right;\">\n      <th></th>\n      <th>sofifa_id</th>\n      <th>player_url</th>\n      <th>short_name</th>\n      <th>long_name</th>\n      <th>age</th>\n      <th>dob</th>\n      <th>height_cm</th>\n      <th>weight_kg</th>\n      <th>nationality</th>\n      <th>club</th>\n      <th>...</th>\n      <th>ldm</th>\n      <th>cdm</th>\n      <th>rdm</th>\n      <th>rwb</th>\n      <th>lb</th>\n      <th>lcb</th>\n      <th>cb</th>\n      <th>rcb</th>\n      <th>rb</th>\n      <th>position</th>\n    </tr>\n  </thead>\n  <tbody>\n    <tr>\n      <td>0</td>\n      <td>158023</td>\n      <td>https://sofifa.com/player/158023/lionel-messi/...</td>\n      <td>L. Messi</td>\n      <td>Lionel Andrés Messi Cuccittini</td>\n      <td>32</td>\n      <td>1987-06-24</td>\n      <td>170</td>\n      <td>72</td>\n      <td>Argentina</td>\n      <td>FC Barcelona</td>\n      <td>...</td>\n      <td>66+2</td>\n      <td>66+2</td>\n      <td>66+2</td>\n      <td>68+2</td>\n      <td>63+2</td>\n      <td>52+2</td>\n      <td>52+2</td>\n      <td>52+2</td>\n      <td>63+2</td>\n      <td>forward</td>\n    </tr>\n    <tr>\n      <td>1</td>\n      <td>20801</td>\n      <td>https://sofifa.com/player/20801/c-ronaldo-dos-...</td>\n      <td>Cristiano Ronaldo</td>\n      <td>Cristiano Ronaldo dos Santos Aveiro</td>\n      <td>34</td>\n      <td>1985-02-05</td>\n      <td>187</td>\n      <td>83</td>\n      <td>Portugal</td>\n      <td>Juventus</td>\n      <td>...</td>\n      <td>61+3</td>\n      <td>61+3</td>\n      <td>61+3</td>\n      <td>65+3</td>\n      <td>61+3</td>\n      <td>53+3</td>\n      <td>53+3</td>\n      <td>53+3</td>\n      <td>61+3</td>\n      <td>forward</td>\n    </tr>\n    <tr>\n      <td>2</td>\n      <td>190871</td>\n      <td>https://sofifa.com/player/190871/neymar-da-sil...</td>\n      <td>Neymar Jr</td>\n      <td>Neymar da Silva Santos Junior</td>\n      <td>27</td>\n      <td>1992-02-05</td>\n      <td>175</td>\n      <td>68</td>\n      <td>Brazil</td>\n      <td>Paris Saint-Germain</td>\n      <td>...</td>\n      <td>61+3</td>\n      <td>61+3</td>\n      <td>61+3</td>\n      <td>66+3</td>\n      <td>61+3</td>\n      <td>46+3</td>\n      <td>46+3</td>\n      <td>46+3</td>\n      <td>61+3</td>\n      <td>forward</td>\n    </tr>\n    <tr>\n      <td>3</td>\n      <td>200389</td>\n      <td>https://sofifa.com/player/200389/jan-oblak/20/...</td>\n      <td>J. Oblak</td>\n      <td>Jan Oblak</td>\n      <td>26</td>\n      <td>1993-01-07</td>\n      <td>188</td>\n      <td>87</td>\n      <td>Slovenia</td>\n      <td>Atlético Madrid</td>\n      <td>...</td>\n      <td>NaN</td>\n      <td>NaN</td>\n      <td>NaN</td>\n      <td>NaN</td>\n      <td>NaN</td>\n      <td>NaN</td>\n      <td>NaN</td>\n      <td>NaN</td>\n      <td>NaN</td>\n      <td>keeper</td>\n    </tr>\n    <tr>\n      <td>4</td>\n      <td>183277</td>\n      <td>https://sofifa.com/player/183277/eden-hazard/2...</td>\n      <td>E. Hazard</td>\n      <td>Eden Hazard</td>\n      <td>28</td>\n      <td>1991-01-07</td>\n      <td>175</td>\n      <td>74</td>\n      <td>Belgium</td>\n      <td>Real Madrid</td>\n      <td>...</td>\n      <td>63+3</td>\n      <td>63+3</td>\n      <td>63+3</td>\n      <td>66+3</td>\n      <td>61+3</td>\n      <td>49+3</td>\n      <td>49+3</td>\n      <td>49+3</td>\n      <td>61+3</td>\n      <td>forward</td>\n    </tr>\n  </tbody>\n</table>\n<p>5 rows × 105 columns</p>\n</div>"
     },
     "metadata": {},
     "output_type": "execute_result",
     "execution_count": 3
    }
   ],
   "source": [
    "csv_file='./data/players_20.csv'\n",
    "\n",
    "fifa_data_20 = pd.read_csv(csv_file)\n",
    "# Position\n",
    "fifa_data_20['position'] = fifa_data_20['player_positions'].apply(lambda x: postition_grouping(x))\n",
    "fifa_data_20['sofifa_id'] = fifa_data_20['sofifa_id'].apply(lambda x: int(x))\n",
    "fifa_data_20.head()"
   ]
  },
  {
   "cell_type": "markdown",
   "metadata": {},
   "source": [
    "### 2020 players stats"
   ]
  },
  {
   "cell_type": "markdown",
   "metadata": {},
   "source": [
    "#### Overall"
   ]
  },
  {
   "cell_type": "code",
   "execution_count": 4,
   "metadata": {
    "pycharm": {
     "is_executing": false
    }
   },
   "outputs": [
    {
     "data": {
      "text/plain": "count    18278.000000\nmean        66.244994\nstd          6.949953\nmin         48.000000\n25%         62.000000\n50%         66.000000\n75%         71.000000\nmax         94.000000\nName: overall, dtype: float64"
     },
     "metadata": {},
     "output_type": "execute_result",
     "execution_count": 4
    }
   ],
   "source": [
    "fifa_data_20['overall'].describe()"
   ]
  },
  {
   "cell_type": "code",
   "execution_count": 5,
   "metadata": {
    "pycharm": {
     "is_executing": false
    }
   },
   "outputs": [
    {
     "data": {
      "text/plain": "           count       mean       std   min   25%   50%   75%   max\nposition                                                           \nback      5938.0  66.282587  6.548813  48.0  62.0  66.0  70.0  90.0\nforward   3442.0  66.650784  7.109887  48.0  62.0  66.0  71.0  94.0\nkeeper    2036.0  64.796660  7.603627  48.0  60.0  65.0  70.0  91.0\nmid       6862.0  66.438648  6.950925  48.0  62.0  66.0  71.0  91.0",
      "text/html": "<div>\n<style scoped>\n    .dataframe tbody tr th:only-of-type {\n        vertical-align: middle;\n    }\n\n    .dataframe tbody tr th {\n        vertical-align: top;\n    }\n\n    .dataframe thead th {\n        text-align: right;\n    }\n</style>\n<table border=\"1\" class=\"dataframe\">\n  <thead>\n    <tr style=\"text-align: right;\">\n      <th></th>\n      <th>count</th>\n      <th>mean</th>\n      <th>std</th>\n      <th>min</th>\n      <th>25%</th>\n      <th>50%</th>\n      <th>75%</th>\n      <th>max</th>\n    </tr>\n    <tr>\n      <th>position</th>\n      <th></th>\n      <th></th>\n      <th></th>\n      <th></th>\n      <th></th>\n      <th></th>\n      <th></th>\n      <th></th>\n    </tr>\n  </thead>\n  <tbody>\n    <tr>\n      <td>back</td>\n      <td>5938.0</td>\n      <td>66.282587</td>\n      <td>6.548813</td>\n      <td>48.0</td>\n      <td>62.0</td>\n      <td>66.0</td>\n      <td>70.0</td>\n      <td>90.0</td>\n    </tr>\n    <tr>\n      <td>forward</td>\n      <td>3442.0</td>\n      <td>66.650784</td>\n      <td>7.109887</td>\n      <td>48.0</td>\n      <td>62.0</td>\n      <td>66.0</td>\n      <td>71.0</td>\n      <td>94.0</td>\n    </tr>\n    <tr>\n      <td>keeper</td>\n      <td>2036.0</td>\n      <td>64.796660</td>\n      <td>7.603627</td>\n      <td>48.0</td>\n      <td>60.0</td>\n      <td>65.0</td>\n      <td>70.0</td>\n      <td>91.0</td>\n    </tr>\n    <tr>\n      <td>mid</td>\n      <td>6862.0</td>\n      <td>66.438648</td>\n      <td>6.950925</td>\n      <td>48.0</td>\n      <td>62.0</td>\n      <td>66.0</td>\n      <td>71.0</td>\n      <td>91.0</td>\n    </tr>\n  </tbody>\n</table>\n</div>"
     },
     "metadata": {},
     "output_type": "execute_result",
     "execution_count": 5
    }
   ],
   "source": [
    "fifa_20_overall_stats = fifa_data_20.groupby('position')['overall'].describe()\n",
    "fifa_20_overall_stats.head()"
   ]
  },
  {
   "cell_type": "code",
   "execution_count": 6,
   "metadata": {
    "pycharm": {
     "is_executing": false
    }
   },
   "outputs": [
    {
     "data": {
      "text/plain": "<matplotlib.axes._subplots.AxesSubplot at 0x21a89dee550>"
     },
     "metadata": {},
     "output_type": "execute_result",
     "execution_count": 6
    },
    {
     "data": {
      "text/plain": "<Figure size 432x288 with 1 Axes>",
      "image/png": "[encoded data removed]"
     },
     "metadata": {
      "needs_background": "light"
     },
     "output_type": "display_data"
    }
   ],
   "source": [
    "fifa_data_20['overall'].hist(bins=50)"
   ]
  },
  {
   "cell_type": "code",
   "execution_count": 7,
   "metadata": {
    "pycharm": {
     "is_executing": false
    }
   },
   "outputs": [
    {
     "data": {
      "text/plain": "array([[<matplotlib.axes._subplots.AxesSubplot object at 0x0000021A8868B320>,\n        <matplotlib.axes._subplots.AxesSubplot object at 0x0000021A8A1F0160>],\n       [<matplotlib.axes._subplots.AxesSubplot object at 0x0000021A8A2206D8>,\n        <matplotlib.axes._subplots.AxesSubplot object at 0x0000021A8A251C88>]],\n      dtype=object)"
     },
     "metadata": {},
     "output_type": "execute_result",
     "execution_count": 7
    },
    {
     "data": {
      "text/plain": "<Figure size 432x288 with 4 Axes>",
      "image/png": "[encoded data removed]"
     },
     "metadata": {
      "needs_background": "light"
     },
     "output_type": "display_data"
    }
   ],
   "source": [
    "fifa_data_20['overall'].hist(bins=50, by=fifa_data_20['position'])"
   ]
  },
  {
   "cell_type": "markdown",
   "metadata": {},
   "source": [
    "#### Player's Value (Eur)"
   ]
  },
  {
   "cell_type": "code",
   "execution_count": 8,
   "metadata": {
    "pycharm": {
     "is_executing": false
    }
   },
   "outputs": [
    {
     "data": {
      "text/plain": "count    1.745800e+04\nmean     1.736324e+06\nstd      2.529636e+06\nmin      1.000000e+04\n25%      3.250000e+05\n50%      7.000000e+05\n75%      1.800000e+06\nmax      1.350000e+07\nName: value_eur, dtype: float64"
     },
     "metadata": {},
     "output_type": "execute_result",
     "execution_count": 8
    }
   ],
   "source": [
    "mean_wage = np.mean(fifa_data_20['value_eur'])\n",
    "sd_wage = np.std(fifa_data_20['value_eur'])\n",
    "fifa_data_20_f = fifa_data_20[(fifa_data_20['value_eur'] >0) & (fifa_data_20['value_eur'] <= mean_wage + 2 * sd_wage)]\n",
    "fifa_data_20_f['value_eur'].describe()"
   ]
  },
  {
   "cell_type": "code",
   "execution_count": 9,
   "metadata": {
    "pycharm": {
     "is_executing": false
    }
   },
   "outputs": [
    {
     "data": {
      "text/plain": "           count          mean           std  min       25%       50%  \\\nposition                                                                \nback      5938.0  2.094454e+06  4.475174e+06  0.0  325000.0  675000.0   \nforward   3442.0  3.164576e+06  7.346654e+06  0.0  400000.0  875000.0   \nkeeper    2036.0  1.728016e+06  4.973524e+06  0.0  140000.0  400000.0   \nmid       6862.0  2.704119e+06  5.548817e+06  0.0  375000.0  800000.0   \n\n                75%          max  \nposition                          \nback      1800000.0   78000000.0  \nforward   2800000.0  105500000.0  \nkeeper     975000.0   77500000.0  \nmid       2400000.0   90000000.0  ",
      "text/html": "<div>\n<style scoped>\n    .dataframe tbody tr th:only-of-type {\n        vertical-align: middle;\n    }\n\n    .dataframe tbody tr th {\n        vertical-align: top;\n    }\n\n    .dataframe thead th {\n        text-align: right;\n    }\n</style>\n<table border=\"1\" class=\"dataframe\">\n  <thead>\n    <tr style=\"text-align: right;\">\n      <th></th>\n      <th>count</th>\n      <th>mean</th>\n      <th>std</th>\n      <th>min</th>\n      <th>25%</th>\n      <th>50%</th>\n      <th>75%</th>\n      <th>max</th>\n    </tr>\n    <tr>\n      <th>position</th>\n      <th></th>\n      <th></th>\n      <th></th>\n      <th></th>\n      <th></th>\n      <th></th>\n      <th></th>\n      <th></th>\n    </tr>\n  </thead>\n  <tbody>\n    <tr>\n      <td>back</td>\n      <td>5938.0</td>\n      <td>2.094454e+06</td>\n      <td>4.475174e+06</td>\n      <td>0.0</td>\n      <td>325000.0</td>\n      <td>675000.0</td>\n      <td>1800000.0</td>\n      <td>78000000.0</td>\n    </tr>\n    <tr>\n      <td>forward</td>\n      <td>3442.0</td>\n      <td>3.164576e+06</td>\n      <td>7.346654e+06</td>\n      <td>0.0</td>\n      <td>400000.0</td>\n      <td>875000.0</td>\n      <td>2800000.0</td>\n      <td>105500000.0</td>\n    </tr>\n    <tr>\n      <td>keeper</td>\n      <td>2036.0</td>\n      <td>1.728016e+06</td>\n      <td>4.973524e+06</td>\n      <td>0.0</td>\n      <td>140000.0</td>\n      <td>400000.0</td>\n      <td>975000.0</td>\n      <td>77500000.0</td>\n    </tr>\n    <tr>\n      <td>mid</td>\n      <td>6862.0</td>\n      <td>2.704119e+06</td>\n      <td>5.548817e+06</td>\n      <td>0.0</td>\n      <td>375000.0</td>\n      <td>800000.0</td>\n      <td>2400000.0</td>\n      <td>90000000.0</td>\n    </tr>\n  </tbody>\n</table>\n</div>"
     },
     "metadata": {},
     "output_type": "execute_result",
     "execution_count": 9
    }
   ],
   "source": [
    "fifa_data_20.groupby('position')['value_eur'].describe()"
   ]
  },
  {
   "cell_type": "code",
   "execution_count": 10,
   "metadata": {
    "pycharm": {
     "is_executing": false
    }
   },
   "outputs": [
    {
     "data": {
      "text/plain": "<matplotlib.axes._subplots.AxesSubplot at 0x21a8a52f780>"
     },
     "metadata": {},
     "output_type": "execute_result",
     "execution_count": 10
    },
    {
     "data": {
      "text/plain": "<Figure size 432x288 with 1 Axes>",
      "image/png": "[encoded data removed]"
     },
     "metadata": {
      "needs_background": "light"
     },
     "output_type": "display_data"
    }
   ],
   "source": [
    "fifa_data_20['value_eur'].hist(bins=100)"
   ]
  },
  {
   "cell_type": "code",
   "execution_count": 11,
   "metadata": {
    "pycharm": {
     "is_executing": false
    }
   },
   "outputs": [
    {
     "data": {
      "text/plain": "array([[<matplotlib.axes._subplots.AxesSubplot object at 0x0000021A8A4B5DA0>,\n        <matplotlib.axes._subplots.AxesSubplot object at 0x0000021A8BB4BCC0>],\n       [<matplotlib.axes._subplots.AxesSubplot object at 0x0000021A8BB882B0>,\n        <matplotlib.axes._subplots.AxesSubplot object at 0x0000021A8BBB8860>]],\n      dtype=object)"
     },
     "metadata": {},
     "output_type": "execute_result",
     "execution_count": 11
    },
    {
     "data": {
      "text/plain": "<Figure size 432x288 with 4 Axes>",
      "image/png": "[encoded data removed]"
     },
     "metadata": {
      "needs_background": "light"
     },
     "output_type": "display_data"
    }
   ],
   "source": [
    "fifa_data_20['value_eur'].hist(bins=100, by=fifa_data_20['position'])"
   ]
  },
  {
   "cell_type": "markdown",
   "metadata": {},
   "source": [
    "### Load 2021 player data"
   ]
  },
  {
   "cell_type": "code",
   "execution_count": 12,
   "metadata": {
    "pycharm": {
     "is_executing": false
    }
   },
   "outputs": [
    {
     "data": {
      "text/plain": "   sofifa_id  overall_2021 position  value_eur_2021\n0     158023          92.0  forward      13513486.0\n1      20801          92.0  forward      11513372.0\n2     190871          90.0  forward      17361418.0\n3     200389          89.0   keeper       5759472.0\n4     183277          89.0  forward      16287628.0",
      "text/html": "<div>\n<style scoped>\n    .dataframe tbody tr th:only-of-type {\n        vertical-align: middle;\n    }\n\n    .dataframe tbody tr th {\n        vertical-align: top;\n    }\n\n    .dataframe thead th {\n        text-align: right;\n    }\n</style>\n<table border=\"1\" class=\"dataframe\">\n  <thead>\n    <tr style=\"text-align: right;\">\n      <th></th>\n      <th>sofifa_id</th>\n      <th>overall_2021</th>\n      <th>position</th>\n      <th>value_eur_2021</th>\n    </tr>\n  </thead>\n  <tbody>\n    <tr>\n      <td>0</td>\n      <td>158023</td>\n      <td>92.0</td>\n      <td>forward</td>\n      <td>13513486.0</td>\n    </tr>\n    <tr>\n      <td>1</td>\n      <td>20801</td>\n      <td>92.0</td>\n      <td>forward</td>\n      <td>11513372.0</td>\n    </tr>\n    <tr>\n      <td>2</td>\n      <td>190871</td>\n      <td>90.0</td>\n      <td>forward</td>\n      <td>17361418.0</td>\n    </tr>\n    <tr>\n      <td>3</td>\n      <td>200389</td>\n      <td>89.0</td>\n      <td>keeper</td>\n      <td>5759472.0</td>\n    </tr>\n    <tr>\n      <td>4</td>\n      <td>183277</td>\n      <td>89.0</td>\n      <td>forward</td>\n      <td>16287628.0</td>\n    </tr>\n  </tbody>\n</table>\n</div>"
     },
     "metadata": {},
     "output_type": "execute_result",
     "execution_count": 12
    }
   ],
   "source": [
    "csv_file='2021_value_overall.csv'\n",
    "\n",
    "fifa_data_21 = pd.read_csv(csv_file)\n",
    "fifa_data_21['sofifa_id'] = fifa_data_21['sofifa_id'].apply(lambda x: int(x))\n",
    "fifa_data_21.head()"
   ]
  },
  {
   "cell_type": "markdown",
   "metadata": {},
   "source": [
    "### 2021 (predict) players stats"
   ]
  },
  {
   "cell_type": "markdown",
   "metadata": {},
   "source": [
    "#### Overall"
   ]
  },
  {
   "cell_type": "code",
   "execution_count": 13,
   "metadata": {
    "pycharm": {
     "is_executing": false
    }
   },
   "outputs": [
    {
     "data": {
      "text/plain": "count    18278.000000\nmean        67.303425\nstd          5.880674\nmin         52.000000\n25%         64.000000\n50%         67.000000\n75%         71.000000\nmax         92.000000\nName: overall_2021, dtype: float64"
     },
     "metadata": {},
     "output_type": "execute_result",
     "execution_count": 13
    }
   ],
   "source": [
    "fifa_data_21['overall_2021'].describe()"
   ]
  },
  {
   "cell_type": "code",
   "execution_count": 14,
   "metadata": {
    "pycharm": {
     "is_executing": false
    }
   },
   "outputs": [
    {
     "data": {
      "text/plain": "           count       mean       std   min   25%   50%   75%   max\nposition                                                           \nback      5938.0  67.255978  5.502766  52.0  64.0  67.0  71.0  89.0\nforward   3442.0  67.726031  6.027368  52.0  64.0  67.0  71.0  92.0\nkeeper    2036.0  65.861984  6.514932  52.0  61.0  65.0  70.0  90.0\nmid       6862.0  67.560187  5.859859  52.0  64.0  67.0  71.0  89.0",
      "text/html": "<div>\n<style scoped>\n    .dataframe tbody tr th:only-of-type {\n        vertical-align: middle;\n    }\n\n    .dataframe tbody tr th {\n        vertical-align: top;\n    }\n\n    .dataframe thead th {\n        text-align: right;\n    }\n</style>\n<table border=\"1\" class=\"dataframe\">\n  <thead>\n    <tr style=\"text-align: right;\">\n      <th></th>\n      <th>count</th>\n      <th>mean</th>\n      <th>std</th>\n      <th>min</th>\n      <th>25%</th>\n      <th>50%</th>\n      <th>75%</th>\n      <th>max</th>\n    </tr>\n    <tr>\n      <th>position</th>\n      <th></th>\n      <th></th>\n      <th></th>\n      <th></th>\n      <th></th>\n      <th></th>\n      <th></th>\n      <th></th>\n    </tr>\n  </thead>\n  <tbody>\n    <tr>\n      <td>back</td>\n      <td>5938.0</td>\n      <td>67.255978</td>\n      <td>5.502766</td>\n      <td>52.0</td>\n      <td>64.0</td>\n      <td>67.0</td>\n      <td>71.0</td>\n      <td>89.0</td>\n    </tr>\n    <tr>\n      <td>forward</td>\n      <td>3442.0</td>\n      <td>67.726031</td>\n      <td>6.027368</td>\n      <td>52.0</td>\n      <td>64.0</td>\n      <td>67.0</td>\n      <td>71.0</td>\n      <td>92.0</td>\n    </tr>\n    <tr>\n      <td>keeper</td>\n      <td>2036.0</td>\n      <td>65.861984</td>\n      <td>6.514932</td>\n      <td>52.0</td>\n      <td>61.0</td>\n      <td>65.0</td>\n      <td>70.0</td>\n      <td>90.0</td>\n    </tr>\n    <tr>\n      <td>mid</td>\n      <td>6862.0</td>\n      <td>67.560187</td>\n      <td>5.859859</td>\n      <td>52.0</td>\n      <td>64.0</td>\n      <td>67.0</td>\n      <td>71.0</td>\n      <td>89.0</td>\n    </tr>\n  </tbody>\n</table>\n</div>"
     },
     "metadata": {},
     "output_type": "execute_result",
     "execution_count": 14
    }
   ],
   "source": [
    "fifa_data_21.groupby('position')['overall_2021'].describe()"
   ]
  },
  {
   "cell_type": "code",
   "execution_count": 15,
   "metadata": {
    "pycharm": {
     "is_executing": false
    }
   },
   "outputs": [
    {
     "data": {
      "text/plain": "<matplotlib.axes._subplots.AxesSubplot at 0x21a8bd46320>"
     },
     "metadata": {},
     "output_type": "execute_result",
     "execution_count": 15
    },
    {
     "data": {
      "text/plain": "<Figure size 432x288 with 1 Axes>",
      "image/png": "[encoded data removed]"
     },
     "metadata": {
      "needs_background": "light"
     },
     "output_type": "display_data"
    }
   ],
   "source": [
    "fifa_data_21['overall_2021'].hist(bins=50)"
   ]
  },
  {
   "cell_type": "code",
   "execution_count": 16,
   "metadata": {
    "pycharm": {
     "is_executing": false
    }
   },
   "outputs": [
    {
     "data": {
      "text/plain": "array([[<matplotlib.axes._subplots.AxesSubplot object at 0x0000021A8C178278>,\n        <matplotlib.axes._subplots.AxesSubplot object at 0x0000021A8C1B7828>],\n       [<matplotlib.axes._subplots.AxesSubplot object at 0x0000021A8C1E8DD8>,\n        <matplotlib.axes._subplots.AxesSubplot object at 0x0000021A8C2253C8>]],\n      dtype=object)"
     },
     "metadata": {},
     "output_type": "execute_result",
     "execution_count": 16
    },
    {
     "data": {
      "text/plain": "<Figure size 432x288 with 4 Axes>",
      "image/png": "[encoded data removed]"
     },
     "metadata": {
      "needs_background": "light"
     },
     "output_type": "display_data"
    }
   ],
   "source": [
    "fifa_data_21['overall_2021'].hist(bins=50, by=fifa_data_21['position'])"
   ]
  },
  {
   "cell_type": "markdown",
   "metadata": {},
   "source": [
    "#### Player's Valeu (Eur)"
   ]
  },
  {
   "cell_type": "code",
   "execution_count": 17,
   "metadata": {
    "pycharm": {
     "is_executing": false
    }
   },
   "outputs": [
    {
     "data": {
      "text/plain": "count    1.827800e+04\nmean     1.206927e+06\nstd      1.522208e+06\nmin     -1.365360e+05\n25%      3.616600e+05\n50%      6.153310e+05\n75%      1.364401e+06\nmax      1.747380e+07\nName: value_eur_2021, dtype: float64"
     },
     "metadata": {},
     "output_type": "execute_result",
     "execution_count": 17
    }
   ],
   "source": [
    "fifa_data_21['value_eur_2021'].describe()"
   ]
  },
  {
   "cell_type": "code",
   "execution_count": 18,
   "metadata": {
    "pycharm": {
     "is_executing": false
    }
   },
   "outputs": [
    {
     "data": {
      "text/plain": "           count          mean           std       min        25%       50%  \\\nposition                                                                      \nback      5938.0  1.049056e+06  1.237247e+06 -123079.0  345113.50  547554.0   \nforward   3442.0  1.476386e+06  1.879016e+06  -35964.0  420664.25  760403.5   \nkeeper    2036.0  6.552218e+05  7.129448e+05 -136536.0  264432.75  405468.5   \nmid       6862.0  1.372072e+06  1.658561e+06  -58946.0  404113.00  735447.0   \n\n                 75%         max  \nposition                          \nback      1169489.00  11521064.0  \nforward   1753415.25  17473804.0  \nkeeper     697709.00   5944596.0  \nmid       1599966.25  17092700.0  ",
      "text/html": "<div>\n<style scoped>\n    .dataframe tbody tr th:only-of-type {\n        vertical-align: middle;\n    }\n\n    .dataframe tbody tr th {\n        vertical-align: top;\n    }\n\n    .dataframe thead th {\n        text-align: right;\n    }\n</style>\n<table border=\"1\" class=\"dataframe\">\n  <thead>\n    <tr style=\"text-align: right;\">\n      <th></th>\n      <th>count</th>\n      <th>mean</th>\n      <th>std</th>\n      <th>min</th>\n      <th>25%</th>\n      <th>50%</th>\n      <th>75%</th>\n      <th>max</th>\n    </tr>\n    <tr>\n      <th>position</th>\n      <th></th>\n      <th></th>\n      <th></th>\n      <th></th>\n      <th></th>\n      <th></th>\n      <th></th>\n      <th></th>\n    </tr>\n  </thead>\n  <tbody>\n    <tr>\n      <td>back</td>\n      <td>5938.0</td>\n      <td>1.049056e+06</td>\n      <td>1.237247e+06</td>\n      <td>-123079.0</td>\n      <td>345113.50</td>\n      <td>547554.0</td>\n      <td>1169489.00</td>\n      <td>11521064.0</td>\n    </tr>\n    <tr>\n      <td>forward</td>\n      <td>3442.0</td>\n      <td>1.476386e+06</td>\n      <td>1.879016e+06</td>\n      <td>-35964.0</td>\n      <td>420664.25</td>\n      <td>760403.5</td>\n      <td>1753415.25</td>\n      <td>17473804.0</td>\n    </tr>\n    <tr>\n      <td>keeper</td>\n      <td>2036.0</td>\n      <td>6.552218e+05</td>\n      <td>7.129448e+05</td>\n      <td>-136536.0</td>\n      <td>264432.75</td>\n      <td>405468.5</td>\n      <td>697709.00</td>\n      <td>5944596.0</td>\n    </tr>\n    <tr>\n      <td>mid</td>\n      <td>6862.0</td>\n      <td>1.372072e+06</td>\n      <td>1.658561e+06</td>\n      <td>-58946.0</td>\n      <td>404113.00</td>\n      <td>735447.0</td>\n      <td>1599966.25</td>\n      <td>17092700.0</td>\n    </tr>\n  </tbody>\n</table>\n</div>"
     },
     "metadata": {},
     "output_type": "execute_result",
     "execution_count": 18
    }
   ],
   "source": [
    "fifa_data_21.groupby('position')['value_eur_2021'].describe()"
   ]
  },
  {
   "cell_type": "code",
   "execution_count": 19,
   "metadata": {
    "pycharm": {
     "is_executing": false
    }
   },
   "outputs": [
    {
     "data": {
      "text/plain": "<matplotlib.axes._subplots.AxesSubplot at 0x21a8c482390>"
     },
     "metadata": {},
     "output_type": "execute_result",
     "execution_count": 19
    },
    {
     "data": {
      "text/plain": "<Figure size 432x288 with 1 Axes>",
      "image/png": "[encoded data removed]"
     },
     "metadata": {
      "needs_background": "light"
     },
     "output_type": "display_data"
    }
   ],
   "source": [
    "fifa_data_21['value_eur_2021'].hist(bins=100)"
   ]
  },
  {
   "cell_type": "code",
   "execution_count": 20,
   "metadata": {
    "pycharm": {
     "is_executing": false
    }
   },
   "outputs": [
    {
     "data": {
      "text/plain": "array([[<matplotlib.axes._subplots.AxesSubplot object at 0x0000021A8C496358>,\n        <matplotlib.axes._subplots.AxesSubplot object at 0x0000021A8C670668>],\n       [<matplotlib.axes._subplots.AxesSubplot object at 0x0000021A8C6A1BA8>,\n        <matplotlib.axes._subplots.AxesSubplot object at 0x0000021A8C6E0160>]],\n      dtype=object)"
     },
     "metadata": {},
     "output_type": "execute_result",
     "execution_count": 20
    },
    {
     "data": {
      "text/plain": "<Figure size 432x288 with 4 Axes>",
      "image/png": "[encoded data removed]"
     },
     "metadata": {
      "needs_background": "light"
     },
     "output_type": "display_data"
    }
   ],
   "source": [
    "fifa_data_21['value_eur_2021'].hist(bins=100, by=fifa_data_20['position'])"
   ]
  },
  {
   "cell_type": "code",
   "execution_count": 21,
   "metadata": {
    "pycharm": {
     "is_executing": false
    }
   },
   "outputs": [
    {
     "data": {
      "text/plain": "           count       mean       std   min   25%   50%   75%   max\nposition                                                           \nback      5938.0  66.282587  6.548813  48.0  62.0  66.0  70.0  90.0\nforward   3442.0  66.650784  7.109887  48.0  62.0  66.0  71.0  94.0\nkeeper    2036.0  64.796660  7.603627  48.0  60.0  65.0  70.0  91.0\nmid       6862.0  66.438648  6.950925  48.0  62.0  66.0  71.0  91.0",
      "text/html": "<div>\n<style scoped>\n    .dataframe tbody tr th:only-of-type {\n        vertical-align: middle;\n    }\n\n    .dataframe tbody tr th {\n        vertical-align: top;\n    }\n\n    .dataframe thead th {\n        text-align: right;\n    }\n</style>\n<table border=\"1\" class=\"dataframe\">\n  <thead>\n    <tr style=\"text-align: right;\">\n      <th></th>\n      <th>count</th>\n      <th>mean</th>\n      <th>std</th>\n      <th>min</th>\n      <th>25%</th>\n      <th>50%</th>\n      <th>75%</th>\n      <th>max</th>\n    </tr>\n    <tr>\n      <th>position</th>\n      <th></th>\n      <th></th>\n      <th></th>\n      <th></th>\n      <th></th>\n      <th></th>\n      <th></th>\n      <th></th>\n    </tr>\n  </thead>\n  <tbody>\n    <tr>\n      <td>back</td>\n      <td>5938.0</td>\n      <td>66.282587</td>\n      <td>6.548813</td>\n      <td>48.0</td>\n      <td>62.0</td>\n      <td>66.0</td>\n      <td>70.0</td>\n      <td>90.0</td>\n    </tr>\n    <tr>\n      <td>forward</td>\n      <td>3442.0</td>\n      <td>66.650784</td>\n      <td>7.109887</td>\n      <td>48.0</td>\n      <td>62.0</td>\n      <td>66.0</td>\n      <td>71.0</td>\n      <td>94.0</td>\n    </tr>\n    <tr>\n      <td>keeper</td>\n      <td>2036.0</td>\n      <td>64.796660</td>\n      <td>7.603627</td>\n      <td>48.0</td>\n      <td>60.0</td>\n      <td>65.0</td>\n      <td>70.0</td>\n      <td>91.0</td>\n    </tr>\n    <tr>\n      <td>mid</td>\n      <td>6862.0</td>\n      <td>66.438648</td>\n      <td>6.950925</td>\n      <td>48.0</td>\n      <td>62.0</td>\n      <td>66.0</td>\n      <td>71.0</td>\n      <td>91.0</td>\n    </tr>\n  </tbody>\n</table>\n</div>"
     },
     "metadata": {},
     "output_type": "execute_result",
     "execution_count": 21
    }
   ],
   "source": [
    "fifa_20_overall_stats"
   ]
  },
  {
   "cell_type": "markdown",
   "metadata": {},
   "source": [
    "So we select upper Q of 2020 stats as the referenence in order to rebuild the team"
   ]
  },
  {
   "cell_type": "markdown",
   "metadata": {},
   "source": [
    "### Select which players in Wolverhampton Wanderers are below average"
   ]
  },
  {
   "cell_type": "code",
   "execution_count": 22,
   "metadata": {
    "pycharm": {
     "is_executing": false
    }
   },
   "outputs": [
    {
     "data": {
      "text/plain": "       sofifa_id                                         player_url  \\\n4759      236015  https://sofifa.com/player/236015/morgan-gibbs-...   \n8768      238616  https://sofifa.com/player/238616/pedro-lomba-n...   \n10423     202799  https://sofifa.com/player/202799/jordan-graham...   \n10892     211820  https://sofifa.com/player/211820/phil-ofosu-ay...   \n12283     242980  https://sofifa.com/player/242980/meritan-shaba...   \n12302     228385  https://sofifa.com/player/228385/harry-burgoyn...   \n13199     226800  https://sofifa.com/player/226800/benny-ashley-...   \n13454     236011  https://sofifa.com/player/236011/connor-johnso...   \n14819     245336  https://sofifa.com/player/245336/max-kilman/20...   \n14834     234207  https://sofifa.com/player/234207/john-kitolano...   \n14913     240175  https://sofifa.com/player/240175/bruno-andre-c...   \n16030     229050  https://sofifa.com/player/229050/oskar-buur-ra...   \n16734     243612  https://sofifa.com/player/243612/dion-sanderso...   \n17088     244715  https://sofifa.com/player/244715/taylor-perry/...   \n\n           short_name                    long_name  age         dob  \\\n4759   M. Gibbs-White           Morgan Gibbs-White   19  2000-01-27   \n8768       Pedro Neto             Pedro Lomba Neto   19  2000-03-09   \n10423       J. Graham                Jordan Graham   24  1995-03-05   \n10892   P. Ofosu-Ayeh          Philemon Ofosu-Ayeh   27  1991-09-15   \n12283      M. Shabani              Meritan Shabani   20  1999-03-15   \n12302     H. Burgoyne               Harry Burgoyne   22  1996-12-28   \n13199  B. Ashley-Seal  Bernard Patrick Ashley-Seal   20  1998-11-21   \n13454      C. Johnson               Connor Johnson   21  1998-03-10   \n14819       M. Kilman                   Max Kilman   22  1997-05-23   \n14834     J. Kitolano                John Kitolano   19  1999-10-18   \n14913    Bruno Jordão    Bruno André Cavaco Jordão   20  1998-10-12   \n16030    O. Rasmussen         Oskar Buur Rasmussen   21  1998-03-31   \n16734    D. Sanderson               Dion Sanderson   19  1999-12-15   \n17088        T. Perry                 Taylor Perry   17  2001-07-15   \n\n       height_cm  weight_kg nationality                     club  ...   ldm  \\\n4759         178         70     England  Wolverhampton Wanderers  ...  64+2   \n8768         172         63    Portugal  Wolverhampton Wanderers  ...  40+2   \n10423        182         73     England  Wolverhampton Wanderers  ...  43+2   \n10892        181         81       Ghana  Wolverhampton Wanderers  ...  61+2   \n12283        185         78     Germany  Wolverhampton Wanderers  ...  49+2   \n12302        193         80     England  Wolverhampton Wanderers  ...   NaN   \n13199        187         80     England  Wolverhampton Wanderers  ...  37+2   \n13454        188         78     England  Wolverhampton Wanderers  ...  56+2   \n14819        195         80     England  Wolverhampton Wanderers  ...  57+2   \n14834        174         68      Norway  Wolverhampton Wanderers  ...  53+2   \n14913        180         71    Portugal  Wolverhampton Wanderers  ...  54+2   \n16030        176         70     Denmark  Wolverhampton Wanderers  ...  54+2   \n16734        186         78     England  Wolverhampton Wanderers  ...  53+2   \n17088        180         73     England  Wolverhampton Wanderers  ...  52+2   \n\n        cdm   rdm   rwb    lb   lcb    cb   rcb    rb position  \n4759   64+2  64+2  63+2  62+2  59+2  59+2  59+2  62+2      mid  \n8768   40+2  40+2  44+2  41+2  33+2  33+2  33+2  41+2  forward  \n10423  43+2  43+2  49+2  45+2  36+2  36+2  36+2  45+2      mid  \n10892  61+2  61+2  63+2  64+2  64+2  64+2  64+2  64+2     back  \n12283  49+2  49+2  48+2  46+2  42+2  42+2  42+2  46+2      mid  \n12302   NaN   NaN   NaN   NaN   NaN   NaN   NaN   NaN   keeper  \n13199  37+2  37+2  40+2  39+2  37+2  37+2  37+2  39+2  forward  \n13454  56+2  56+2  55+2  56+2  60+2  60+2  60+2  56+2     back  \n14819  57+2  57+2  58+2  58+2  58+2  58+2  58+2  58+2     back  \n14834  53+2  53+2  58+2  58+2  53+2  53+2  53+2  58+2     back  \n14913  54+2  54+2  51+2  49+2  49+2  49+2  49+2  49+2      mid  \n16030  54+2  54+2  56+2  55+2  51+2  51+2  51+2  55+2     back  \n16734  53+2  53+2  55+2  55+2  55+2  55+2  55+2  55+2     back  \n17088  52+2  52+2  52+2  51+2  50+2  50+2  50+2  51+2      mid  \n\n[14 rows x 105 columns]",
      "text/html": "<div>\n<style scoped>\n    .dataframe tbody tr th:only-of-type {\n        vertical-align: middle;\n    }\n\n    .dataframe tbody tr th {\n        vertical-align: top;\n    }\n\n    .dataframe thead th {\n        text-align: right;\n    }\n</style>\n<table border=\"1\" class=\"dataframe\">\n  <thead>\n    <tr style=\"text-align: right;\">\n      <th></th>\n      <th>sofifa_id</th>\n      <th>player_url</th>\n      <th>short_name</th>\n      <th>long_name</th>\n      <th>age</th>\n      <th>dob</th>\n      <th>height_cm</th>\n      <th>weight_kg</th>\n      <th>nationality</th>\n      <th>club</th>\n      <th>...</th>\n      <th>ldm</th>\n      <th>cdm</th>\n      <th>rdm</th>\n      <th>rwb</th>\n      <th>lb</th>\n      <th>lcb</th>\n      <th>cb</th>\n      <th>rcb</th>\n      <th>rb</th>\n      <th>position</th>\n    </tr>\n  </thead>\n  <tbody>\n    <tr>\n      <td>4759</td>\n      <td>236015</td>\n      <td>https://sofifa.com/player/236015/morgan-gibbs-...</td>\n      <td>M. Gibbs-White</td>\n      <td>Morgan Gibbs-White</td>\n      <td>19</td>\n      <td>2000-01-27</td>\n      <td>178</td>\n      <td>70</td>\n      <td>England</td>\n      <td>Wolverhampton Wanderers</td>\n      <td>...</td>\n      <td>64+2</td>\n      <td>64+2</td>\n      <td>64+2</td>\n      <td>63+2</td>\n      <td>62+2</td>\n      <td>59+2</td>\n      <td>59+2</td>\n      <td>59+2</td>\n      <td>62+2</td>\n      <td>mid</td>\n    </tr>\n    <tr>\n      <td>8768</td>\n      <td>238616</td>\n      <td>https://sofifa.com/player/238616/pedro-lomba-n...</td>\n      <td>Pedro Neto</td>\n      <td>Pedro Lomba Neto</td>\n      <td>19</td>\n      <td>2000-03-09</td>\n      <td>172</td>\n      <td>63</td>\n      <td>Portugal</td>\n      <td>Wolverhampton Wanderers</td>\n      <td>...</td>\n      <td>40+2</td>\n      <td>40+2</td>\n      <td>40+2</td>\n      <td>44+2</td>\n      <td>41+2</td>\n      <td>33+2</td>\n      <td>33+2</td>\n      <td>33+2</td>\n      <td>41+2</td>\n      <td>forward</td>\n    </tr>\n    <tr>\n      <td>10423</td>\n      <td>202799</td>\n      <td>https://sofifa.com/player/202799/jordan-graham...</td>\n      <td>J. Graham</td>\n      <td>Jordan Graham</td>\n      <td>24</td>\n      <td>1995-03-05</td>\n      <td>182</td>\n      <td>73</td>\n      <td>England</td>\n      <td>Wolverhampton Wanderers</td>\n      <td>...</td>\n      <td>43+2</td>\n      <td>43+2</td>\n      <td>43+2</td>\n      <td>49+2</td>\n      <td>45+2</td>\n      <td>36+2</td>\n      <td>36+2</td>\n      <td>36+2</td>\n      <td>45+2</td>\n      <td>mid</td>\n    </tr>\n    <tr>\n      <td>10892</td>\n      <td>211820</td>\n      <td>https://sofifa.com/player/211820/phil-ofosu-ay...</td>\n      <td>P. Ofosu-Ayeh</td>\n      <td>Philemon Ofosu-Ayeh</td>\n      <td>27</td>\n      <td>1991-09-15</td>\n      <td>181</td>\n      <td>81</td>\n      <td>Ghana</td>\n      <td>Wolverhampton Wanderers</td>\n      <td>...</td>\n      <td>61+2</td>\n      <td>61+2</td>\n      <td>61+2</td>\n      <td>63+2</td>\n      <td>64+2</td>\n      <td>64+2</td>\n      <td>64+2</td>\n      <td>64+2</td>\n      <td>64+2</td>\n      <td>back</td>\n    </tr>\n    <tr>\n      <td>12283</td>\n      <td>242980</td>\n      <td>https://sofifa.com/player/242980/meritan-shaba...</td>\n      <td>M. Shabani</td>\n      <td>Meritan Shabani</td>\n      <td>20</td>\n      <td>1999-03-15</td>\n      <td>185</td>\n      <td>78</td>\n      <td>Germany</td>\n      <td>Wolverhampton Wanderers</td>\n      <td>...</td>\n      <td>49+2</td>\n      <td>49+2</td>\n      <td>49+2</td>\n      <td>48+2</td>\n      <td>46+2</td>\n      <td>42+2</td>\n      <td>42+2</td>\n      <td>42+2</td>\n      <td>46+2</td>\n      <td>mid</td>\n    </tr>\n    <tr>\n      <td>12302</td>\n      <td>228385</td>\n      <td>https://sofifa.com/player/228385/harry-burgoyn...</td>\n      <td>H. Burgoyne</td>\n      <td>Harry Burgoyne</td>\n      <td>22</td>\n      <td>1996-12-28</td>\n      <td>193</td>\n      <td>80</td>\n      <td>England</td>\n      <td>Wolverhampton Wanderers</td>\n      <td>...</td>\n      <td>NaN</td>\n      <td>NaN</td>\n      <td>NaN</td>\n      <td>NaN</td>\n      <td>NaN</td>\n      <td>NaN</td>\n      <td>NaN</td>\n      <td>NaN</td>\n      <td>NaN</td>\n      <td>keeper</td>\n    </tr>\n    <tr>\n      <td>13199</td>\n      <td>226800</td>\n      <td>https://sofifa.com/player/226800/benny-ashley-...</td>\n      <td>B. Ashley-Seal</td>\n      <td>Bernard Patrick Ashley-Seal</td>\n      <td>20</td>\n      <td>1998-11-21</td>\n      <td>187</td>\n      <td>80</td>\n      <td>England</td>\n      <td>Wolverhampton Wanderers</td>\n      <td>...</td>\n      <td>37+2</td>\n      <td>37+2</td>\n      <td>37+2</td>\n      <td>40+2</td>\n      <td>39+2</td>\n      <td>37+2</td>\n      <td>37+2</td>\n      <td>37+2</td>\n      <td>39+2</td>\n      <td>forward</td>\n    </tr>\n    <tr>\n      <td>13454</td>\n      <td>236011</td>\n      <td>https://sofifa.com/player/236011/connor-johnso...</td>\n      <td>C. Johnson</td>\n      <td>Connor Johnson</td>\n      <td>21</td>\n      <td>1998-03-10</td>\n      <td>188</td>\n      <td>78</td>\n      <td>England</td>\n      <td>Wolverhampton Wanderers</td>\n      <td>...</td>\n      <td>56+2</td>\n      <td>56+2</td>\n      <td>56+2</td>\n      <td>55+2</td>\n      <td>56+2</td>\n      <td>60+2</td>\n      <td>60+2</td>\n      <td>60+2</td>\n      <td>56+2</td>\n      <td>back</td>\n    </tr>\n    <tr>\n      <td>14819</td>\n      <td>245336</td>\n      <td>https://sofifa.com/player/245336/max-kilman/20...</td>\n      <td>M. Kilman</td>\n      <td>Max Kilman</td>\n      <td>22</td>\n      <td>1997-05-23</td>\n      <td>195</td>\n      <td>80</td>\n      <td>England</td>\n      <td>Wolverhampton Wanderers</td>\n      <td>...</td>\n      <td>57+2</td>\n      <td>57+2</td>\n      <td>57+2</td>\n      <td>58+2</td>\n      <td>58+2</td>\n      <td>58+2</td>\n      <td>58+2</td>\n      <td>58+2</td>\n      <td>58+2</td>\n      <td>back</td>\n    </tr>\n    <tr>\n      <td>14834</td>\n      <td>234207</td>\n      <td>https://sofifa.com/player/234207/john-kitolano...</td>\n      <td>J. Kitolano</td>\n      <td>John Kitolano</td>\n      <td>19</td>\n      <td>1999-10-18</td>\n      <td>174</td>\n      <td>68</td>\n      <td>Norway</td>\n      <td>Wolverhampton Wanderers</td>\n      <td>...</td>\n      <td>53+2</td>\n      <td>53+2</td>\n      <td>53+2</td>\n      <td>58+2</td>\n      <td>58+2</td>\n      <td>53+2</td>\n      <td>53+2</td>\n      <td>53+2</td>\n      <td>58+2</td>\n      <td>back</td>\n    </tr>\n    <tr>\n      <td>14913</td>\n      <td>240175</td>\n      <td>https://sofifa.com/player/240175/bruno-andre-c...</td>\n      <td>Bruno Jordão</td>\n      <td>Bruno André Cavaco Jordão</td>\n      <td>20</td>\n      <td>1998-10-12</td>\n      <td>180</td>\n      <td>71</td>\n      <td>Portugal</td>\n      <td>Wolverhampton Wanderers</td>\n      <td>...</td>\n      <td>54+2</td>\n      <td>54+2</td>\n      <td>54+2</td>\n      <td>51+2</td>\n      <td>49+2</td>\n      <td>49+2</td>\n      <td>49+2</td>\n      <td>49+2</td>\n      <td>49+2</td>\n      <td>mid</td>\n    </tr>\n    <tr>\n      <td>16030</td>\n      <td>229050</td>\n      <td>https://sofifa.com/player/229050/oskar-buur-ra...</td>\n      <td>O. Rasmussen</td>\n      <td>Oskar Buur Rasmussen</td>\n      <td>21</td>\n      <td>1998-03-31</td>\n      <td>176</td>\n      <td>70</td>\n      <td>Denmark</td>\n      <td>Wolverhampton Wanderers</td>\n      <td>...</td>\n      <td>54+2</td>\n      <td>54+2</td>\n      <td>54+2</td>\n      <td>56+2</td>\n      <td>55+2</td>\n      <td>51+2</td>\n      <td>51+2</td>\n      <td>51+2</td>\n      <td>55+2</td>\n      <td>back</td>\n    </tr>\n    <tr>\n      <td>16734</td>\n      <td>243612</td>\n      <td>https://sofifa.com/player/243612/dion-sanderso...</td>\n      <td>D. Sanderson</td>\n      <td>Dion Sanderson</td>\n      <td>19</td>\n      <td>1999-12-15</td>\n      <td>186</td>\n      <td>78</td>\n      <td>England</td>\n      <td>Wolverhampton Wanderers</td>\n      <td>...</td>\n      <td>53+2</td>\n      <td>53+2</td>\n      <td>53+2</td>\n      <td>55+2</td>\n      <td>55+2</td>\n      <td>55+2</td>\n      <td>55+2</td>\n      <td>55+2</td>\n      <td>55+2</td>\n      <td>back</td>\n    </tr>\n    <tr>\n      <td>17088</td>\n      <td>244715</td>\n      <td>https://sofifa.com/player/244715/taylor-perry/...</td>\n      <td>T. Perry</td>\n      <td>Taylor Perry</td>\n      <td>17</td>\n      <td>2001-07-15</td>\n      <td>180</td>\n      <td>73</td>\n      <td>England</td>\n      <td>Wolverhampton Wanderers</td>\n      <td>...</td>\n      <td>52+2</td>\n      <td>52+2</td>\n      <td>52+2</td>\n      <td>52+2</td>\n      <td>51+2</td>\n      <td>50+2</td>\n      <td>50+2</td>\n      <td>50+2</td>\n      <td>51+2</td>\n      <td>mid</td>\n    </tr>\n  </tbody>\n</table>\n<p>14 rows × 105 columns</p>\n</div>"
     },
     "metadata": {},
     "output_type": "execute_result",
     "execution_count": 22
    }
   ],
   "source": [
    "fifa_data_20_Wolverhampton = fifa_data_20[fifa_data_20.club == \"Wolverhampton Wanderers\"]\n",
    "fifa_data_20_Wolverhampton_below_average = fifa_data_20_Wolverhampton[\n",
    "    ((fifa_data_20_Wolverhampton.overall < fifa_20_overall_stats.loc[\"forward\"]['75%']) & (fifa_data_20_Wolverhampton.position == \"forward\")) |\n",
    "    ((fifa_data_20_Wolverhampton.overall < fifa_20_overall_stats.loc[\"mid\"]['75%']) & (fifa_data_20_Wolverhampton.position == \"mid\")) | \n",
    "    ((fifa_data_20_Wolverhampton.overall < fifa_20_overall_stats.loc[\"keeper\"]['75%']) & (fifa_data_20_Wolverhampton.position == \"keeper\")) | \n",
    "    ((fifa_data_20_Wolverhampton.overall < fifa_20_overall_stats.loc[\"back\"]['75%']) & (fifa_data_20_Wolverhampton.position == \"back\"))\n",
    "]\n",
    "fifa_data_20_Wolverhampton_below_average.head(30)"
   ]
  },
  {
   "cell_type": "markdown",
   "metadata": {},
   "source": [
    "### Below average players stats"
   ]
  },
  {
   "cell_type": "code",
   "execution_count": 23,
   "metadata": {
    "pycharm": {
     "is_executing": false
    }
   },
   "outputs": [
    {
     "data": {
      "text/plain": "          count       mean           std       min       25%        50%  \\\nposition                                                                  \nback        6.0   327500.0  1.138749e+05  180000.0  238750.0   350000.0   \nforward     2.0  1037500.0  5.126524e+05  675000.0  856250.0  1037500.0   \nkeeper      1.0   525000.0           NaN  525000.0  525000.0   525000.0   \nmid         5.0  1137000.0  1.507264e+06  160000.0  325000.0   700000.0   \n\n                75%        max  \nposition                        \nback       393750.0   475000.0  \nforward   1218750.0  1400000.0  \nkeeper     525000.0   525000.0  \nmid        700000.0  3800000.0  ",
      "text/html": "<div>\n<style scoped>\n    .dataframe tbody tr th:only-of-type {\n        vertical-align: middle;\n    }\n\n    .dataframe tbody tr th {\n        vertical-align: top;\n    }\n\n    .dataframe thead th {\n        text-align: right;\n    }\n</style>\n<table border=\"1\" class=\"dataframe\">\n  <thead>\n    <tr style=\"text-align: right;\">\n      <th></th>\n      <th>count</th>\n      <th>mean</th>\n      <th>std</th>\n      <th>min</th>\n      <th>25%</th>\n      <th>50%</th>\n      <th>75%</th>\n      <th>max</th>\n    </tr>\n    <tr>\n      <th>position</th>\n      <th></th>\n      <th></th>\n      <th></th>\n      <th></th>\n      <th></th>\n      <th></th>\n      <th></th>\n      <th></th>\n    </tr>\n  </thead>\n  <tbody>\n    <tr>\n      <td>back</td>\n      <td>6.0</td>\n      <td>327500.0</td>\n      <td>1.138749e+05</td>\n      <td>180000.0</td>\n      <td>238750.0</td>\n      <td>350000.0</td>\n      <td>393750.0</td>\n      <td>475000.0</td>\n    </tr>\n    <tr>\n      <td>forward</td>\n      <td>2.0</td>\n      <td>1037500.0</td>\n      <td>5.126524e+05</td>\n      <td>675000.0</td>\n      <td>856250.0</td>\n      <td>1037500.0</td>\n      <td>1218750.0</td>\n      <td>1400000.0</td>\n    </tr>\n    <tr>\n      <td>keeper</td>\n      <td>1.0</td>\n      <td>525000.0</td>\n      <td>NaN</td>\n      <td>525000.0</td>\n      <td>525000.0</td>\n      <td>525000.0</td>\n      <td>525000.0</td>\n      <td>525000.0</td>\n    </tr>\n    <tr>\n      <td>mid</td>\n      <td>5.0</td>\n      <td>1137000.0</td>\n      <td>1.507264e+06</td>\n      <td>160000.0</td>\n      <td>325000.0</td>\n      <td>700000.0</td>\n      <td>700000.0</td>\n      <td>3800000.0</td>\n    </tr>\n  </tbody>\n</table>\n</div>"
     },
     "metadata": {},
     "output_type": "execute_result",
     "execution_count": 23
    }
   ],
   "source": [
    "below_players_stats = fifa_data_20_Wolverhampton_below_average.groupby('position')['value_eur'].describe()\n",
    "below_players_stats.head()"
   ]
  },
  {
   "cell_type": "markdown",
   "metadata": {},
   "source": [
    "### Calculate Prepared Money for rebuilding the team based on 2021 data and selling the below average players"
   ]
  },
  {
   "cell_type": "code",
   "execution_count": 24,
   "metadata": {
    "pycharm": {
     "is_executing": false
    }
   },
   "outputs": [
    {
     "data": {
      "text/plain": "{'forward': 5581830.5,\n 'mid': 13684831.25,\n 'back': 8981934.0,\n 'keeper': 1222709.0}"
     },
     "metadata": {},
     "output_type": "execute_result",
     "execution_count": 24
    }
   ],
   "source": [
    "value_eur_2021 = fifa_data_21.groupby('position')['value_eur_2021'].describe()\n",
    "total_prepared_money = dict()\n",
    "for p in ['forward', 'mid', 'back', 'keeper']:\n",
    "    total_prepared_money[p] = value_eur_2021.loc[p]['75%'] * below_players_stats.loc[p]['count'] + \\\n",
    "                below_players_stats.loc[p]['count'] * below_players_stats.loc[p]['mean']\n",
    "total_prepared_money\n"
   ]
  },
  {
   "cell_type": "markdown",
   "metadata": {},
   "source": [
    "### Forward Choice"
   ]
  },
  {
   "cell_type": "code",
   "execution_count": 25,
   "metadata": {
    "pycharm": {
     "is_executing": false
    }
   },
   "outputs": [
    {
     "data": {
      "text/plain": "     sofifa_id  overall_2021 position  value_eur_2021\n141     181783          83.0  forward       4447044.0\n138     180930          83.0  forward       4279796.0\n96       41236          83.0  forward       3269634.0\n309     189505          82.0  forward       4322404.0\n301     184941          82.0  forward       4933639.0",
      "text/html": "<div>\n<style scoped>\n    .dataframe tbody tr th:only-of-type {\n        vertical-align: middle;\n    }\n\n    .dataframe tbody tr th {\n        vertical-align: top;\n    }\n\n    .dataframe thead th {\n        text-align: right;\n    }\n</style>\n<table border=\"1\" class=\"dataframe\">\n  <thead>\n    <tr style=\"text-align: right;\">\n      <th></th>\n      <th>sofifa_id</th>\n      <th>overall_2021</th>\n      <th>position</th>\n      <th>value_eur_2021</th>\n    </tr>\n  </thead>\n  <tbody>\n    <tr>\n      <td>141</td>\n      <td>181783</td>\n      <td>83.0</td>\n      <td>forward</td>\n      <td>4447044.0</td>\n    </tr>\n    <tr>\n      <td>138</td>\n      <td>180930</td>\n      <td>83.0</td>\n      <td>forward</td>\n      <td>4279796.0</td>\n    </tr>\n    <tr>\n      <td>96</td>\n      <td>41236</td>\n      <td>83.0</td>\n      <td>forward</td>\n      <td>3269634.0</td>\n    </tr>\n    <tr>\n      <td>309</td>\n      <td>189505</td>\n      <td>82.0</td>\n      <td>forward</td>\n      <td>4322404.0</td>\n    </tr>\n    <tr>\n      <td>301</td>\n      <td>184941</td>\n      <td>82.0</td>\n      <td>forward</td>\n      <td>4933639.0</td>\n    </tr>\n  </tbody>\n</table>\n</div>"
     },
     "metadata": {},
     "output_type": "execute_result",
     "execution_count": 25
    }
   ],
   "source": [
    "fifa_data_21_sorted = fifa_data_21.sort_values(by=['overall_2021'], ascending=False)\n",
    "fifa_data_21_sorted_forward = fifa_data_21_sorted[(fifa_data_21_sorted.position == 'forward') & \\\n",
    "                                                  (fifa_data_21_sorted.value_eur_2021 < total_prepared_money['forward']) & \\\n",
    "                                                  (fifa_data_21_sorted.overall_2021 >= fifa_20_overall_stats.loc[\"forward\"]['75%'])]\n",
    "fifa_data_21_sorted_forward.head()"
   ]
  },
  {
   "cell_type": "code",
   "execution_count": 26,
   "metadata": {
    "pycharm": {
     "is_executing": false
    }
   },
   "outputs": [],
   "source": [
    "forward_choices = []\n",
    "value_temp = total_prepared_money['forward']\n",
    "times = below_players_stats.loc['forward']['count']\n",
    "\n",
    "for row in fifa_data_21_sorted_forward.itertuples():\n",
    "    choices = []\n",
    "    choices.append(row)\n",
    "    value_temp = value_temp - row.value_eur_2021\n",
    "    \n",
    "    for r in fifa_data_21_sorted_forward.itertuples():\n",
    "        if r.sofifa_id not in [x.sofifa_id for x in choices]:\n",
    "            if value_temp >= r.value_eur_2021:\n",
    "                choices.append(r)\n",
    "                time_temp = times\n",
    "                if len(choices) == times:\n",
    "                    total_overall = sum([x.overall_2021 for x in choices])\n",
    "                    total_money = sum([x.value_eur_2021 for x in choices])\n",
    "                    choices.append(total_overall)\n",
    "                    choices.append(total_money)\n",
    "                    forward_choices.append(choices)\n",
    "                    break\n",
    "        \n",
    "    wage_temp = total_prepared_money['forward']"
   ]
  },
  {
   "cell_type": "code",
   "execution_count": 27,
   "metadata": {
    "pycharm": {
     "is_executing": false
    }
   },
   "outputs": [
    {
     "data": {
      "text/plain": "                                  player_0  \\\n0  (141, 181783, 83.0, forward, 4447044.0)   \n\n                                  player_1  total_overall  total_money  \n0  (372, 142707, 80.0, forward, 1085039.0)          163.0    5532083.0  ",
      "text/html": "<div>\n<style scoped>\n    .dataframe tbody tr th:only-of-type {\n        vertical-align: middle;\n    }\n\n    .dataframe tbody tr th {\n        vertical-align: top;\n    }\n\n    .dataframe thead th {\n        text-align: right;\n    }\n</style>\n<table border=\"1\" class=\"dataframe\">\n  <thead>\n    <tr style=\"text-align: right;\">\n      <th></th>\n      <th>player_0</th>\n      <th>player_1</th>\n      <th>total_overall</th>\n      <th>total_money</th>\n    </tr>\n  </thead>\n  <tbody>\n    <tr>\n      <td>0</td>\n      <td>(141, 181783, 83.0, forward, 4447044.0)</td>\n      <td>(372, 142707, 80.0, forward, 1085039.0)</td>\n      <td>163.0</td>\n      <td>5532083.0</td>\n    </tr>\n  </tbody>\n</table>\n</div>"
     },
     "metadata": {},
     "output_type": "execute_result",
     "execution_count": 27
    }
   ],
   "source": [
    "columns=[\"player_%s\" % str(x) for x in range(int(times))]\n",
    "columns.append(\"total_overall\")\n",
    "columns.append(\"total_money\")\n",
    "forward_choices_df = pd.DataFrame(data=forward_choices, columns=columns)\n",
    "forward_choices_df = forward_choices_df.sort_values(by=['total_overall'], ascending=False)\n",
    "forward_choices_df.head()"
   ]
  },
  {
   "cell_type": "markdown",
   "metadata": {
    "pycharm": {
     "is_executing": true
    }
   },
   "source": [
    "#### Best choices of forward"
   ]
  },
  {
   "cell_type": "code",
   "execution_count": 28,
   "metadata": {
    "pycharm": {
     "is_executing": false
    }
   },
   "outputs": [
    {
     "data": {
      "text/plain": "     sofifa_id                                         player_url  \\\n141     181783  https://sofifa.com/player/181783/mario-mandzuk...   \n372     142707  https://sofifa.com/player/142707/lisandro-lope...   \n\n       short_name        long_name  age         dob  height_cm  weight_kg  \\\n141  M. Mandžukić  Mario Mandžukić   33  1986-05-21        190         85   \n372      L. López   Lisandro López   36  1983-03-02        174         72   \n\n    nationality         club  ...   ldm   cdm   rdm   rwb    lb   lcb    cb  \\\n141     Croatia     Juventus  ...  72+3  72+3  72+3  71+3  70+3  72+3  72+3   \n372   Argentina  Racing Club  ...  63+2  63+2  63+2  62+2  60+2  59+2  59+2   \n\n      rcb    rb position  \n141  72+3  70+3  forward  \n372  59+2  60+2  forward  \n\n[2 rows x 105 columns]",
      "text/html": "<div>\n<style scoped>\n    .dataframe tbody tr th:only-of-type {\n        vertical-align: middle;\n    }\n\n    .dataframe tbody tr th {\n        vertical-align: top;\n    }\n\n    .dataframe thead th {\n        text-align: right;\n    }\n</style>\n<table border=\"1\" class=\"dataframe\">\n  <thead>\n    <tr style=\"text-align: right;\">\n      <th></th>\n      <th>sofifa_id</th>\n      <th>player_url</th>\n      <th>short_name</th>\n      <th>long_name</th>\n      <th>age</th>\n      <th>dob</th>\n      <th>height_cm</th>\n      <th>weight_kg</th>\n      <th>nationality</th>\n      <th>club</th>\n      <th>...</th>\n      <th>ldm</th>\n      <th>cdm</th>\n      <th>rdm</th>\n      <th>rwb</th>\n      <th>lb</th>\n      <th>lcb</th>\n      <th>cb</th>\n      <th>rcb</th>\n      <th>rb</th>\n      <th>position</th>\n    </tr>\n  </thead>\n  <tbody>\n    <tr>\n      <td>141</td>\n      <td>181783</td>\n      <td>https://sofifa.com/player/181783/mario-mandzuk...</td>\n      <td>M. Mandžukić</td>\n      <td>Mario Mandžukić</td>\n      <td>33</td>\n      <td>1986-05-21</td>\n      <td>190</td>\n      <td>85</td>\n      <td>Croatia</td>\n      <td>Juventus</td>\n      <td>...</td>\n      <td>72+3</td>\n      <td>72+3</td>\n      <td>72+3</td>\n      <td>71+3</td>\n      <td>70+3</td>\n      <td>72+3</td>\n      <td>72+3</td>\n      <td>72+3</td>\n      <td>70+3</td>\n      <td>forward</td>\n    </tr>\n    <tr>\n      <td>372</td>\n      <td>142707</td>\n      <td>https://sofifa.com/player/142707/lisandro-lope...</td>\n      <td>L. López</td>\n      <td>Lisandro López</td>\n      <td>36</td>\n      <td>1983-03-02</td>\n      <td>174</td>\n      <td>72</td>\n      <td>Argentina</td>\n      <td>Racing Club</td>\n      <td>...</td>\n      <td>63+2</td>\n      <td>63+2</td>\n      <td>63+2</td>\n      <td>62+2</td>\n      <td>60+2</td>\n      <td>59+2</td>\n      <td>59+2</td>\n      <td>59+2</td>\n      <td>60+2</td>\n      <td>forward</td>\n    </tr>\n  </tbody>\n</table>\n<p>2 rows × 105 columns</p>\n</div>"
     },
     "metadata": {},
     "output_type": "execute_result",
     "execution_count": 28
    }
   ],
   "source": [
    "fifa_data_20_forward_buy = fifa_data_20[fifa_data_20['sofifa_id'] \\\n",
    "                                        .isin([int(forward_choices_df.iloc[0][\"player_%s\" % str(x)].sofifa_id) for x in range(int(times))])]\n",
    "fifa_data_20_forward_buy"
   ]
  },
  {
   "cell_type": "markdown",
   "metadata": {},
   "source": [
    "### Mid Choice"
   ]
  },
  {
   "cell_type": "code",
   "execution_count": 29,
   "metadata": {
    "pycharm": {
     "is_executing": false
    }
   },
   "outputs": [
    {
     "data": {
      "text/plain": "    sofifa_id  overall_2021 position  value_eur_2021\n8      177003          89.0      mid       8935888.0\n5      192985          89.0      mid      13457700.0\n24     195864          88.0      mid      11808816.0\n21     189511          88.0      mid       9680340.0\n15     215914          88.0      mid      10466618.0",
      "text/html": "<div>\n<style scoped>\n    .dataframe tbody tr th:only-of-type {\n        vertical-align: middle;\n    }\n\n    .dataframe tbody tr th {\n        vertical-align: top;\n    }\n\n    .dataframe thead th {\n        text-align: right;\n    }\n</style>\n<table border=\"1\" class=\"dataframe\">\n  <thead>\n    <tr style=\"text-align: right;\">\n      <th></th>\n      <th>sofifa_id</th>\n      <th>overall_2021</th>\n      <th>position</th>\n      <th>value_eur_2021</th>\n    </tr>\n  </thead>\n  <tbody>\n    <tr>\n      <td>8</td>\n      <td>177003</td>\n      <td>89.0</td>\n      <td>mid</td>\n      <td>8935888.0</td>\n    </tr>\n    <tr>\n      <td>5</td>\n      <td>192985</td>\n      <td>89.0</td>\n      <td>mid</td>\n      <td>13457700.0</td>\n    </tr>\n    <tr>\n      <td>24</td>\n      <td>195864</td>\n      <td>88.0</td>\n      <td>mid</td>\n      <td>11808816.0</td>\n    </tr>\n    <tr>\n      <td>21</td>\n      <td>189511</td>\n      <td>88.0</td>\n      <td>mid</td>\n      <td>9680340.0</td>\n    </tr>\n    <tr>\n      <td>15</td>\n      <td>215914</td>\n      <td>88.0</td>\n      <td>mid</td>\n      <td>10466618.0</td>\n    </tr>\n  </tbody>\n</table>\n</div>"
     },
     "metadata": {},
     "output_type": "execute_result",
     "execution_count": 29
    }
   ],
   "source": [
    "fifa_data_21_sorted = fifa_data_21.sort_values(by=['overall_2021'], ascending=False)\n",
    "fifa_data_21_sorted_mid = fifa_data_21_sorted[(fifa_data_21_sorted.position == 'mid') & \\\n",
    "                                                  (fifa_data_21_sorted.value_eur_2021 < total_prepared_money['mid']) & \\\n",
    "                                                  (fifa_data_21_sorted.overall_2021 >= fifa_20_overall_stats.loc[\"mid\"]['75%'])]\n",
    "fifa_data_21_sorted_mid.head()"
   ]
  },
  {
   "cell_type": "code",
   "execution_count": 30,
   "metadata": {
    "pycharm": {
     "is_executing": false
    }
   },
   "outputs": [],
   "source": [
    "mid_choices = []\n",
    "money_temp = total_prepared_money['mid']\n",
    "times = below_players_stats.loc['mid']['count']\n",
    "\n",
    "for row in fifa_data_21_sorted_mid.itertuples():\n",
    "    choices = []\n",
    "    choices.append(row)\n",
    "    wage_temp = money_temp - row.value_eur_2021\n",
    "    \n",
    "    for r in fifa_data_21_sorted_mid.itertuples():\n",
    "        if r.sofifa_id not in [x.sofifa_id for x in choices]:\n",
    "            if money_temp >= r.value_eur_2021:\n",
    "                choices.append(r)\n",
    "                time_temp = times\n",
    "                if len(choices) == times:\n",
    "                    total_overall = sum([x.overall_2021 for x in choices])\n",
    "                    total_money = sum([x.value_eur_2021 for x in choices])\n",
    "                    choices.append(total_overall)\n",
    "                    choices.append(total_money)\n",
    "                    mid_choices.append(choices)\n",
    "                    break\n",
    "        \n",
    "    wage_temp = total_prepared_money['mid']"
   ]
  },
  {
   "cell_type": "code",
   "execution_count": 31,
   "metadata": {
    "pycharm": {
     "is_executing": false
    }
   },
   "outputs": [
    {
     "data": {
      "text/plain": "                              player_0                            player_1  \\\n0    (8, 177003, 89.0, mid, 8935888.0)  (5, 192985, 89.0, mid, 13457700.0)   \n2  (24, 195864, 88.0, mid, 11808816.0)   (8, 177003, 89.0, mid, 8935888.0)   \n3   (21, 189511, 88.0, mid, 9680340.0)   (8, 177003, 89.0, mid, 8935888.0)   \n4  (15, 215914, 88.0, mid, 10466618.0)   (8, 177003, 89.0, mid, 8935888.0)   \n1   (5, 192985, 89.0, mid, 13457700.0)   (8, 177003, 89.0, mid, 8935888.0)   \n\n                              player_2                             player_3  \\\n0  (24, 195864, 88.0, mid, 11808816.0)   (21, 189511, 88.0, mid, 9680340.0)   \n2   (5, 192985, 89.0, mid, 13457700.0)   (21, 189511, 88.0, mid, 9680340.0)   \n3   (5, 192985, 89.0, mid, 13457700.0)  (24, 195864, 88.0, mid, 11808816.0)   \n4   (5, 192985, 89.0, mid, 13457700.0)  (24, 195864, 88.0, mid, 11808816.0)   \n1  (24, 195864, 88.0, mid, 11808816.0)   (21, 189511, 88.0, mid, 9680340.0)   \n\n                              player_4  total_overall  total_money  \n0  (15, 215914, 88.0, mid, 10466618.0)          442.0   54349362.0  \n2  (15, 215914, 88.0, mid, 10466618.0)          442.0   54349362.0  \n3  (15, 215914, 88.0, mid, 10466618.0)          442.0   54349362.0  \n4   (21, 189511, 88.0, mid, 9680340.0)          442.0   54349362.0  \n1  (15, 215914, 88.0, mid, 10466618.0)          442.0   54349362.0  ",
      "text/html": "<div>\n<style scoped>\n    .dataframe tbody tr th:only-of-type {\n        vertical-align: middle;\n    }\n\n    .dataframe tbody tr th {\n        vertical-align: top;\n    }\n\n    .dataframe thead th {\n        text-align: right;\n    }\n</style>\n<table border=\"1\" class=\"dataframe\">\n  <thead>\n    <tr style=\"text-align: right;\">\n      <th></th>\n      <th>player_0</th>\n      <th>player_1</th>\n      <th>player_2</th>\n      <th>player_3</th>\n      <th>player_4</th>\n      <th>total_overall</th>\n      <th>total_money</th>\n    </tr>\n  </thead>\n  <tbody>\n    <tr>\n      <td>0</td>\n      <td>(8, 177003, 89.0, mid, 8935888.0)</td>\n      <td>(5, 192985, 89.0, mid, 13457700.0)</td>\n      <td>(24, 195864, 88.0, mid, 11808816.0)</td>\n      <td>(21, 189511, 88.0, mid, 9680340.0)</td>\n      <td>(15, 215914, 88.0, mid, 10466618.0)</td>\n      <td>442.0</td>\n      <td>54349362.0</td>\n    </tr>\n    <tr>\n      <td>2</td>\n      <td>(24, 195864, 88.0, mid, 11808816.0)</td>\n      <td>(8, 177003, 89.0, mid, 8935888.0)</td>\n      <td>(5, 192985, 89.0, mid, 13457700.0)</td>\n      <td>(21, 189511, 88.0, mid, 9680340.0)</td>\n      <td>(15, 215914, 88.0, mid, 10466618.0)</td>\n      <td>442.0</td>\n      <td>54349362.0</td>\n    </tr>\n    <tr>\n      <td>3</td>\n      <td>(21, 189511, 88.0, mid, 9680340.0)</td>\n      <td>(8, 177003, 89.0, mid, 8935888.0)</td>\n      <td>(5, 192985, 89.0, mid, 13457700.0)</td>\n      <td>(24, 195864, 88.0, mid, 11808816.0)</td>\n      <td>(15, 215914, 88.0, mid, 10466618.0)</td>\n      <td>442.0</td>\n      <td>54349362.0</td>\n    </tr>\n    <tr>\n      <td>4</td>\n      <td>(15, 215914, 88.0, mid, 10466618.0)</td>\n      <td>(8, 177003, 89.0, mid, 8935888.0)</td>\n      <td>(5, 192985, 89.0, mid, 13457700.0)</td>\n      <td>(24, 195864, 88.0, mid, 11808816.0)</td>\n      <td>(21, 189511, 88.0, mid, 9680340.0)</td>\n      <td>442.0</td>\n      <td>54349362.0</td>\n    </tr>\n    <tr>\n      <td>1</td>\n      <td>(5, 192985, 89.0, mid, 13457700.0)</td>\n      <td>(8, 177003, 89.0, mid, 8935888.0)</td>\n      <td>(24, 195864, 88.0, mid, 11808816.0)</td>\n      <td>(21, 189511, 88.0, mid, 9680340.0)</td>\n      <td>(15, 215914, 88.0, mid, 10466618.0)</td>\n      <td>442.0</td>\n      <td>54349362.0</td>\n    </tr>\n  </tbody>\n</table>\n</div>"
     },
     "metadata": {},
     "output_type": "execute_result",
     "execution_count": 31
    }
   ],
   "source": [
    "columns=[\"player_%s\" % str(x) for x in range(int(times))]\n",
    "columns.append(\"total_overall\")\n",
    "columns.append(\"total_money\")\n",
    "mid_choices_df = pd.DataFrame(data=mid_choices, columns=columns)\n",
    "mid_choices_df = mid_choices_df.sort_values(by=['total_overall'], ascending=False)\n",
    "mid_choices_df.head()"
   ]
  },
  {
   "cell_type": "markdown",
   "metadata": {},
   "source": [
    "#### Best choices of forward"
   ]
  },
  {
   "cell_type": "code",
   "execution_count": 32,
   "metadata": {
    "pycharm": {
     "is_executing": false
    }
   },
   "outputs": [
    {
     "data": {
      "text/plain": "    sofifa_id                                         player_url  \\\n5      192985  https://sofifa.com/player/192985/kevin-de-bruy...   \n8      177003  https://sofifa.com/player/177003/luka-modric/2...   \n15     215914  https://sofifa.com/player/215914/ngolo-kante/2...   \n21     189511  https://sofifa.com/player/189511/sergio-busque...   \n24     195864  https://sofifa.com/player/195864/paul-pogba/20...   \n\n         short_name                 long_name  age         dob  height_cm  \\\n5      K. De Bruyne           Kevin De Bruyne   28  1991-06-28        181   \n8         L. Modrić               Luka Modrić   33  1985-09-09        172   \n15         N. Kanté              N'Golo Kanté   28  1991-03-29        168   \n21  Sergio Busquets  Sergio Busquets i Burgos   30  1988-07-16        189   \n24         P. Pogba                Paul Pogba   26  1993-03-15        191   \n\n    weight_kg nationality               club  ...   ldm   cdm   rdm   rwb  \\\n5          70     Belgium    Manchester City  ...  77+3  77+3  77+3  77+3   \n8          66     Croatia        Real Madrid  ...  81+3  81+3  81+3  81+3   \n15         72      France            Chelsea  ...  87+3  87+3  87+3  85+3   \n21         76       Spain       FC Barcelona  ...  86+3  86+3  86+3  78+3   \n24         84      France  Manchester United  ...  77+3  77+3  77+3  76+3   \n\n      lb   lcb    cb   rcb    rb position  \n5   73+3  66+3  66+3  66+3  73+3      mid  \n8   79+3  72+3  72+3  72+3  79+3      mid  \n15  84+3  83+3  83+3  83+3  84+3      mid  \n21  78+3  82+3  82+3  82+3  78+3      mid  \n24  74+3  72+3  72+3  72+3  74+3      mid  \n\n[5 rows x 105 columns]",
      "text/html": "<div>\n<style scoped>\n    .dataframe tbody tr th:only-of-type {\n        vertical-align: middle;\n    }\n\n    .dataframe tbody tr th {\n        vertical-align: top;\n    }\n\n    .dataframe thead th {\n        text-align: right;\n    }\n</style>\n<table border=\"1\" class=\"dataframe\">\n  <thead>\n    <tr style=\"text-align: right;\">\n      <th></th>\n      <th>sofifa_id</th>\n      <th>player_url</th>\n      <th>short_name</th>\n      <th>long_name</th>\n      <th>age</th>\n      <th>dob</th>\n      <th>height_cm</th>\n      <th>weight_kg</th>\n      <th>nationality</th>\n      <th>club</th>\n      <th>...</th>\n      <th>ldm</th>\n      <th>cdm</th>\n      <th>rdm</th>\n      <th>rwb</th>\n      <th>lb</th>\n      <th>lcb</th>\n      <th>cb</th>\n      <th>rcb</th>\n      <th>rb</th>\n      <th>position</th>\n    </tr>\n  </thead>\n  <tbody>\n    <tr>\n      <td>5</td>\n      <td>192985</td>\n      <td>https://sofifa.com/player/192985/kevin-de-bruy...</td>\n      <td>K. De Bruyne</td>\n      <td>Kevin De Bruyne</td>\n      <td>28</td>\n      <td>1991-06-28</td>\n      <td>181</td>\n      <td>70</td>\n      <td>Belgium</td>\n      <td>Manchester City</td>\n      <td>...</td>\n      <td>77+3</td>\n      <td>77+3</td>\n      <td>77+3</td>\n      <td>77+3</td>\n      <td>73+3</td>\n      <td>66+3</td>\n      <td>66+3</td>\n      <td>66+3</td>\n      <td>73+3</td>\n      <td>mid</td>\n    </tr>\n    <tr>\n      <td>8</td>\n      <td>177003</td>\n      <td>https://sofifa.com/player/177003/luka-modric/2...</td>\n      <td>L. Modrić</td>\n      <td>Luka Modrić</td>\n      <td>33</td>\n      <td>1985-09-09</td>\n      <td>172</td>\n      <td>66</td>\n      <td>Croatia</td>\n      <td>Real Madrid</td>\n      <td>...</td>\n      <td>81+3</td>\n      <td>81+3</td>\n      <td>81+3</td>\n      <td>81+3</td>\n      <td>79+3</td>\n      <td>72+3</td>\n      <td>72+3</td>\n      <td>72+3</td>\n      <td>79+3</td>\n      <td>mid</td>\n    </tr>\n    <tr>\n      <td>15</td>\n      <td>215914</td>\n      <td>https://sofifa.com/player/215914/ngolo-kante/2...</td>\n      <td>N. Kanté</td>\n      <td>N'Golo Kanté</td>\n      <td>28</td>\n      <td>1991-03-29</td>\n      <td>168</td>\n      <td>72</td>\n      <td>France</td>\n      <td>Chelsea</td>\n      <td>...</td>\n      <td>87+3</td>\n      <td>87+3</td>\n      <td>87+3</td>\n      <td>85+3</td>\n      <td>84+3</td>\n      <td>83+3</td>\n      <td>83+3</td>\n      <td>83+3</td>\n      <td>84+3</td>\n      <td>mid</td>\n    </tr>\n    <tr>\n      <td>21</td>\n      <td>189511</td>\n      <td>https://sofifa.com/player/189511/sergio-busque...</td>\n      <td>Sergio Busquets</td>\n      <td>Sergio Busquets i Burgos</td>\n      <td>30</td>\n      <td>1988-07-16</td>\n      <td>189</td>\n      <td>76</td>\n      <td>Spain</td>\n      <td>FC Barcelona</td>\n      <td>...</td>\n      <td>86+3</td>\n      <td>86+3</td>\n      <td>86+3</td>\n      <td>78+3</td>\n      <td>78+3</td>\n      <td>82+3</td>\n      <td>82+3</td>\n      <td>82+3</td>\n      <td>78+3</td>\n      <td>mid</td>\n    </tr>\n    <tr>\n      <td>24</td>\n      <td>195864</td>\n      <td>https://sofifa.com/player/195864/paul-pogba/20...</td>\n      <td>P. Pogba</td>\n      <td>Paul Pogba</td>\n      <td>26</td>\n      <td>1993-03-15</td>\n      <td>191</td>\n      <td>84</td>\n      <td>France</td>\n      <td>Manchester United</td>\n      <td>...</td>\n      <td>77+3</td>\n      <td>77+3</td>\n      <td>77+3</td>\n      <td>76+3</td>\n      <td>74+3</td>\n      <td>72+3</td>\n      <td>72+3</td>\n      <td>72+3</td>\n      <td>74+3</td>\n      <td>mid</td>\n    </tr>\n  </tbody>\n</table>\n<p>5 rows × 105 columns</p>\n</div>"
     },
     "metadata": {},
     "output_type": "execute_result",
     "execution_count": 32
    }
   ],
   "source": [
    "fifa_data_20_mid_buy = fifa_data_20[fifa_data_20['sofifa_id'] \\\n",
    "                                        .isin([int(mid_choices_df.iloc[0][\"player_%s\" % str(x)].sofifa_id) for x in range(int(times))])]\n",
    "fifa_data_20_mid_buy"
   ]
  },
  {
   "cell_type": "markdown",
   "metadata": {},
   "source": [
    "### Back Choice"
   ]
  },
  {
   "cell_type": "code",
   "execution_count": 33,
   "metadata": {
    "pycharm": {
     "is_executing": false
    }
   },
   "outputs": [
    {
     "data": {
      "text/plain": "    sofifa_id  overall_2021 position  value_eur_2021\n11     201024          89.0     back       7353270.0\n7      203376          89.0     back       7351246.0\n16     138956          88.0     back       4671237.0\n18     155862          88.0     back       5619374.0\n40     212218          88.0     back       7658714.0",
      "text/html": "<div>\n<style scoped>\n    .dataframe tbody tr th:only-of-type {\n        vertical-align: middle;\n    }\n\n    .dataframe tbody tr th {\n        vertical-align: top;\n    }\n\n    .dataframe thead th {\n        text-align: right;\n    }\n</style>\n<table border=\"1\" class=\"dataframe\">\n  <thead>\n    <tr style=\"text-align: right;\">\n      <th></th>\n      <th>sofifa_id</th>\n      <th>overall_2021</th>\n      <th>position</th>\n      <th>value_eur_2021</th>\n    </tr>\n  </thead>\n  <tbody>\n    <tr>\n      <td>11</td>\n      <td>201024</td>\n      <td>89.0</td>\n      <td>back</td>\n      <td>7353270.0</td>\n    </tr>\n    <tr>\n      <td>7</td>\n      <td>203376</td>\n      <td>89.0</td>\n      <td>back</td>\n      <td>7351246.0</td>\n    </tr>\n    <tr>\n      <td>16</td>\n      <td>138956</td>\n      <td>88.0</td>\n      <td>back</td>\n      <td>4671237.0</td>\n    </tr>\n    <tr>\n      <td>18</td>\n      <td>155862</td>\n      <td>88.0</td>\n      <td>back</td>\n      <td>5619374.0</td>\n    </tr>\n    <tr>\n      <td>40</td>\n      <td>212218</td>\n      <td>88.0</td>\n      <td>back</td>\n      <td>7658714.0</td>\n    </tr>\n  </tbody>\n</table>\n</div>"
     },
     "metadata": {},
     "output_type": "execute_result",
     "execution_count": 33
    }
   ],
   "source": [
    "fifa_data_21_sorted = fifa_data_21.sort_values(by=['overall_2021'], ascending=False)\n",
    "fifa_data_21_sorted_back = fifa_data_21_sorted[(fifa_data_21_sorted.position == 'back') & \\\n",
    "                                                  (fifa_data_21_sorted.value_eur_2021 < total_prepared_money['back']) & \\\n",
    "                                                  (fifa_data_21_sorted.overall_2021 >= fifa_20_overall_stats.loc[\"back\"]['75%'])]\n",
    "fifa_data_21_sorted_back.head()"
   ]
  },
  {
   "cell_type": "code",
   "execution_count": 34,
   "metadata": {
    "pycharm": {
     "is_executing": false
    }
   },
   "outputs": [],
   "source": [
    "back_choices = []\n",
    "money_temp = total_prepared_money['back']\n",
    "times = below_players_stats.loc['back']['count']\n",
    "\n",
    "for row in fifa_data_21_sorted_back.itertuples():\n",
    "    choices = []\n",
    "    choices.append(row)\n",
    "    money_temp = money_temp - row.value_eur_2021\n",
    "    \n",
    "    for r in fifa_data_21_sorted_back.itertuples():\n",
    "        if r.sofifa_id not in [x.sofifa_id for x in choices]:\n",
    "            if money_temp >= r.value_eur_2021:\n",
    "                choices.append(r)\n",
    "                time_temp = times\n",
    "                if len(choices) == times:\n",
    "                    total_overall = sum([x.overall_2021 for x in choices])\n",
    "                    total_money = sum([x.value_eur_2021 for x in choices])\n",
    "                    choices.append(total_overall)\n",
    "                    choices.append(total_money)\n",
    "                    back_choices.append(choices)\n",
    "                    break\n",
    "        \n",
    "    wage_temp = total_prepared_money['back']"
   ]
  },
  {
   "cell_type": "code",
   "execution_count": 35,
   "metadata": {
    "pycharm": {
     "is_executing": false
    }
   },
   "outputs": [
    {
     "data": {
      "text/plain": "                              player_0                              player_1  \\\n0  (11, 201024, 89.0, back, 7353270.0)  (128, 120533, 82.0, back, 1420902.0)   \n\n                               player_2                              player_3  \\\n0  (370, 112316, 80.0, back, 1582167.0)  (380, 171791, 80.0, back, 1286459.0)   \n\n                              player_4                              player_5  \\\n0  (520, 181098, 79.0, back, 991168.0)  (506, 171919, 79.0, back, 1320703.0)   \n\n   total_overall  total_money  \n0          489.0   13954669.0  ",
      "text/html": "<div>\n<style scoped>\n    .dataframe tbody tr th:only-of-type {\n        vertical-align: middle;\n    }\n\n    .dataframe tbody tr th {\n        vertical-align: top;\n    }\n\n    .dataframe thead th {\n        text-align: right;\n    }\n</style>\n<table border=\"1\" class=\"dataframe\">\n  <thead>\n    <tr style=\"text-align: right;\">\n      <th></th>\n      <th>player_0</th>\n      <th>player_1</th>\n      <th>player_2</th>\n      <th>player_3</th>\n      <th>player_4</th>\n      <th>player_5</th>\n      <th>total_overall</th>\n      <th>total_money</th>\n    </tr>\n  </thead>\n  <tbody>\n    <tr>\n      <td>0</td>\n      <td>(11, 201024, 89.0, back, 7353270.0)</td>\n      <td>(128, 120533, 82.0, back, 1420902.0)</td>\n      <td>(370, 112316, 80.0, back, 1582167.0)</td>\n      <td>(380, 171791, 80.0, back, 1286459.0)</td>\n      <td>(520, 181098, 79.0, back, 991168.0)</td>\n      <td>(506, 171919, 79.0, back, 1320703.0)</td>\n      <td>489.0</td>\n      <td>13954669.0</td>\n    </tr>\n  </tbody>\n</table>\n</div>"
     },
     "metadata": {},
     "output_type": "execute_result",
     "execution_count": 35
    }
   ],
   "source": [
    "columns=[\"player_%s\" % str(x) for x in range(int(times))]\n",
    "columns.append(\"total_overall\")\n",
    "columns.append(\"total_money\")\n",
    "back_choices_df = pd.DataFrame(data=back_choices, columns=columns)\n",
    "back_choices_df = back_choices_df.sort_values(by=['total_overall'], ascending=False)\n",
    "back_choices_df.head()"
   ]
  },
  {
   "cell_type": "markdown",
   "metadata": {},
   "source": [
    "#### Best choices of back"
   ]
  },
  {
   "cell_type": "code",
   "execution_count": 36,
   "metadata": {
    "pycharm": {
     "is_executing": false
    }
   },
   "outputs": [
    {
     "data": {
      "text/plain": "     sofifa_id                                         player_url  \\\n11      201024  https://sofifa.com/player/201024/kalidou-kouli...   \n128     120533  https://sofifa.com/player/120533/kepler-lavera...   \n370     112316  https://sofifa.com/player/112316/jeremy-mathie...   \n380     171791  https://sofifa.com/player/171791/jose-miguel-d...   \n506     171919  https://sofifa.com/player/171919/ronaldo-apare...   \n520     181098  https://sofifa.com/player/181098/makoto-hasebe...   \n\n       short_name                     long_name  age         dob  height_cm  \\\n11   K. Koulibaly             Kalidou Koulibaly   28  1991-06-20        187   \n128          Pepe  Képler Laveran Lima Ferreira   36  1983-02-26        188   \n370    J. Mathieu                Jérémy Mathieu   35  1983-10-29        189   \n380    José Fonte    José Miguel da Rocha Fonte   35  1983-12-22        187   \n506         Naldo  Ronaldo  Aparecido Rodrigues   36  1982-09-10        198   \n520     M. Hasebe                         長谷 部誠   35  1984-01-18        180   \n\n     weight_kg nationality                 club  ...   ldm   cdm   rdm   rwb  \\\n11          89     Senegal               Napoli  ...  79+3  79+3  79+3  74+3   \n128         81    Portugal             FC Porto  ...  76+3  76+3  76+3  73+3   \n370         84      France          Sporting CP  ...  76+3  76+3  76+3  76+3   \n380         81    Portugal           LOSC Lille  ...  72+3  72+3  72+3  64+3   \n506         91      Brazil            AS Monaco  ...  73+3  73+3  73+3  67+3   \n520         72       Japan  Eintracht Frankfurt  ...  78+2  78+2  78+2  75+2   \n\n       lb   lcb    cb   rcb    rb position  \n11   77+3  86+3  86+3  86+3  77+3     back  \n128  75+3  82+3  82+3  82+3  75+3     back  \n370  77+3  80+3  80+3  80+3  77+3     back  \n380  67+3  78+3  78+3  78+3  67+3     back  \n506  70+3  77+3  77+3  77+3  70+3     back  \n520  75+2  77+2  77+2  77+2  75+2     back  \n\n[6 rows x 105 columns]",
      "text/html": "<div>\n<style scoped>\n    .dataframe tbody tr th:only-of-type {\n        vertical-align: middle;\n    }\n\n    .dataframe tbody tr th {\n        vertical-align: top;\n    }\n\n    .dataframe thead th {\n        text-align: right;\n    }\n</style>\n<table border=\"1\" class=\"dataframe\">\n  <thead>\n    <tr style=\"text-align: right;\">\n      <th></th>\n      <th>sofifa_id</th>\n      <th>player_url</th>\n      <th>short_name</th>\n      <th>long_name</th>\n      <th>age</th>\n      <th>dob</th>\n      <th>height_cm</th>\n      <th>weight_kg</th>\n      <th>nationality</th>\n      <th>club</th>\n      <th>...</th>\n      <th>ldm</th>\n      <th>cdm</th>\n      <th>rdm</th>\n      <th>rwb</th>\n      <th>lb</th>\n      <th>lcb</th>\n      <th>cb</th>\n      <th>rcb</th>\n      <th>rb</th>\n      <th>position</th>\n    </tr>\n  </thead>\n  <tbody>\n    <tr>\n      <td>11</td>\n      <td>201024</td>\n      <td>https://sofifa.com/player/201024/kalidou-kouli...</td>\n      <td>K. Koulibaly</td>\n      <td>Kalidou Koulibaly</td>\n      <td>28</td>\n      <td>1991-06-20</td>\n      <td>187</td>\n      <td>89</td>\n      <td>Senegal</td>\n      <td>Napoli</td>\n      <td>...</td>\n      <td>79+3</td>\n      <td>79+3</td>\n      <td>79+3</td>\n      <td>74+3</td>\n      <td>77+3</td>\n      <td>86+3</td>\n      <td>86+3</td>\n      <td>86+3</td>\n      <td>77+3</td>\n      <td>back</td>\n    </tr>\n    <tr>\n      <td>128</td>\n      <td>120533</td>\n      <td>https://sofifa.com/player/120533/kepler-lavera...</td>\n      <td>Pepe</td>\n      <td>Képler Laveran Lima Ferreira</td>\n      <td>36</td>\n      <td>1983-02-26</td>\n      <td>188</td>\n      <td>81</td>\n      <td>Portugal</td>\n      <td>FC Porto</td>\n      <td>...</td>\n      <td>76+3</td>\n      <td>76+3</td>\n      <td>76+3</td>\n      <td>73+3</td>\n      <td>75+3</td>\n      <td>82+3</td>\n      <td>82+3</td>\n      <td>82+3</td>\n      <td>75+3</td>\n      <td>back</td>\n    </tr>\n    <tr>\n      <td>370</td>\n      <td>112316</td>\n      <td>https://sofifa.com/player/112316/jeremy-mathie...</td>\n      <td>J. Mathieu</td>\n      <td>Jérémy Mathieu</td>\n      <td>35</td>\n      <td>1983-10-29</td>\n      <td>189</td>\n      <td>84</td>\n      <td>France</td>\n      <td>Sporting CP</td>\n      <td>...</td>\n      <td>76+3</td>\n      <td>76+3</td>\n      <td>76+3</td>\n      <td>76+3</td>\n      <td>77+3</td>\n      <td>80+3</td>\n      <td>80+3</td>\n      <td>80+3</td>\n      <td>77+3</td>\n      <td>back</td>\n    </tr>\n    <tr>\n      <td>380</td>\n      <td>171791</td>\n      <td>https://sofifa.com/player/171791/jose-miguel-d...</td>\n      <td>José Fonte</td>\n      <td>José Miguel da Rocha Fonte</td>\n      <td>35</td>\n      <td>1983-12-22</td>\n      <td>187</td>\n      <td>81</td>\n      <td>Portugal</td>\n      <td>LOSC Lille</td>\n      <td>...</td>\n      <td>72+3</td>\n      <td>72+3</td>\n      <td>72+3</td>\n      <td>64+3</td>\n      <td>67+3</td>\n      <td>78+3</td>\n      <td>78+3</td>\n      <td>78+3</td>\n      <td>67+3</td>\n      <td>back</td>\n    </tr>\n    <tr>\n      <td>506</td>\n      <td>171919</td>\n      <td>https://sofifa.com/player/171919/ronaldo-apare...</td>\n      <td>Naldo</td>\n      <td>Ronaldo  Aparecido Rodrigues</td>\n      <td>36</td>\n      <td>1982-09-10</td>\n      <td>198</td>\n      <td>91</td>\n      <td>Brazil</td>\n      <td>AS Monaco</td>\n      <td>...</td>\n      <td>73+3</td>\n      <td>73+3</td>\n      <td>73+3</td>\n      <td>67+3</td>\n      <td>70+3</td>\n      <td>77+3</td>\n      <td>77+3</td>\n      <td>77+3</td>\n      <td>70+3</td>\n      <td>back</td>\n    </tr>\n    <tr>\n      <td>520</td>\n      <td>181098</td>\n      <td>https://sofifa.com/player/181098/makoto-hasebe...</td>\n      <td>M. Hasebe</td>\n      <td>長谷 部誠</td>\n      <td>35</td>\n      <td>1984-01-18</td>\n      <td>180</td>\n      <td>72</td>\n      <td>Japan</td>\n      <td>Eintracht Frankfurt</td>\n      <td>...</td>\n      <td>78+2</td>\n      <td>78+2</td>\n      <td>78+2</td>\n      <td>75+2</td>\n      <td>75+2</td>\n      <td>77+2</td>\n      <td>77+2</td>\n      <td>77+2</td>\n      <td>75+2</td>\n      <td>back</td>\n    </tr>\n  </tbody>\n</table>\n<p>6 rows × 105 columns</p>\n</div>"
     },
     "metadata": {},
     "output_type": "execute_result",
     "execution_count": 36
    }
   ],
   "source": [
    "fifa_data_20_back_buy = fifa_data_20[fifa_data_20['sofifa_id'] \\\n",
    "                                        .isin([int(back_choices_df.iloc[0][\"player_%s\" % str(x)].sofifa_id) for x in range(int(times))])]\n",
    "fifa_data_20_back_buy"
   ]
  },
  {
   "cell_type": "markdown",
   "metadata": {},
   "source": [
    "### Keeper Choice"
   ]
  },
  {
   "cell_type": "code",
   "execution_count": 37,
   "metadata": {
    "pycharm": {
     "is_executing": false
    }
   },
   "outputs": [
    {
     "data": {
      "text/plain": "     sofifa_id  overall_2021 position  value_eur_2021\n202     104389          82.0   keeper        818765.0\n200       1179          81.0   keeper       1049383.0\n201       5479          81.0   keeper        722885.0\n286      24630          80.0   keeper        597207.0\n489     110677          79.0   keeper        650680.0",
      "text/html": "<div>\n<style scoped>\n    .dataframe tbody tr th:only-of-type {\n        vertical-align: middle;\n    }\n\n    .dataframe tbody tr th {\n        vertical-align: top;\n    }\n\n    .dataframe thead th {\n        text-align: right;\n    }\n</style>\n<table border=\"1\" class=\"dataframe\">\n  <thead>\n    <tr style=\"text-align: right;\">\n      <th></th>\n      <th>sofifa_id</th>\n      <th>overall_2021</th>\n      <th>position</th>\n      <th>value_eur_2021</th>\n    </tr>\n  </thead>\n  <tbody>\n    <tr>\n      <td>202</td>\n      <td>104389</td>\n      <td>82.0</td>\n      <td>keeper</td>\n      <td>818765.0</td>\n    </tr>\n    <tr>\n      <td>200</td>\n      <td>1179</td>\n      <td>81.0</td>\n      <td>keeper</td>\n      <td>1049383.0</td>\n    </tr>\n    <tr>\n      <td>201</td>\n      <td>5479</td>\n      <td>81.0</td>\n      <td>keeper</td>\n      <td>722885.0</td>\n    </tr>\n    <tr>\n      <td>286</td>\n      <td>24630</td>\n      <td>80.0</td>\n      <td>keeper</td>\n      <td>597207.0</td>\n    </tr>\n    <tr>\n      <td>489</td>\n      <td>110677</td>\n      <td>79.0</td>\n      <td>keeper</td>\n      <td>650680.0</td>\n    </tr>\n  </tbody>\n</table>\n</div>"
     },
     "metadata": {},
     "output_type": "execute_result",
     "execution_count": 37
    }
   ],
   "source": [
    "fifa_data_21_sorted = fifa_data_21.sort_values(by=['overall_2021'], ascending=False)\n",
    "fifa_data_21_sorted_keeper = fifa_data_21_sorted[(fifa_data_21_sorted.position == 'keeper') & \\\n",
    "                                                  (fifa_data_21_sorted.value_eur_2021 < total_prepared_money['keeper']) & \\\n",
    "                                                  (fifa_data_21_sorted.overall_2021 >= fifa_20_overall_stats.loc[\"keeper\"]['75%'])]\n",
    "fifa_data_21_sorted_keeper.head()"
   ]
  },
  {
   "cell_type": "code",
   "execution_count": 38,
   "metadata": {
    "pycharm": {
     "is_executing": false
    }
   },
   "outputs": [],
   "source": [
    "keeper_choices = []\n",
    "money_temp = total_prepared_money['keeper']\n",
    "times = below_players_stats.loc['keeper']['count']\n",
    "\n",
    "for row in fifa_data_21_sorted_keeper.itertuples():\n",
    "    choices = []\n",
    "    choices.append(row)\n",
    "    money_temp = money_temp - row.value_eur_2021\n",
    "    \n",
    "    total_overall = sum([x.overall_2021 for x in choices])\n",
    "    total_money = sum([x.value_eur_2021 for x in choices])\n",
    "    choices.append(total_overall)\n",
    "    choices.append(total_money)\n",
    "    keeper_choices.append(choices)\n",
    "    \n",
    "    money_temp = total_prepared_money['keeper']"
   ]
  },
  {
   "cell_type": "code",
   "execution_count": 39,
   "metadata": {
    "pycharm": {
     "is_executing": false
    }
   },
   "outputs": [
    {
     "data": {
      "text/plain": "                                player_0  total_overall  total_money\n0  (202, 104389, 82.0, keeper, 818765.0)           82.0     818765.0\n2    (201, 5479, 81.0, keeper, 722885.0)           81.0     722885.0\n1   (200, 1179, 81.0, keeper, 1049383.0)           81.0    1049383.0\n3   (286, 24630, 80.0, keeper, 597207.0)           80.0     597207.0\n4  (489, 110677, 79.0, keeper, 650680.0)           79.0     650680.0",
      "text/html": "<div>\n<style scoped>\n    .dataframe tbody tr th:only-of-type {\n        vertical-align: middle;\n    }\n\n    .dataframe tbody tr th {\n        vertical-align: top;\n    }\n\n    .dataframe thead th {\n        text-align: right;\n    }\n</style>\n<table border=\"1\" class=\"dataframe\">\n  <thead>\n    <tr style=\"text-align: right;\">\n      <th></th>\n      <th>player_0</th>\n      <th>total_overall</th>\n      <th>total_money</th>\n    </tr>\n  </thead>\n  <tbody>\n    <tr>\n      <td>0</td>\n      <td>(202, 104389, 82.0, keeper, 818765.0)</td>\n      <td>82.0</td>\n      <td>818765.0</td>\n    </tr>\n    <tr>\n      <td>2</td>\n      <td>(201, 5479, 81.0, keeper, 722885.0)</td>\n      <td>81.0</td>\n      <td>722885.0</td>\n    </tr>\n    <tr>\n      <td>1</td>\n      <td>(200, 1179, 81.0, keeper, 1049383.0)</td>\n      <td>81.0</td>\n      <td>1049383.0</td>\n    </tr>\n    <tr>\n      <td>3</td>\n      <td>(286, 24630, 80.0, keeper, 597207.0)</td>\n      <td>80.0</td>\n      <td>597207.0</td>\n    </tr>\n    <tr>\n      <td>4</td>\n      <td>(489, 110677, 79.0, keeper, 650680.0)</td>\n      <td>79.0</td>\n      <td>650680.0</td>\n    </tr>\n  </tbody>\n</table>\n</div>"
     },
     "metadata": {},
     "output_type": "execute_result",
     "execution_count": 39
    }
   ],
   "source": [
    "columns=[\"player_%s\" % str(x) for x in range(int(times))]\n",
    "columns.append(\"total_overall\")\n",
    "columns.append(\"total_money\")\n",
    "keeper_choices_df = pd.DataFrame(data=keeper_choices, columns=columns)\n",
    "keeper_choices_df = keeper_choices_df.sort_values(by=['total_overall'], ascending=False)\n",
    "keeper_choices_df.head()"
   ]
  },
  {
   "cell_type": "markdown",
   "metadata": {},
   "source": [
    "#### Best choices of keeper"
   ]
  },
  {
   "cell_type": "code",
   "execution_count": 40,
   "metadata": {
    "pycharm": {
     "is_executing": false
    }
   },
   "outputs": [
    {
     "data": {
      "text/plain": "     sofifa_id                                         player_url  \\\n202     104389  https://sofifa.com/player/104389/rune-almennin...   \n\n      short_name                 long_name  age         dob  height_cm  \\\n202  R. Jarstein  Rune  Almenning Jarstein   34  1984-09-29        190   \n\n     weight_kg nationality        club  ...  ldm  cdm  rdm  rwb   lb  lcb  \\\n202         86      Norway  Hertha BSC  ...  NaN  NaN  NaN  NaN  NaN  NaN   \n\n      cb  rcb   rb position  \n202  NaN  NaN  NaN   keeper  \n\n[1 rows x 105 columns]",
      "text/html": "<div>\n<style scoped>\n    .dataframe tbody tr th:only-of-type {\n        vertical-align: middle;\n    }\n\n    .dataframe tbody tr th {\n        vertical-align: top;\n    }\n\n    .dataframe thead th {\n        text-align: right;\n    }\n</style>\n<table border=\"1\" class=\"dataframe\">\n  <thead>\n    <tr style=\"text-align: right;\">\n      <th></th>\n      <th>sofifa_id</th>\n      <th>player_url</th>\n      <th>short_name</th>\n      <th>long_name</th>\n      <th>age</th>\n      <th>dob</th>\n      <th>height_cm</th>\n      <th>weight_kg</th>\n      <th>nationality</th>\n      <th>club</th>\n      <th>...</th>\n      <th>ldm</th>\n      <th>cdm</th>\n      <th>rdm</th>\n      <th>rwb</th>\n      <th>lb</th>\n      <th>lcb</th>\n      <th>cb</th>\n      <th>rcb</th>\n      <th>rb</th>\n      <th>position</th>\n    </tr>\n  </thead>\n  <tbody>\n    <tr>\n      <td>202</td>\n      <td>104389</td>\n      <td>https://sofifa.com/player/104389/rune-almennin...</td>\n      <td>R. Jarstein</td>\n      <td>Rune  Almenning Jarstein</td>\n      <td>34</td>\n      <td>1984-09-29</td>\n      <td>190</td>\n      <td>86</td>\n      <td>Norway</td>\n      <td>Hertha BSC</td>\n      <td>...</td>\n      <td>NaN</td>\n      <td>NaN</td>\n      <td>NaN</td>\n      <td>NaN</td>\n      <td>NaN</td>\n      <td>NaN</td>\n      <td>NaN</td>\n      <td>NaN</td>\n      <td>NaN</td>\n      <td>keeper</td>\n    </tr>\n  </tbody>\n</table>\n<p>1 rows × 105 columns</p>\n</div>"
     },
     "metadata": {},
     "output_type": "execute_result",
     "execution_count": 40
    }
   ],
   "source": [
    "fifa_data_20_keeper_buy = fifa_data_20[fifa_data_20['sofifa_id'] \\\n",
    "                                        .isin([int(keeper_choices_df.iloc[0][\"player_%s\" % str(x)].sofifa_id) for x in range(int(times))])]\n",
    "fifa_data_20_keeper_buy"
   ]
  },
  {
   "cell_type": "markdown",
   "metadata": {},
   "source": [
    "### Buy List"
   ]
  },
  {
   "cell_type": "code",
   "execution_count": 41,
   "metadata": {
    "pycharm": {
     "is_executing": false
    }
   },
   "outputs": [
    {
     "data": {
      "text/plain": "     sofifa_id                                         player_url  \\\n141     181783  https://sofifa.com/player/181783/mario-mandzuk...   \n372     142707  https://sofifa.com/player/142707/lisandro-lope...   \n5       192985  https://sofifa.com/player/192985/kevin-de-bruy...   \n8       177003  https://sofifa.com/player/177003/luka-modric/2...   \n15      215914  https://sofifa.com/player/215914/ngolo-kante/2...   \n21      189511  https://sofifa.com/player/189511/sergio-busque...   \n24      195864  https://sofifa.com/player/195864/paul-pogba/20...   \n11      201024  https://sofifa.com/player/201024/kalidou-kouli...   \n128     120533  https://sofifa.com/player/120533/kepler-lavera...   \n370     112316  https://sofifa.com/player/112316/jeremy-mathie...   \n380     171791  https://sofifa.com/player/171791/jose-miguel-d...   \n506     171919  https://sofifa.com/player/171919/ronaldo-apare...   \n520     181098  https://sofifa.com/player/181098/makoto-hasebe...   \n202     104389  https://sofifa.com/player/104389/rune-almennin...   \n\n          short_name                     long_name  age         dob  \\\n141     M. Mandžukić               Mario Mandžukić   33  1986-05-21   \n372         L. López                Lisandro López   36  1983-03-02   \n5       K. De Bruyne               Kevin De Bruyne   28  1991-06-28   \n8          L. Modrić                   Luka Modrić   33  1985-09-09   \n15          N. Kanté                  N'Golo Kanté   28  1991-03-29   \n21   Sergio Busquets      Sergio Busquets i Burgos   30  1988-07-16   \n24          P. Pogba                    Paul Pogba   26  1993-03-15   \n11      K. Koulibaly             Kalidou Koulibaly   28  1991-06-20   \n128             Pepe  Képler Laveran Lima Ferreira   36  1983-02-26   \n370       J. Mathieu                Jérémy Mathieu   35  1983-10-29   \n380       José Fonte    José Miguel da Rocha Fonte   35  1983-12-22   \n506            Naldo  Ronaldo  Aparecido Rodrigues   36  1982-09-10   \n520        M. Hasebe                         長谷 部誠   35  1984-01-18   \n202      R. Jarstein      Rune  Almenning Jarstein   34  1984-09-29   \n\n     height_cm  weight_kg nationality                 club  ...   ldm   cdm  \\\n141        190         85     Croatia             Juventus  ...  72+3  72+3   \n372        174         72   Argentina          Racing Club  ...  63+2  63+2   \n5          181         70     Belgium      Manchester City  ...  77+3  77+3   \n8          172         66     Croatia          Real Madrid  ...  81+3  81+3   \n15         168         72      France              Chelsea  ...  87+3  87+3   \n21         189         76       Spain         FC Barcelona  ...  86+3  86+3   \n24         191         84      France    Manchester United  ...  77+3  77+3   \n11         187         89     Senegal               Napoli  ...  79+3  79+3   \n128        188         81    Portugal             FC Porto  ...  76+3  76+3   \n370        189         84      France          Sporting CP  ...  76+3  76+3   \n380        187         81    Portugal           LOSC Lille  ...  72+3  72+3   \n506        198         91      Brazil            AS Monaco  ...  73+3  73+3   \n520        180         72       Japan  Eintracht Frankfurt  ...  78+2  78+2   \n202        190         86      Norway           Hertha BSC  ...   NaN   NaN   \n\n      rdm   rwb    lb   lcb    cb   rcb    rb position  \n141  72+3  71+3  70+3  72+3  72+3  72+3  70+3  forward  \n372  63+2  62+2  60+2  59+2  59+2  59+2  60+2  forward  \n5    77+3  77+3  73+3  66+3  66+3  66+3  73+3      mid  \n8    81+3  81+3  79+3  72+3  72+3  72+3  79+3      mid  \n15   87+3  85+3  84+3  83+3  83+3  83+3  84+3      mid  \n21   86+3  78+3  78+3  82+3  82+3  82+3  78+3      mid  \n24   77+3  76+3  74+3  72+3  72+3  72+3  74+3      mid  \n11   79+3  74+3  77+3  86+3  86+3  86+3  77+3     back  \n128  76+3  73+3  75+3  82+3  82+3  82+3  75+3     back  \n370  76+3  76+3  77+3  80+3  80+3  80+3  77+3     back  \n380  72+3  64+3  67+3  78+3  78+3  78+3  67+3     back  \n506  73+3  67+3  70+3  77+3  77+3  77+3  70+3     back  \n520  78+2  75+2  75+2  77+2  77+2  77+2  75+2     back  \n202   NaN   NaN   NaN   NaN   NaN   NaN   NaN   keeper  \n\n[14 rows x 105 columns]",
      "text/html": "<div>\n<style scoped>\n    .dataframe tbody tr th:only-of-type {\n        vertical-align: middle;\n    }\n\n    .dataframe tbody tr th {\n        vertical-align: top;\n    }\n\n    .dataframe thead th {\n        text-align: right;\n    }\n</style>\n<table border=\"1\" class=\"dataframe\">\n  <thead>\n    <tr style=\"text-align: right;\">\n      <th></th>\n      <th>sofifa_id</th>\n      <th>player_url</th>\n      <th>short_name</th>\n      <th>long_name</th>\n      <th>age</th>\n      <th>dob</th>\n      <th>height_cm</th>\n      <th>weight_kg</th>\n      <th>nationality</th>\n      <th>club</th>\n      <th>...</th>\n      <th>ldm</th>\n      <th>cdm</th>\n      <th>rdm</th>\n      <th>rwb</th>\n      <th>lb</th>\n      <th>lcb</th>\n      <th>cb</th>\n      <th>rcb</th>\n      <th>rb</th>\n      <th>position</th>\n    </tr>\n  </thead>\n  <tbody>\n    <tr>\n      <td>141</td>\n      <td>181783</td>\n      <td>https://sofifa.com/player/181783/mario-mandzuk...</td>\n      <td>M. Mandžukić</td>\n      <td>Mario Mandžukić</td>\n      <td>33</td>\n      <td>1986-05-21</td>\n      <td>190</td>\n      <td>85</td>\n      <td>Croatia</td>\n      <td>Juventus</td>\n      <td>...</td>\n      <td>72+3</td>\n      <td>72+3</td>\n      <td>72+3</td>\n      <td>71+3</td>\n      <td>70+3</td>\n      <td>72+3</td>\n      <td>72+3</td>\n      <td>72+3</td>\n      <td>70+3</td>\n      <td>forward</td>\n    </tr>\n    <tr>\n      <td>372</td>\n      <td>142707</td>\n      <td>https://sofifa.com/player/142707/lisandro-lope...</td>\n      <td>L. López</td>\n      <td>Lisandro López</td>\n      <td>36</td>\n      <td>1983-03-02</td>\n      <td>174</td>\n      <td>72</td>\n      <td>Argentina</td>\n      <td>Racing Club</td>\n      <td>...</td>\n      <td>63+2</td>\n      <td>63+2</td>\n      <td>63+2</td>\n      <td>62+2</td>\n      <td>60+2</td>\n      <td>59+2</td>\n      <td>59+2</td>\n      <td>59+2</td>\n      <td>60+2</td>\n      <td>forward</td>\n    </tr>\n    <tr>\n      <td>5</td>\n      <td>192985</td>\n      <td>https://sofifa.com/player/192985/kevin-de-bruy...</td>\n      <td>K. De Bruyne</td>\n      <td>Kevin De Bruyne</td>\n      <td>28</td>\n      <td>1991-06-28</td>\n      <td>181</td>\n      <td>70</td>\n      <td>Belgium</td>\n      <td>Manchester City</td>\n      <td>...</td>\n      <td>77+3</td>\n      <td>77+3</td>\n      <td>77+3</td>\n      <td>77+3</td>\n      <td>73+3</td>\n      <td>66+3</td>\n      <td>66+3</td>\n      <td>66+3</td>\n      <td>73+3</td>\n      <td>mid</td>\n    </tr>\n    <tr>\n      <td>8</td>\n      <td>177003</td>\n      <td>https://sofifa.com/player/177003/luka-modric/2...</td>\n      <td>L. Modrić</td>\n      <td>Luka Modrić</td>\n      <td>33</td>\n      <td>1985-09-09</td>\n      <td>172</td>\n      <td>66</td>\n      <td>Croatia</td>\n      <td>Real Madrid</td>\n      <td>...</td>\n      <td>81+3</td>\n      <td>81+3</td>\n      <td>81+3</td>\n      <td>81+3</td>\n      <td>79+3</td>\n      <td>72+3</td>\n      <td>72+3</td>\n      <td>72+3</td>\n      <td>79+3</td>\n      <td>mid</td>\n    </tr>\n    <tr>\n      <td>15</td>\n      <td>215914</td>\n      <td>https://sofifa.com/player/215914/ngolo-kante/2...</td>\n      <td>N. Kanté</td>\n      <td>N'Golo Kanté</td>\n      <td>28</td>\n      <td>1991-03-29</td>\n      <td>168</td>\n      <td>72</td>\n      <td>France</td>\n      <td>Chelsea</td>\n      <td>...</td>\n      <td>87+3</td>\n      <td>87+3</td>\n      <td>87+3</td>\n      <td>85+3</td>\n      <td>84+3</td>\n      <td>83+3</td>\n      <td>83+3</td>\n      <td>83+3</td>\n      <td>84+3</td>\n      <td>mid</td>\n    </tr>\n    <tr>\n      <td>21</td>\n      <td>189511</td>\n      <td>https://sofifa.com/player/189511/sergio-busque...</td>\n      <td>Sergio Busquets</td>\n      <td>Sergio Busquets i Burgos</td>\n      <td>30</td>\n      <td>1988-07-16</td>\n      <td>189</td>\n      <td>76</td>\n      <td>Spain</td>\n      <td>FC Barcelona</td>\n      <td>...</td>\n      <td>86+3</td>\n      <td>86+3</td>\n      <td>86+3</td>\n      <td>78+3</td>\n      <td>78+3</td>\n      <td>82+3</td>\n      <td>82+3</td>\n      <td>82+3</td>\n      <td>78+3</td>\n      <td>mid</td>\n    </tr>\n    <tr>\n      <td>24</td>\n      <td>195864</td>\n      <td>https://sofifa.com/player/195864/paul-pogba/20...</td>\n      <td>P. Pogba</td>\n      <td>Paul Pogba</td>\n      <td>26</td>\n      <td>1993-03-15</td>\n      <td>191</td>\n      <td>84</td>\n      <td>France</td>\n      <td>Manchester United</td>\n      <td>...</td>\n      <td>77+3</td>\n      <td>77+3</td>\n      <td>77+3</td>\n      <td>76+3</td>\n      <td>74+3</td>\n      <td>72+3</td>\n      <td>72+3</td>\n      <td>72+3</td>\n      <td>74+3</td>\n      <td>mid</td>\n    </tr>\n    <tr>\n      <td>11</td>\n      <td>201024</td>\n      <td>https://sofifa.com/player/201024/kalidou-kouli...</td>\n      <td>K. Koulibaly</td>\n      <td>Kalidou Koulibaly</td>\n      <td>28</td>\n      <td>1991-06-20</td>\n      <td>187</td>\n      <td>89</td>\n      <td>Senegal</td>\n      <td>Napoli</td>\n      <td>...</td>\n      <td>79+3</td>\n      <td>79+3</td>\n      <td>79+3</td>\n      <td>74+3</td>\n      <td>77+3</td>\n      <td>86+3</td>\n      <td>86+3</td>\n      <td>86+3</td>\n      <td>77+3</td>\n      <td>back</td>\n    </tr>\n    <tr>\n      <td>128</td>\n      <td>120533</td>\n      <td>https://sofifa.com/player/120533/kepler-lavera...</td>\n      <td>Pepe</td>\n      <td>Képler Laveran Lima Ferreira</td>\n      <td>36</td>\n      <td>1983-02-26</td>\n      <td>188</td>\n      <td>81</td>\n      <td>Portugal</td>\n      <td>FC Porto</td>\n      <td>...</td>\n      <td>76+3</td>\n      <td>76+3</td>\n      <td>76+3</td>\n      <td>73+3</td>\n      <td>75+3</td>\n      <td>82+3</td>\n      <td>82+3</td>\n      <td>82+3</td>\n      <td>75+3</td>\n      <td>back</td>\n    </tr>\n    <tr>\n      <td>370</td>\n      <td>112316</td>\n      <td>https://sofifa.com/player/112316/jeremy-mathie...</td>\n      <td>J. Mathieu</td>\n      <td>Jérémy Mathieu</td>\n      <td>35</td>\n      <td>1983-10-29</td>\n      <td>189</td>\n      <td>84</td>\n      <td>France</td>\n      <td>Sporting CP</td>\n      <td>...</td>\n      <td>76+3</td>\n      <td>76+3</td>\n      <td>76+3</td>\n      <td>76+3</td>\n      <td>77+3</td>\n      <td>80+3</td>\n      <td>80+3</td>\n      <td>80+3</td>\n      <td>77+3</td>\n      <td>back</td>\n    </tr>\n    <tr>\n      <td>380</td>\n      <td>171791</td>\n      <td>https://sofifa.com/player/171791/jose-miguel-d...</td>\n      <td>José Fonte</td>\n      <td>José Miguel da Rocha Fonte</td>\n      <td>35</td>\n      <td>1983-12-22</td>\n      <td>187</td>\n      <td>81</td>\n      <td>Portugal</td>\n      <td>LOSC Lille</td>\n      <td>...</td>\n      <td>72+3</td>\n      <td>72+3</td>\n      <td>72+3</td>\n      <td>64+3</td>\n      <td>67+3</td>\n      <td>78+3</td>\n      <td>78+3</td>\n      <td>78+3</td>\n      <td>67+3</td>\n      <td>back</td>\n    </tr>\n    <tr>\n      <td>506</td>\n      <td>171919</td>\n      <td>https://sofifa.com/player/171919/ronaldo-apare...</td>\n      <td>Naldo</td>\n      <td>Ronaldo  Aparecido Rodrigues</td>\n      <td>36</td>\n      <td>1982-09-10</td>\n      <td>198</td>\n      <td>91</td>\n      <td>Brazil</td>\n      <td>AS Monaco</td>\n      <td>...</td>\n      <td>73+3</td>\n      <td>73+3</td>\n      <td>73+3</td>\n      <td>67+3</td>\n      <td>70+3</td>\n      <td>77+3</td>\n      <td>77+3</td>\n      <td>77+3</td>\n      <td>70+3</td>\n      <td>back</td>\n    </tr>\n    <tr>\n      <td>520</td>\n      <td>181098</td>\n      <td>https://sofifa.com/player/181098/makoto-hasebe...</td>\n      <td>M. Hasebe</td>\n      <td>長谷 部誠</td>\n      <td>35</td>\n      <td>1984-01-18</td>\n      <td>180</td>\n      <td>72</td>\n      <td>Japan</td>\n      <td>Eintracht Frankfurt</td>\n      <td>...</td>\n      <td>78+2</td>\n      <td>78+2</td>\n      <td>78+2</td>\n      <td>75+2</td>\n      <td>75+2</td>\n      <td>77+2</td>\n      <td>77+2</td>\n      <td>77+2</td>\n      <td>75+2</td>\n      <td>back</td>\n    </tr>\n    <tr>\n      <td>202</td>\n      <td>104389</td>\n      <td>https://sofifa.com/player/104389/rune-almennin...</td>\n      <td>R. Jarstein</td>\n      <td>Rune  Almenning Jarstein</td>\n      <td>34</td>\n      <td>1984-09-29</td>\n      <td>190</td>\n      <td>86</td>\n      <td>Norway</td>\n      <td>Hertha BSC</td>\n      <td>...</td>\n      <td>NaN</td>\n      <td>NaN</td>\n      <td>NaN</td>\n      <td>NaN</td>\n      <td>NaN</td>\n      <td>NaN</td>\n      <td>NaN</td>\n      <td>NaN</td>\n      <td>NaN</td>\n      <td>keeper</td>\n    </tr>\n  </tbody>\n</table>\n<p>14 rows × 105 columns</p>\n</div>"
     },
     "metadata": {},
     "output_type": "execute_result",
     "execution_count": 41
    }
   ],
   "source": [
    "team_buy_list = pd.concat([fifa_data_20_forward_buy, fifa_data_20_mid_buy, fifa_data_20_back_buy, fifa_data_20_keeper_buy ])\n",
    "team_buy_list"
   ]
  },
  {
   "cell_type": "markdown",
   "metadata": {},
   "source": [
    "## The update team"
   ]
  },
  {
   "cell_type": "code",
   "execution_count": 42,
   "metadata": {
    "pycharm": {
     "is_executing": false
    }
   },
   "outputs": [
    {
     "data": {
      "text/plain": "    sofifa_id                                         player_url  \\\n0      192985  https://sofifa.com/player/192985/kevin-de-bruy...   \n1      177003  https://sofifa.com/player/177003/luka-modric/2...   \n2      215914  https://sofifa.com/player/215914/ngolo-kante/2...   \n3      189511  https://sofifa.com/player/189511/sergio-busque...   \n4      195864  https://sofifa.com/player/195864/paul-pogba/20...   \n5      162347  https://sofifa.com/player/162347/joao-filipe-m...   \n6      224293  https://sofifa.com/player/224293/ruben-diogo-d...   \n7      212501  https://sofifa.com/player/212501/leander-dendo...   \n8      208295  https://sofifa.com/player/208295/romain-saiss/...   \n9      178005  https://sofifa.com/player/178005/rui-pedro-dos...   \n10     104389  https://sofifa.com/player/104389/rune-almennin...   \n11     163600  https://sofifa.com/player/163600/john-ruddy/20...   \n12     181783  https://sofifa.com/player/181783/mario-mandzuk...   \n13     142707  https://sofifa.com/player/142707/lisandro-lope...   \n14     224458  https://sofifa.com/player/224458/diogo-jose-te...   \n15     204838  https://sofifa.com/player/204838/raul-jimenez/...   \n16     237715  https://sofifa.com/player/237715/patrick-cutro...   \n17     213956  https://sofifa.com/player/213956/adama-traore-...   \n18     220685  https://sofifa.com/player/220685/leonardo-b-lo...   \n19     201024  https://sofifa.com/player/201024/kalidou-kouli...   \n20     120533  https://sofifa.com/player/120533/kepler-lavera...   \n21     112316  https://sofifa.com/player/112316/jeremy-mathie...   \n22     171791  https://sofifa.com/player/171791/jose-miguel-d...   \n23     171919  https://sofifa.com/player/171919/ronaldo-apare...   \n24     181098  https://sofifa.com/player/181098/makoto-hasebe...   \n25     210455  https://sofifa.com/player/210455/jonathan-cast...   \n26     202750  https://sofifa.com/player/202750/willy-boly/20...   \n27     201417  https://sofifa.com/player/201417/matt-doherty/...   \n28     225161  https://sofifa.com/player/225161/jesus-vallejo...   \n29     202048  https://sofifa.com/player/202048/conor-coady/2...   \n30     183774  https://sofifa.com/player/183774/ryan-bennett/...   \n31     235172  https://sofifa.com/player/235172/ruben-nascime...   \n32     193143  https://sofifa.com/player/193143/roderick-j-go...   \n\n          short_name                               long_name  age  overall  \\\n0       K. De Bruyne                         Kevin De Bruyne   28       91   \n1          L. Modrić                             Luka Modrić   33       90   \n2           N. Kanté                            N'Golo Kanté   28       89   \n3    Sergio Busquets                Sergio Busquets i Burgos   30       89   \n4           P. Pogba                              Paul Pogba   26       88   \n5      João Moutinho        João Filipe Iria Santos Moutinho   32       84   \n6        Rúben Neves              Rúben Diogo da Silva Neves   22       82   \n7      L. Dendoncker                      Leander Dendoncker   24       78   \n8           R. Saïss                            Romain Saïss   29       77   \n9       Rui Patrício           Rui Pedro dos Santos Patrício   31       83   \n10       R. Jarstein                Rune  Almenning Jarstein   34       83   \n11          J. Ruddy                              John Ruddy   32       70   \n12      M. Mandžukić                         Mario Mandžukić   33       84   \n13          L. López                          Lisandro López   36       81   \n14        Diogo Jota            Diogo José Teixeira da Silva   22       80   \n15        R. Jiménez           Raúl Alonso Jiménez Rodríguez   28       80   \n16        P. Cutrone                         Patrick Cutrone   21       77   \n17      Adama Traoré                     Adama Traoré Diarra   23       74   \n18      Léo Bonatini                 Leonardo B. Lohner Maia   25       72   \n19      K. Koulibaly                       Kalidou Koulibaly   28       89   \n20              Pepe            Képler Laveran Lima Ferreira   36       84   \n21        J. Mathieu                          Jérémy Mathieu   35       81   \n22        José Fonte              José Miguel da Rocha Fonte   35       81   \n23             Naldo            Ronaldo  Aparecido Rodrigues   36       80   \n24         M. Hasebe                                   長谷 部誠   35       80   \n25             Jonny                    Jonathan Castro Otto   25       79   \n26           W. Boly                              Willy Boly   28       79   \n27        M. Doherty                            Matt Doherty   27       78   \n28           Vallejo                    Jesús Vallejo Lázaro   22       77   \n29          C. Coady                            Conor  Coady   26       77   \n30        R. Bennett                            Ryan Bennett   29       73   \n31     Rúben Vinagre  Rúben Gonçalo Silva Nascimento Vinagre   20       70   \n32  Roderick Miranda           Roderick J. Gonçalves Miranda   28       70   \n\n    overall_2021 position player_positions  \n0           89.0      mid          CAM, CM  \n1           89.0      mid               CM  \n2           88.0      mid          CDM, CM  \n3           88.0      mid          CDM, CM  \n4           88.0      mid          CM, CDM  \n5           83.0      mid               CM  \n6           83.0      mid               CM  \n7           79.0      mid           CM, CB  \n8           76.0      mid          CDM, CB  \n9           82.0   keeper               GK  \n10          82.0   keeper               GK  \n11          70.0   keeper               GK  \n12          83.0  forward           ST, LW  \n13          80.0  forward               ST  \n14          81.0  forward           CF, LW  \n15          80.0  forward               ST  \n16          78.0  forward               ST  \n17          75.0  forward          RW, RWB  \n18          72.0  forward               ST  \n19          89.0     back               CB  \n20          82.0     back               CB  \n21          80.0     back               CB  \n22          80.0     back               CB  \n23          79.0     back               CB  \n24          79.0     back          CB, CDM  \n25          79.0     back          LWB, LB  \n26          79.0     back               CB  \n27          78.0     back              RWB  \n28          78.0     back               CB  \n29          77.0     back               CB  \n30          73.0     back               CB  \n31          72.0     back              LWB  \n32          70.0     back               CB  ",
      "text/html": "<div>\n<style scoped>\n    .dataframe tbody tr th:only-of-type {\n        vertical-align: middle;\n    }\n\n    .dataframe tbody tr th {\n        vertical-align: top;\n    }\n\n    .dataframe thead th {\n        text-align: right;\n    }\n</style>\n<table border=\"1\" class=\"dataframe\">\n  <thead>\n    <tr style=\"text-align: right;\">\n      <th></th>\n      <th>sofifa_id</th>\n      <th>player_url</th>\n      <th>short_name</th>\n      <th>long_name</th>\n      <th>age</th>\n      <th>overall</th>\n      <th>overall_2021</th>\n      <th>position</th>\n      <th>player_positions</th>\n    </tr>\n  </thead>\n  <tbody>\n    <tr>\n      <td>0</td>\n      <td>192985</td>\n      <td>https://sofifa.com/player/192985/kevin-de-bruy...</td>\n      <td>K. De Bruyne</td>\n      <td>Kevin De Bruyne</td>\n      <td>28</td>\n      <td>91</td>\n      <td>89.0</td>\n      <td>mid</td>\n      <td>CAM, CM</td>\n    </tr>\n    <tr>\n      <td>1</td>\n      <td>177003</td>\n      <td>https://sofifa.com/player/177003/luka-modric/2...</td>\n      <td>L. Modrić</td>\n      <td>Luka Modrić</td>\n      <td>33</td>\n      <td>90</td>\n      <td>89.0</td>\n      <td>mid</td>\n      <td>CM</td>\n    </tr>\n    <tr>\n      <td>2</td>\n      <td>215914</td>\n      <td>https://sofifa.com/player/215914/ngolo-kante/2...</td>\n      <td>N. Kanté</td>\n      <td>N'Golo Kanté</td>\n      <td>28</td>\n      <td>89</td>\n      <td>88.0</td>\n      <td>mid</td>\n      <td>CDM, CM</td>\n    </tr>\n    <tr>\n      <td>3</td>\n      <td>189511</td>\n      <td>https://sofifa.com/player/189511/sergio-busque...</td>\n      <td>Sergio Busquets</td>\n      <td>Sergio Busquets i Burgos</td>\n      <td>30</td>\n      <td>89</td>\n      <td>88.0</td>\n      <td>mid</td>\n      <td>CDM, CM</td>\n    </tr>\n    <tr>\n      <td>4</td>\n      <td>195864</td>\n      <td>https://sofifa.com/player/195864/paul-pogba/20...</td>\n      <td>P. Pogba</td>\n      <td>Paul Pogba</td>\n      <td>26</td>\n      <td>88</td>\n      <td>88.0</td>\n      <td>mid</td>\n      <td>CM, CDM</td>\n    </tr>\n    <tr>\n      <td>5</td>\n      <td>162347</td>\n      <td>https://sofifa.com/player/162347/joao-filipe-m...</td>\n      <td>João Moutinho</td>\n      <td>João Filipe Iria Santos Moutinho</td>\n      <td>32</td>\n      <td>84</td>\n      <td>83.0</td>\n      <td>mid</td>\n      <td>CM</td>\n    </tr>\n    <tr>\n      <td>6</td>\n      <td>224293</td>\n      <td>https://sofifa.com/player/224293/ruben-diogo-d...</td>\n      <td>Rúben Neves</td>\n      <td>Rúben Diogo da Silva Neves</td>\n      <td>22</td>\n      <td>82</td>\n      <td>83.0</td>\n      <td>mid</td>\n      <td>CM</td>\n    </tr>\n    <tr>\n      <td>7</td>\n      <td>212501</td>\n      <td>https://sofifa.com/player/212501/leander-dendo...</td>\n      <td>L. Dendoncker</td>\n      <td>Leander Dendoncker</td>\n      <td>24</td>\n      <td>78</td>\n      <td>79.0</td>\n      <td>mid</td>\n      <td>CM, CB</td>\n    </tr>\n    <tr>\n      <td>8</td>\n      <td>208295</td>\n      <td>https://sofifa.com/player/208295/romain-saiss/...</td>\n      <td>R. Saïss</td>\n      <td>Romain Saïss</td>\n      <td>29</td>\n      <td>77</td>\n      <td>76.0</td>\n      <td>mid</td>\n      <td>CDM, CB</td>\n    </tr>\n    <tr>\n      <td>9</td>\n      <td>178005</td>\n      <td>https://sofifa.com/player/178005/rui-pedro-dos...</td>\n      <td>Rui Patrício</td>\n      <td>Rui Pedro dos Santos Patrício</td>\n      <td>31</td>\n      <td>83</td>\n      <td>82.0</td>\n      <td>keeper</td>\n      <td>GK</td>\n    </tr>\n    <tr>\n      <td>10</td>\n      <td>104389</td>\n      <td>https://sofifa.com/player/104389/rune-almennin...</td>\n      <td>R. Jarstein</td>\n      <td>Rune  Almenning Jarstein</td>\n      <td>34</td>\n      <td>83</td>\n      <td>82.0</td>\n      <td>keeper</td>\n      <td>GK</td>\n    </tr>\n    <tr>\n      <td>11</td>\n      <td>163600</td>\n      <td>https://sofifa.com/player/163600/john-ruddy/20...</td>\n      <td>J. Ruddy</td>\n      <td>John Ruddy</td>\n      <td>32</td>\n      <td>70</td>\n      <td>70.0</td>\n      <td>keeper</td>\n      <td>GK</td>\n    </tr>\n    <tr>\n      <td>12</td>\n      <td>181783</td>\n      <td>https://sofifa.com/player/181783/mario-mandzuk...</td>\n      <td>M. Mandžukić</td>\n      <td>Mario Mandžukić</td>\n      <td>33</td>\n      <td>84</td>\n      <td>83.0</td>\n      <td>forward</td>\n      <td>ST, LW</td>\n    </tr>\n    <tr>\n      <td>13</td>\n      <td>142707</td>\n      <td>https://sofifa.com/player/142707/lisandro-lope...</td>\n      <td>L. López</td>\n      <td>Lisandro López</td>\n      <td>36</td>\n      <td>81</td>\n      <td>80.0</td>\n      <td>forward</td>\n      <td>ST</td>\n    </tr>\n    <tr>\n      <td>14</td>\n      <td>224458</td>\n      <td>https://sofifa.com/player/224458/diogo-jose-te...</td>\n      <td>Diogo Jota</td>\n      <td>Diogo José Teixeira da Silva</td>\n      <td>22</td>\n      <td>80</td>\n      <td>81.0</td>\n      <td>forward</td>\n      <td>CF, LW</td>\n    </tr>\n    <tr>\n      <td>15</td>\n      <td>204838</td>\n      <td>https://sofifa.com/player/204838/raul-jimenez/...</td>\n      <td>R. Jiménez</td>\n      <td>Raúl Alonso Jiménez Rodríguez</td>\n      <td>28</td>\n      <td>80</td>\n      <td>80.0</td>\n      <td>forward</td>\n      <td>ST</td>\n    </tr>\n    <tr>\n      <td>16</td>\n      <td>237715</td>\n      <td>https://sofifa.com/player/237715/patrick-cutro...</td>\n      <td>P. Cutrone</td>\n      <td>Patrick Cutrone</td>\n      <td>21</td>\n      <td>77</td>\n      <td>78.0</td>\n      <td>forward</td>\n      <td>ST</td>\n    </tr>\n    <tr>\n      <td>17</td>\n      <td>213956</td>\n      <td>https://sofifa.com/player/213956/adama-traore-...</td>\n      <td>Adama Traoré</td>\n      <td>Adama Traoré Diarra</td>\n      <td>23</td>\n      <td>74</td>\n      <td>75.0</td>\n      <td>forward</td>\n      <td>RW, RWB</td>\n    </tr>\n    <tr>\n      <td>18</td>\n      <td>220685</td>\n      <td>https://sofifa.com/player/220685/leonardo-b-lo...</td>\n      <td>Léo Bonatini</td>\n      <td>Leonardo B. Lohner Maia</td>\n      <td>25</td>\n      <td>72</td>\n      <td>72.0</td>\n      <td>forward</td>\n      <td>ST</td>\n    </tr>\n    <tr>\n      <td>19</td>\n      <td>201024</td>\n      <td>https://sofifa.com/player/201024/kalidou-kouli...</td>\n      <td>K. Koulibaly</td>\n      <td>Kalidou Koulibaly</td>\n      <td>28</td>\n      <td>89</td>\n      <td>89.0</td>\n      <td>back</td>\n      <td>CB</td>\n    </tr>\n    <tr>\n      <td>20</td>\n      <td>120533</td>\n      <td>https://sofifa.com/player/120533/kepler-lavera...</td>\n      <td>Pepe</td>\n      <td>Képler Laveran Lima Ferreira</td>\n      <td>36</td>\n      <td>84</td>\n      <td>82.0</td>\n      <td>back</td>\n      <td>CB</td>\n    </tr>\n    <tr>\n      <td>21</td>\n      <td>112316</td>\n      <td>https://sofifa.com/player/112316/jeremy-mathie...</td>\n      <td>J. Mathieu</td>\n      <td>Jérémy Mathieu</td>\n      <td>35</td>\n      <td>81</td>\n      <td>80.0</td>\n      <td>back</td>\n      <td>CB</td>\n    </tr>\n    <tr>\n      <td>22</td>\n      <td>171791</td>\n      <td>https://sofifa.com/player/171791/jose-miguel-d...</td>\n      <td>José Fonte</td>\n      <td>José Miguel da Rocha Fonte</td>\n      <td>35</td>\n      <td>81</td>\n      <td>80.0</td>\n      <td>back</td>\n      <td>CB</td>\n    </tr>\n    <tr>\n      <td>23</td>\n      <td>171919</td>\n      <td>https://sofifa.com/player/171919/ronaldo-apare...</td>\n      <td>Naldo</td>\n      <td>Ronaldo  Aparecido Rodrigues</td>\n      <td>36</td>\n      <td>80</td>\n      <td>79.0</td>\n      <td>back</td>\n      <td>CB</td>\n    </tr>\n    <tr>\n      <td>24</td>\n      <td>181098</td>\n      <td>https://sofifa.com/player/181098/makoto-hasebe...</td>\n      <td>M. Hasebe</td>\n      <td>長谷 部誠</td>\n      <td>35</td>\n      <td>80</td>\n      <td>79.0</td>\n      <td>back</td>\n      <td>CB, CDM</td>\n    </tr>\n    <tr>\n      <td>25</td>\n      <td>210455</td>\n      <td>https://sofifa.com/player/210455/jonathan-cast...</td>\n      <td>Jonny</td>\n      <td>Jonathan Castro Otto</td>\n      <td>25</td>\n      <td>79</td>\n      <td>79.0</td>\n      <td>back</td>\n      <td>LWB, LB</td>\n    </tr>\n    <tr>\n      <td>26</td>\n      <td>202750</td>\n      <td>https://sofifa.com/player/202750/willy-boly/20...</td>\n      <td>W. Boly</td>\n      <td>Willy Boly</td>\n      <td>28</td>\n      <td>79</td>\n      <td>79.0</td>\n      <td>back</td>\n      <td>CB</td>\n    </tr>\n    <tr>\n      <td>27</td>\n      <td>201417</td>\n      <td>https://sofifa.com/player/201417/matt-doherty/...</td>\n      <td>M. Doherty</td>\n      <td>Matt Doherty</td>\n      <td>27</td>\n      <td>78</td>\n      <td>78.0</td>\n      <td>back</td>\n      <td>RWB</td>\n    </tr>\n    <tr>\n      <td>28</td>\n      <td>225161</td>\n      <td>https://sofifa.com/player/225161/jesus-vallejo...</td>\n      <td>Vallejo</td>\n      <td>Jesús Vallejo Lázaro</td>\n      <td>22</td>\n      <td>77</td>\n      <td>78.0</td>\n      <td>back</td>\n      <td>CB</td>\n    </tr>\n    <tr>\n      <td>29</td>\n      <td>202048</td>\n      <td>https://sofifa.com/player/202048/conor-coady/2...</td>\n      <td>C. Coady</td>\n      <td>Conor  Coady</td>\n      <td>26</td>\n      <td>77</td>\n      <td>77.0</td>\n      <td>back</td>\n      <td>CB</td>\n    </tr>\n    <tr>\n      <td>30</td>\n      <td>183774</td>\n      <td>https://sofifa.com/player/183774/ryan-bennett/...</td>\n      <td>R. Bennett</td>\n      <td>Ryan Bennett</td>\n      <td>29</td>\n      <td>73</td>\n      <td>73.0</td>\n      <td>back</td>\n      <td>CB</td>\n    </tr>\n    <tr>\n      <td>31</td>\n      <td>235172</td>\n      <td>https://sofifa.com/player/235172/ruben-nascime...</td>\n      <td>Rúben Vinagre</td>\n      <td>Rúben Gonçalo Silva Nascimento Vinagre</td>\n      <td>20</td>\n      <td>70</td>\n      <td>72.0</td>\n      <td>back</td>\n      <td>LWB</td>\n    </tr>\n    <tr>\n      <td>32</td>\n      <td>193143</td>\n      <td>https://sofifa.com/player/193143/roderick-j-go...</td>\n      <td>Roderick Miranda</td>\n      <td>Roderick J. Gonçalves Miranda</td>\n      <td>28</td>\n      <td>70</td>\n      <td>70.0</td>\n      <td>back</td>\n      <td>CB</td>\n    </tr>\n  </tbody>\n</table>\n</div>"
     },
     "metadata": {},
     "output_type": "execute_result",
     "execution_count": 42
    }
   ],
   "source": [
    "fifa_data_20_Wolverhampton_new = fifa_data_20_Wolverhampton[~fifa_data_20_Wolverhampton['sofifa_id'].isin(fifa_data_20_Wolverhampton_below_average['sofifa_id'])]\n",
    "fifa_data_20_Wolverhampton_new = pd.concat([fifa_data_20_Wolverhampton_new, team_buy_list])\n",
    "fifa_data_20_Wolverhampton_new = fifa_data_20_Wolverhampton_new.sort_values(by=['position', 'overall'], ascending=False)\n",
    "fifa_data_20_Wolverhampton_new = fifa_data_20_Wolverhampton_new.merge(fifa_data_21[['sofifa_id', 'overall_2021']], on=['sofifa_id'],how='left')\n",
    "fifa_data_20_Wolverhampton_new[['sofifa_id', 'player_url', 'short_name', 'long_name', 'age', 'overall', 'overall_2021', 'position', 'player_positions']]"
   ]
  },
  {
   "cell_type": "code",
   "execution_count": 42,
   "metadata": {
    "pycharm": {
     "is_executing": false
    }
   },
   "outputs": [],
   "source": []
  }
 ],
 "metadata": {
  "kernelspec": {
   "display_name": "Python 3",
   "language": "python",
   "name": "python3"
  },
  "language_info": {
   "codemirror_mode": {
    "name": "ipython",
    "version": 3
   },
   "file_extension": ".py",
   "mimetype": "text/x-python",
   "name": "python",
   "nbconvert_exporter": "python",
   "pygments_lexer": "ipython3",
   "version": "3.6.8"
  }
 },
 "nbformat": 4,
 "nbformat_minor": 1
}