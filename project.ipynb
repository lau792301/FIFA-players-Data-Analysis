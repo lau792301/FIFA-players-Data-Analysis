{
 "cells": [
  {
   "cell_type": "code",
   "execution_count": 1,
   "metadata": {
    "pycharm": {
     "is_executing": true
    }
   },
   "outputs": [],
   "source": [
    "%matplotlib inline\n",
    "import numpy as np\n",
    "import pandas as pd\n",
    "import seaborn as sns\n",
    "import matplotlib.pyplot as plt\n",
    "import matplotlib as mpl"
   ]
  },
  {
   "cell_type": "markdown",
   "metadata": {},
   "source": [
    "## Read Data"
   ]
  },
  {
   "cell_type": "code",
   "execution_count": 2,
   "metadata": {
    "pycharm": {
     "is_executing": true
    }
   },
   "outputs": [
    {
     "data": {
      "text/html": [
       "<div>\n",
       "<style scoped>\n",
       "    .dataframe tbody tr th:only-of-type {\n",
       "        vertical-align: middle;\n",
       "    }\n",
       "\n",
       "    .dataframe tbody tr th {\n",
       "        vertical-align: top;\n",
       "    }\n",
       "\n",
       "    .dataframe thead th {\n",
       "        text-align: right;\n",
       "    }\n",
       "</style>\n",
       "<table border=\"1\" class=\"dataframe\">\n",
       "  <thead>\n",
       "    <tr style=\"text-align: right;\">\n",
       "      <th></th>\n",
       "      <th>sofifa_id</th>\n",
       "      <th>player_url</th>\n",
       "      <th>short_name</th>\n",
       "      <th>long_name</th>\n",
       "      <th>age</th>\n",
       "      <th>dob</th>\n",
       "      <th>height_cm</th>\n",
       "      <th>weight_kg</th>\n",
       "      <th>nationality</th>\n",
       "      <th>club</th>\n",
       "      <th>...</th>\n",
       "      <th>ldm</th>\n",
       "      <th>cdm</th>\n",
       "      <th>rdm</th>\n",
       "      <th>rwb</th>\n",
       "      <th>lb</th>\n",
       "      <th>lcb</th>\n",
       "      <th>cb</th>\n",
       "      <th>rcb</th>\n",
       "      <th>rb</th>\n",
       "      <th>year</th>\n",
       "    </tr>\n",
       "  </thead>\n",
       "  <tbody>\n",
       "    <tr>\n",
       "      <td>0</td>\n",
       "      <td>158023</td>\n",
       "      <td>https://sofifa.com/player/158023/lionel-messi/...</td>\n",
       "      <td>L. Messi</td>\n",
       "      <td>Lionel Andrés Messi Cuccittini</td>\n",
       "      <td>28</td>\n",
       "      <td>1987-06-24</td>\n",
       "      <td>170</td>\n",
       "      <td>72</td>\n",
       "      <td>Argentina</td>\n",
       "      <td>FC Barcelona</td>\n",
       "      <td>...</td>\n",
       "      <td>57+3</td>\n",
       "      <td>57+3</td>\n",
       "      <td>57+3</td>\n",
       "      <td>62+3</td>\n",
       "      <td>57+3</td>\n",
       "      <td>44+3</td>\n",
       "      <td>44+3</td>\n",
       "      <td>44+3</td>\n",
       "      <td>57+3</td>\n",
       "      <td>2016</td>\n",
       "    </tr>\n",
       "    <tr>\n",
       "      <td>1</td>\n",
       "      <td>20801</td>\n",
       "      <td>https://sofifa.com/player/20801/c-ronaldo-dos-...</td>\n",
       "      <td>Cristiano Ronaldo</td>\n",
       "      <td>Cristiano Ronaldo dos Santos Aveiro</td>\n",
       "      <td>30</td>\n",
       "      <td>1985-02-05</td>\n",
       "      <td>185</td>\n",
       "      <td>80</td>\n",
       "      <td>Portugal</td>\n",
       "      <td>Real Madrid</td>\n",
       "      <td>...</td>\n",
       "      <td>60+3</td>\n",
       "      <td>60+3</td>\n",
       "      <td>60+3</td>\n",
       "      <td>64+3</td>\n",
       "      <td>60+3</td>\n",
       "      <td>52+3</td>\n",
       "      <td>52+3</td>\n",
       "      <td>52+3</td>\n",
       "      <td>60+3</td>\n",
       "      <td>2016</td>\n",
       "    </tr>\n",
       "    <tr>\n",
       "      <td>2</td>\n",
       "      <td>9014</td>\n",
       "      <td>https://sofifa.com/player/9014/arjen-robben/16...</td>\n",
       "      <td>A. Robben</td>\n",
       "      <td>Arjen Robben</td>\n",
       "      <td>31</td>\n",
       "      <td>1984-01-23</td>\n",
       "      <td>180</td>\n",
       "      <td>80</td>\n",
       "      <td>Netherlands</td>\n",
       "      <td>FC Bayern München</td>\n",
       "      <td>...</td>\n",
       "      <td>60+3</td>\n",
       "      <td>60+3</td>\n",
       "      <td>60+3</td>\n",
       "      <td>65+3</td>\n",
       "      <td>59+3</td>\n",
       "      <td>47+3</td>\n",
       "      <td>47+3</td>\n",
       "      <td>47+3</td>\n",
       "      <td>59+3</td>\n",
       "      <td>2016</td>\n",
       "    </tr>\n",
       "    <tr>\n",
       "      <td>3</td>\n",
       "      <td>167495</td>\n",
       "      <td>https://sofifa.com/player/167495/manuel-neuer/...</td>\n",
       "      <td>M. Neuer</td>\n",
       "      <td>Manuel Neuer</td>\n",
       "      <td>29</td>\n",
       "      <td>1986-03-27</td>\n",
       "      <td>193</td>\n",
       "      <td>92</td>\n",
       "      <td>Germany</td>\n",
       "      <td>FC Bayern München</td>\n",
       "      <td>...</td>\n",
       "      <td>NaN</td>\n",
       "      <td>NaN</td>\n",
       "      <td>NaN</td>\n",
       "      <td>NaN</td>\n",
       "      <td>NaN</td>\n",
       "      <td>NaN</td>\n",
       "      <td>NaN</td>\n",
       "      <td>NaN</td>\n",
       "      <td>NaN</td>\n",
       "      <td>2016</td>\n",
       "    </tr>\n",
       "    <tr>\n",
       "      <td>4</td>\n",
       "      <td>176580</td>\n",
       "      <td>https://sofifa.com/player/176580/luis-suarez/1...</td>\n",
       "      <td>L. Suárez</td>\n",
       "      <td>Luis Alberto Suárez Díaz</td>\n",
       "      <td>28</td>\n",
       "      <td>1987-01-24</td>\n",
       "      <td>182</td>\n",
       "      <td>85</td>\n",
       "      <td>Uruguay</td>\n",
       "      <td>FC Barcelona</td>\n",
       "      <td>...</td>\n",
       "      <td>65+3</td>\n",
       "      <td>65+3</td>\n",
       "      <td>65+3</td>\n",
       "      <td>67+3</td>\n",
       "      <td>64+3</td>\n",
       "      <td>58+3</td>\n",
       "      <td>58+3</td>\n",
       "      <td>58+3</td>\n",
       "      <td>64+3</td>\n",
       "      <td>2016</td>\n",
       "    </tr>\n",
       "  </tbody>\n",
       "</table>\n",
       "<p>5 rows × 105 columns</p>\n",
       "</div>"
      ],
      "text/plain": [
       "   sofifa_id                                         player_url  \\\n",
       "0     158023  https://sofifa.com/player/158023/lionel-messi/...   \n",
       "1      20801  https://sofifa.com/player/20801/c-ronaldo-dos-...   \n",
       "2       9014  https://sofifa.com/player/9014/arjen-robben/16...   \n",
       "3     167495  https://sofifa.com/player/167495/manuel-neuer/...   \n",
       "4     176580  https://sofifa.com/player/176580/luis-suarez/1...   \n",
       "\n",
       "          short_name                            long_name  age         dob  \\\n",
       "0           L. Messi       Lionel Andrés Messi Cuccittini   28  1987-06-24   \n",
       "1  Cristiano Ronaldo  Cristiano Ronaldo dos Santos Aveiro   30  1985-02-05   \n",
       "2          A. Robben                         Arjen Robben   31  1984-01-23   \n",
       "3           M. Neuer                         Manuel Neuer   29  1986-03-27   \n",
       "4          L. Suárez             Luis Alberto Suárez Díaz   28  1987-01-24   \n",
       "\n",
       "   height_cm  weight_kg  nationality               club  ...   ldm   cdm  \\\n",
       "0        170         72    Argentina       FC Barcelona  ...  57+3  57+3   \n",
       "1        185         80     Portugal        Real Madrid  ...  60+3  60+3   \n",
       "2        180         80  Netherlands  FC Bayern München  ...  60+3  60+3   \n",
       "3        193         92      Germany  FC Bayern München  ...   NaN   NaN   \n",
       "4        182         85      Uruguay       FC Barcelona  ...  65+3  65+3   \n",
       "\n",
       "    rdm   rwb    lb   lcb    cb   rcb    rb  year  \n",
       "0  57+3  62+3  57+3  44+3  44+3  44+3  57+3  2016  \n",
       "1  60+3  64+3  60+3  52+3  52+3  52+3  60+3  2016  \n",
       "2  60+3  65+3  59+3  47+3  47+3  47+3  59+3  2016  \n",
       "3   NaN   NaN   NaN   NaN   NaN   NaN   NaN  2016  \n",
       "4  65+3  67+3  64+3  58+3  58+3  58+3  64+3  2016  \n",
       "\n",
       "[5 rows x 105 columns]"
      ]
     },
     "execution_count": 2,
     "metadata": {},
     "output_type": "execute_result"
    }
   ],
   "source": [
    "csv_file='./data/players_%s.csv'\n",
    "years = ['16', '17', '18', '19', '20']\n",
    "\n",
    "fifa_total = pd.DataFrame()\n",
    "for year in years:\n",
    "    fifa_data = pd.read_csv(csv_file % year)\n",
    "    fifa_data['year'] = '20%s' % year\n",
    "    fifa_total = fifa_total.append(fifa_data)\n",
    "    \n",
    "fifa_total.head()"
   ]
  },
  {
   "cell_type": "markdown",
   "metadata": {},
   "source": [
    "### Define useful information (eg. players position group, useful columns)"
   ]
  },
  {
   "cell_type": "code",
   "execution_count": 3,
   "metadata": {
    "pycharm": {
     "is_executing": true
    }
   },
   "outputs": [],
   "source": [
    "forward = ['ls', 'st', 'rs', 'lw', 'lf', 'cf', 'rf', 'rw']\n",
    "mid = ['lam', 'cam', 'ram', 'lm', 'lcm', 'cm', 'rcm', 'rm', 'ldm', 'cdm', 'rdm']\n",
    "back = ['lwb', 'rwb', 'lb', 'lcb', 'cb', 'rcb', 'rb']\n",
    "keeper = ['gk']"
   ]
  },
  {
   "cell_type": "code",
   "execution_count": 4,
   "metadata": {
    "pycharm": {
     "is_executing": true
    }
   },
   "outputs": [],
   "source": [
    "player_info_col = ['sofifa_id', 'player_url', 'short_name', 'age', 'height_cm', 'weight_kg', \n",
    "                   'nationality', 'club', 'overall', 'potential', 'value_eur', 'wage_eur', \n",
    "                   'player_positions', 'preferred_foot']"
   ]
  },
  {
   "cell_type": "code",
   "execution_count": 5,
   "metadata": {
    "pycharm": {
     "is_executing": true
    }
   },
   "outputs": [],
   "source": [
    "player_abilities_col = ['pace', 'shooting', 'passing', 'dribbling', 'defending', 'physic', \n",
    "                        'gk_diving', 'gk_handling', 'gk_kicking', 'gk_reflexes', 'gk_speed', 'gk_positioning', \n",
    "                        'attacking_crossing', 'attacking_finishing', 'attacking_heading_accuracy', \n",
    "                        'attacking_short_passing', 'attacking_volleys', 'skill_dribbling', 'skill_curve', 'skill_fk_accuracy',\n",
    "                        'skill_long_passing', 'skill_ball_control', 'movement_acceleration', 'movement_sprint_speed', \n",
    "                        'movement_agility', 'movement_reactions', 'movement_balance', 'power_shot_power', \n",
    "                        'power_jumping', 'power_stamina', 'power_strength', 'power_long_shots', 'mentality_aggression', \n",
    "                        'mentality_interceptions', 'mentality_positioning', 'mentality_vision', 'mentality_penalties', \n",
    "                        'mentality_composure', 'defending_marking', 'defending_standing_tackle', 'defending_sliding_tackle',\n",
    "                        'goalkeeping_diving', 'goalkeeping_handling', 'goalkeeping_kicking', 'goalkeeping_positioning', \n",
    "                        'goalkeeping_reflexes']"
   ]
  },
  {
   "cell_type": "markdown",
   "metadata": {},
   "source": [
    "### Handle Missing Data"
   ]
  },
  {
   "cell_type": "code",
   "execution_count": 6,
   "metadata": {
    "pycharm": {
     "is_executing": true
    }
   },
   "outputs": [
    {
     "data": {
      "text/html": [
       "<div>\n",
       "<style scoped>\n",
       "    .dataframe tbody tr th:only-of-type {\n",
       "        vertical-align: middle;\n",
       "    }\n",
       "\n",
       "    .dataframe tbody tr th {\n",
       "        vertical-align: top;\n",
       "    }\n",
       "\n",
       "    .dataframe thead th {\n",
       "        text-align: right;\n",
       "    }\n",
       "</style>\n",
       "<table border=\"1\" class=\"dataframe\">\n",
       "  <thead>\n",
       "    <tr style=\"text-align: right;\">\n",
       "      <th></th>\n",
       "      <th>pace</th>\n",
       "      <th>shooting</th>\n",
       "      <th>passing</th>\n",
       "      <th>dribbling</th>\n",
       "      <th>defending</th>\n",
       "      <th>physic</th>\n",
       "      <th>gk_diving</th>\n",
       "      <th>gk_handling</th>\n",
       "      <th>gk_kicking</th>\n",
       "      <th>gk_reflexes</th>\n",
       "      <th>...</th>\n",
       "      <th>mentality_penalties</th>\n",
       "      <th>mentality_composure</th>\n",
       "      <th>defending_marking</th>\n",
       "      <th>defending_standing_tackle</th>\n",
       "      <th>defending_sliding_tackle</th>\n",
       "      <th>goalkeeping_diving</th>\n",
       "      <th>goalkeeping_handling</th>\n",
       "      <th>goalkeeping_kicking</th>\n",
       "      <th>goalkeeping_positioning</th>\n",
       "      <th>goalkeeping_reflexes</th>\n",
       "    </tr>\n",
       "  </thead>\n",
       "  <tbody>\n",
       "    <tr>\n",
       "      <td>0</td>\n",
       "      <td>92.0</td>\n",
       "      <td>88.0</td>\n",
       "      <td>86.0</td>\n",
       "      <td>95.0</td>\n",
       "      <td>24.0</td>\n",
       "      <td>62.0</td>\n",
       "      <td>0.0</td>\n",
       "      <td>0.0</td>\n",
       "      <td>0.0</td>\n",
       "      <td>0.0</td>\n",
       "      <td>...</td>\n",
       "      <td>74</td>\n",
       "      <td>0</td>\n",
       "      <td>13-12</td>\n",
       "      <td>23+2</td>\n",
       "      <td>21+1</td>\n",
       "      <td>6</td>\n",
       "      <td>11</td>\n",
       "      <td>15</td>\n",
       "      <td>14</td>\n",
       "      <td>8</td>\n",
       "    </tr>\n",
       "    <tr>\n",
       "      <td>1</td>\n",
       "      <td>92.0</td>\n",
       "      <td>93.0</td>\n",
       "      <td>80.0</td>\n",
       "      <td>91.0</td>\n",
       "      <td>33.0</td>\n",
       "      <td>78.0</td>\n",
       "      <td>0.0</td>\n",
       "      <td>0.0</td>\n",
       "      <td>0.0</td>\n",
       "      <td>0.0</td>\n",
       "      <td>...</td>\n",
       "      <td>85</td>\n",
       "      <td>0</td>\n",
       "      <td>22</td>\n",
       "      <td>31</td>\n",
       "      <td>23</td>\n",
       "      <td>7</td>\n",
       "      <td>11</td>\n",
       "      <td>15</td>\n",
       "      <td>14</td>\n",
       "      <td>11</td>\n",
       "    </tr>\n",
       "    <tr>\n",
       "      <td>2</td>\n",
       "      <td>92.0</td>\n",
       "      <td>86.0</td>\n",
       "      <td>82.0</td>\n",
       "      <td>92.0</td>\n",
       "      <td>32.0</td>\n",
       "      <td>64.0</td>\n",
       "      <td>0.0</td>\n",
       "      <td>0.0</td>\n",
       "      <td>0.0</td>\n",
       "      <td>0.0</td>\n",
       "      <td>...</td>\n",
       "      <td>80</td>\n",
       "      <td>0</td>\n",
       "      <td>29</td>\n",
       "      <td>26</td>\n",
       "      <td>26</td>\n",
       "      <td>10</td>\n",
       "      <td>8</td>\n",
       "      <td>11</td>\n",
       "      <td>5</td>\n",
       "      <td>15</td>\n",
       "    </tr>\n",
       "    <tr>\n",
       "      <td>3</td>\n",
       "      <td>0.0</td>\n",
       "      <td>0.0</td>\n",
       "      <td>0.0</td>\n",
       "      <td>0.0</td>\n",
       "      <td>0.0</td>\n",
       "      <td>0.0</td>\n",
       "      <td>85.0</td>\n",
       "      <td>87.0</td>\n",
       "      <td>91.0</td>\n",
       "      <td>86.0</td>\n",
       "      <td>...</td>\n",
       "      <td>37</td>\n",
       "      <td>0</td>\n",
       "      <td>10-15</td>\n",
       "      <td>10-15</td>\n",
       "      <td>11-14</td>\n",
       "      <td>85-3</td>\n",
       "      <td>87+2</td>\n",
       "      <td>91</td>\n",
       "      <td>90</td>\n",
       "      <td>86</td>\n",
       "    </tr>\n",
       "    <tr>\n",
       "      <td>4</td>\n",
       "      <td>83.0</td>\n",
       "      <td>88.0</td>\n",
       "      <td>79.0</td>\n",
       "      <td>87.0</td>\n",
       "      <td>42.0</td>\n",
       "      <td>79.0</td>\n",
       "      <td>0.0</td>\n",
       "      <td>0.0</td>\n",
       "      <td>0.0</td>\n",
       "      <td>0.0</td>\n",
       "      <td>...</td>\n",
       "      <td>85</td>\n",
       "      <td>0</td>\n",
       "      <td>30</td>\n",
       "      <td>45</td>\n",
       "      <td>38</td>\n",
       "      <td>27</td>\n",
       "      <td>25</td>\n",
       "      <td>31</td>\n",
       "      <td>33</td>\n",
       "      <td>37</td>\n",
       "    </tr>\n",
       "  </tbody>\n",
       "</table>\n",
       "<p>5 rows × 46 columns</p>\n",
       "</div>"
      ],
      "text/plain": [
       "   pace  shooting  passing  dribbling  defending  physic  gk_diving  \\\n",
       "0  92.0      88.0     86.0       95.0       24.0    62.0        0.0   \n",
       "1  92.0      93.0     80.0       91.0       33.0    78.0        0.0   \n",
       "2  92.0      86.0     82.0       92.0       32.0    64.0        0.0   \n",
       "3   0.0       0.0      0.0        0.0        0.0     0.0       85.0   \n",
       "4  83.0      88.0     79.0       87.0       42.0    79.0        0.0   \n",
       "\n",
       "   gk_handling  gk_kicking  gk_reflexes  ...  mentality_penalties  \\\n",
       "0          0.0         0.0          0.0  ...                   74   \n",
       "1          0.0         0.0          0.0  ...                   85   \n",
       "2          0.0         0.0          0.0  ...                   80   \n",
       "3         87.0        91.0         86.0  ...                   37   \n",
       "4          0.0         0.0          0.0  ...                   85   \n",
       "\n",
       "   mentality_composure defending_marking defending_standing_tackle  \\\n",
       "0                    0             13-12                      23+2   \n",
       "1                    0                22                        31   \n",
       "2                    0                29                        26   \n",
       "3                    0             10-15                     10-15   \n",
       "4                    0                30                        45   \n",
       "\n",
       "  defending_sliding_tackle goalkeeping_diving goalkeeping_handling  \\\n",
       "0                     21+1                  6                   11   \n",
       "1                       23                  7                   11   \n",
       "2                       26                 10                    8   \n",
       "3                    11-14               85-3                 87+2   \n",
       "4                       38                 27                   25   \n",
       "\n",
       "  goalkeeping_kicking goalkeeping_positioning goalkeeping_reflexes  \n",
       "0                  15                      14                    8  \n",
       "1                  15                      14                   11  \n",
       "2                  11                       5                   15  \n",
       "3                  91                      90                   86  \n",
       "4                  31                      33                   37  \n",
       "\n",
       "[5 rows x 46 columns]"
      ]
     },
     "execution_count": 6,
     "metadata": {},
     "output_type": "execute_result"
    }
   ],
   "source": [
    "fifa_total[player_abilities_col] = fifa_total[player_abilities_col].replace(np.NaN, 0)\n",
    "fifa_total[player_abilities_col].head()"
   ]
  },
  {
   "cell_type": "markdown",
   "metadata": {},
   "source": [
    "### Handle +/- data"
   ]
  },
  {
   "cell_type": "code",
   "execution_count": 7,
   "metadata": {
    "pycharm": {
     "is_executing": true
    }
   },
   "outputs": [
    {
     "data": {
      "text/html": [
       "<div>\n",
       "<style scoped>\n",
       "    .dataframe tbody tr th:only-of-type {\n",
       "        vertical-align: middle;\n",
       "    }\n",
       "\n",
       "    .dataframe tbody tr th {\n",
       "        vertical-align: top;\n",
       "    }\n",
       "\n",
       "    .dataframe thead th {\n",
       "        text-align: right;\n",
       "    }\n",
       "</style>\n",
       "<table border=\"1\" class=\"dataframe\">\n",
       "  <thead>\n",
       "    <tr style=\"text-align: right;\">\n",
       "      <th></th>\n",
       "      <th>pace</th>\n",
       "      <th>shooting</th>\n",
       "      <th>passing</th>\n",
       "      <th>dribbling</th>\n",
       "      <th>defending</th>\n",
       "      <th>physic</th>\n",
       "      <th>gk_diving</th>\n",
       "      <th>gk_handling</th>\n",
       "      <th>gk_kicking</th>\n",
       "      <th>gk_reflexes</th>\n",
       "      <th>...</th>\n",
       "      <th>mentality_penalties</th>\n",
       "      <th>mentality_composure</th>\n",
       "      <th>defending_marking</th>\n",
       "      <th>defending_standing_tackle</th>\n",
       "      <th>defending_sliding_tackle</th>\n",
       "      <th>goalkeeping_diving</th>\n",
       "      <th>goalkeeping_handling</th>\n",
       "      <th>goalkeeping_kicking</th>\n",
       "      <th>goalkeeping_positioning</th>\n",
       "      <th>goalkeeping_reflexes</th>\n",
       "    </tr>\n",
       "  </thead>\n",
       "  <tbody>\n",
       "    <tr>\n",
       "      <td>0</td>\n",
       "      <td>92.0</td>\n",
       "      <td>88.0</td>\n",
       "      <td>86.0</td>\n",
       "      <td>95.0</td>\n",
       "      <td>24.0</td>\n",
       "      <td>62.0</td>\n",
       "      <td>0.0</td>\n",
       "      <td>0.0</td>\n",
       "      <td>0.0</td>\n",
       "      <td>0.0</td>\n",
       "      <td>...</td>\n",
       "      <td>74</td>\n",
       "      <td>0</td>\n",
       "      <td>25</td>\n",
       "      <td>25</td>\n",
       "      <td>22</td>\n",
       "      <td>6</td>\n",
       "      <td>11</td>\n",
       "      <td>15</td>\n",
       "      <td>14</td>\n",
       "      <td>8</td>\n",
       "    </tr>\n",
       "    <tr>\n",
       "      <td>1</td>\n",
       "      <td>92.0</td>\n",
       "      <td>93.0</td>\n",
       "      <td>80.0</td>\n",
       "      <td>91.0</td>\n",
       "      <td>33.0</td>\n",
       "      <td>78.0</td>\n",
       "      <td>0.0</td>\n",
       "      <td>0.0</td>\n",
       "      <td>0.0</td>\n",
       "      <td>0.0</td>\n",
       "      <td>...</td>\n",
       "      <td>85</td>\n",
       "      <td>0</td>\n",
       "      <td>22</td>\n",
       "      <td>31</td>\n",
       "      <td>23</td>\n",
       "      <td>7</td>\n",
       "      <td>11</td>\n",
       "      <td>15</td>\n",
       "      <td>14</td>\n",
       "      <td>11</td>\n",
       "    </tr>\n",
       "    <tr>\n",
       "      <td>2</td>\n",
       "      <td>92.0</td>\n",
       "      <td>86.0</td>\n",
       "      <td>82.0</td>\n",
       "      <td>92.0</td>\n",
       "      <td>32.0</td>\n",
       "      <td>64.0</td>\n",
       "      <td>0.0</td>\n",
       "      <td>0.0</td>\n",
       "      <td>0.0</td>\n",
       "      <td>0.0</td>\n",
       "      <td>...</td>\n",
       "      <td>80</td>\n",
       "      <td>0</td>\n",
       "      <td>29</td>\n",
       "      <td>26</td>\n",
       "      <td>26</td>\n",
       "      <td>10</td>\n",
       "      <td>8</td>\n",
       "      <td>11</td>\n",
       "      <td>5</td>\n",
       "      <td>15</td>\n",
       "    </tr>\n",
       "    <tr>\n",
       "      <td>3</td>\n",
       "      <td>0.0</td>\n",
       "      <td>0.0</td>\n",
       "      <td>0.0</td>\n",
       "      <td>0.0</td>\n",
       "      <td>0.0</td>\n",
       "      <td>0.0</td>\n",
       "      <td>85.0</td>\n",
       "      <td>87.0</td>\n",
       "      <td>91.0</td>\n",
       "      <td>86.0</td>\n",
       "      <td>...</td>\n",
       "      <td>37</td>\n",
       "      <td>0</td>\n",
       "      <td>25</td>\n",
       "      <td>25</td>\n",
       "      <td>25</td>\n",
       "      <td>88</td>\n",
       "      <td>89</td>\n",
       "      <td>91</td>\n",
       "      <td>90</td>\n",
       "      <td>86</td>\n",
       "    </tr>\n",
       "    <tr>\n",
       "      <td>4</td>\n",
       "      <td>83.0</td>\n",
       "      <td>88.0</td>\n",
       "      <td>79.0</td>\n",
       "      <td>87.0</td>\n",
       "      <td>42.0</td>\n",
       "      <td>79.0</td>\n",
       "      <td>0.0</td>\n",
       "      <td>0.0</td>\n",
       "      <td>0.0</td>\n",
       "      <td>0.0</td>\n",
       "      <td>...</td>\n",
       "      <td>85</td>\n",
       "      <td>0</td>\n",
       "      <td>30</td>\n",
       "      <td>45</td>\n",
       "      <td>38</td>\n",
       "      <td>27</td>\n",
       "      <td>25</td>\n",
       "      <td>31</td>\n",
       "      <td>33</td>\n",
       "      <td>37</td>\n",
       "    </tr>\n",
       "  </tbody>\n",
       "</table>\n",
       "<p>5 rows × 46 columns</p>\n",
       "</div>"
      ],
      "text/plain": [
       "   pace  shooting  passing  dribbling  defending  physic  gk_diving  \\\n",
       "0  92.0      88.0     86.0       95.0       24.0    62.0        0.0   \n",
       "1  92.0      93.0     80.0       91.0       33.0    78.0        0.0   \n",
       "2  92.0      86.0     82.0       92.0       32.0    64.0        0.0   \n",
       "3   0.0       0.0      0.0        0.0        0.0     0.0       85.0   \n",
       "4  83.0      88.0     79.0       87.0       42.0    79.0        0.0   \n",
       "\n",
       "   gk_handling  gk_kicking  gk_reflexes  ...  mentality_penalties  \\\n",
       "0          0.0         0.0          0.0  ...                   74   \n",
       "1          0.0         0.0          0.0  ...                   85   \n",
       "2          0.0         0.0          0.0  ...                   80   \n",
       "3         87.0        91.0         86.0  ...                   37   \n",
       "4          0.0         0.0          0.0  ...                   85   \n",
       "\n",
       "   mentality_composure defending_marking defending_standing_tackle  \\\n",
       "0                    0                25                        25   \n",
       "1                    0                22                        31   \n",
       "2                    0                29                        26   \n",
       "3                    0                25                        25   \n",
       "4                    0                30                        45   \n",
       "\n",
       "  defending_sliding_tackle goalkeeping_diving goalkeeping_handling  \\\n",
       "0                       22                  6                   11   \n",
       "1                       23                  7                   11   \n",
       "2                       26                 10                    8   \n",
       "3                       25                 88                   89   \n",
       "4                       38                 27                   25   \n",
       "\n",
       "  goalkeeping_kicking goalkeeping_positioning goalkeeping_reflexes  \n",
       "0                  15                      14                    8  \n",
       "1                  15                      14                   11  \n",
       "2                  11                       5                   15  \n",
       "3                  91                      90                   86  \n",
       "4                  31                      33                   37  \n",
       "\n",
       "[5 rows x 46 columns]"
      ]
     },
     "execution_count": 7,
     "metadata": {},
     "output_type": "execute_result"
    }
   ],
   "source": [
    "def calculate_diff(x):\n",
    "    if isinstance(x, str):\n",
    "        if \"+\" in x:\n",
    "            x_split = x.split(\"+\")\n",
    "            x_new = int(x_split[0]) + int(x_split[1])\n",
    "            return x_new\n",
    "        elif \"-\" in x:\n",
    "            x_split = x.split(\"-\")\n",
    "            x_new = int(x_split[0]) + int(x_split[1])\n",
    "            return x_new\n",
    "        else:\n",
    "            return x\n",
    "    else:\n",
    "        return x\n",
    "\n",
    "for col in player_abilities_col:\n",
    "    fifa_total[col] = fifa_total[col].apply(calculate_diff)\n",
    "fifa_total[player_abilities_col].head()"
   ]
  },
  {
   "cell_type": "markdown",
   "metadata": {},
   "source": [
    "#### Age Vs Performance"
   ]
  },
  {
   "cell_type": "code",
   "execution_count": 47,
   "metadata": {},
   "outputs": [
    {
     "data": {
      "text/html": [
       "<div>\n",
       "<style scoped>\n",
       "    .dataframe tbody tr th:only-of-type {\n",
       "        vertical-align: middle;\n",
       "    }\n",
       "\n",
       "    .dataframe tbody tr th {\n",
       "        vertical-align: top;\n",
       "    }\n",
       "\n",
       "    .dataframe thead th {\n",
       "        text-align: right;\n",
       "    }\n",
       "</style>\n",
       "<table border=\"1\" class=\"dataframe\">\n",
       "  <thead>\n",
       "    <tr style=\"text-align: right;\">\n",
       "      <th></th>\n",
       "      <th>sofifa_id</th>\n",
       "      <th>age</th>\n",
       "      <th>overall</th>\n",
       "      <th>player_positions</th>\n",
       "    </tr>\n",
       "  </thead>\n",
       "  <tbody>\n",
       "    <tr>\n",
       "      <td>4708</td>\n",
       "      <td>2</td>\n",
       "      <td>33</td>\n",
       "      <td>69</td>\n",
       "      <td>[LM]</td>\n",
       "    </tr>\n",
       "    <tr>\n",
       "      <td>2881</td>\n",
       "      <td>164</td>\n",
       "      <td>35</td>\n",
       "      <td>73</td>\n",
       "      <td>[CM, CDM]</td>\n",
       "    </tr>\n",
       "    <tr>\n",
       "      <td>5143</td>\n",
       "      <td>164</td>\n",
       "      <td>37</td>\n",
       "      <td>70</td>\n",
       "      <td>[CDM, CM]</td>\n",
       "    </tr>\n",
       "    <tr>\n",
       "      <td>327</td>\n",
       "      <td>330</td>\n",
       "      <td>34</td>\n",
       "      <td>80</td>\n",
       "      <td>[ST]</td>\n",
       "    </tr>\n",
       "    <tr>\n",
       "      <td>449</td>\n",
       "      <td>330</td>\n",
       "      <td>35</td>\n",
       "      <td>80</td>\n",
       "      <td>[ST]</td>\n",
       "    </tr>\n",
       "  </tbody>\n",
       "</table>\n",
       "</div>"
      ],
      "text/plain": [
       "      sofifa_id  age  overall player_positions\n",
       "4708          2   33       69             [LM]\n",
       "2881        164   35       73        [CM, CDM]\n",
       "5143        164   37       70        [CDM, CM]\n",
       "327         330   34       80             [ST]\n",
       "449         330   35       80             [ST]"
      ]
     },
     "execution_count": 47,
     "metadata": {},
     "output_type": "execute_result"
    }
   ],
   "source": [
    "fifa_performance_sorted_years = fifa_total.sort_values(by=['sofifa_id', 'age'])\n",
    "fifa_performance_sorted_years = fifa_performance_sorted_years[['sofifa_id', 'age', 'overall', 'player_positions']]\n",
    "fifa_performance_sorted_years.player_positions = fifa_performance_sorted_years.player_positions.apply(lambda x: x.split(\", \"))\n",
    "fifa_performance_sorted_years.head()"
   ]
  },
  {
   "cell_type": "markdown",
   "metadata": {},
   "source": [
    "##### Fill missing age"
   ]
  },
  {
   "cell_type": "code",
   "execution_count": 48,
   "metadata": {},
   "outputs": [
    {
     "name": "stderr",
     "output_type": "stream",
     "text": [
      "e:\\project\\assignment1\\lib\\site-packages\\pandas\\core\\frame.py:7123: FutureWarning: Sorting because non-concatenation axis is not aligned. A future version\n",
      "of pandas will change to not sort by default.\n",
      "\n",
      "To accept the future behavior, pass 'sort=False'.\n",
      "\n",
      "To retain the current behavior and silence the warning, pass 'sort=True'.\n",
      "\n",
      "  sort=sort,\n"
     ]
    },
    {
     "data": {
      "text/html": [
       "<div>\n",
       "<style scoped>\n",
       "    .dataframe tbody tr th:only-of-type {\n",
       "        vertical-align: middle;\n",
       "    }\n",
       "\n",
       "    .dataframe tbody tr th {\n",
       "        vertical-align: top;\n",
       "    }\n",
       "\n",
       "    .dataframe thead th {\n",
       "        text-align: right;\n",
       "    }\n",
       "</style>\n",
       "<table border=\"1\" class=\"dataframe\">\n",
       "  <thead>\n",
       "    <tr style=\"text-align: right;\">\n",
       "      <th></th>\n",
       "      <th>age</th>\n",
       "      <th>change</th>\n",
       "      <th>overall</th>\n",
       "      <th>player_positions</th>\n",
       "      <th>sofifa_id</th>\n",
       "    </tr>\n",
       "  </thead>\n",
       "  <tbody>\n",
       "    <tr>\n",
       "      <td>0</td>\n",
       "      <td>33.0</td>\n",
       "      <td>0.0</td>\n",
       "      <td>69.0</td>\n",
       "      <td>[LM]</td>\n",
       "      <td>2.0</td>\n",
       "    </tr>\n",
       "    <tr>\n",
       "      <td>1</td>\n",
       "      <td>35.0</td>\n",
       "      <td>0.0</td>\n",
       "      <td>73.0</td>\n",
       "      <td>[CM, CDM]</td>\n",
       "      <td>164.0</td>\n",
       "    </tr>\n",
       "    <tr>\n",
       "      <td>85530</td>\n",
       "      <td>36.0</td>\n",
       "      <td>0.0</td>\n",
       "      <td>73.0</td>\n",
       "      <td>[CM, CDM]</td>\n",
       "      <td>164.0</td>\n",
       "    </tr>\n",
       "    <tr>\n",
       "      <td>2</td>\n",
       "      <td>37.0</td>\n",
       "      <td>0.0</td>\n",
       "      <td>70.0</td>\n",
       "      <td>[CDM, CM]</td>\n",
       "      <td>164.0</td>\n",
       "    </tr>\n",
       "    <tr>\n",
       "      <td>3</td>\n",
       "      <td>34.0</td>\n",
       "      <td>0.0</td>\n",
       "      <td>80.0</td>\n",
       "      <td>[ST]</td>\n",
       "      <td>330.0</td>\n",
       "    </tr>\n",
       "    <tr>\n",
       "      <td>4</td>\n",
       "      <td>35.0</td>\n",
       "      <td>0.0</td>\n",
       "      <td>80.0</td>\n",
       "      <td>[ST]</td>\n",
       "      <td>330.0</td>\n",
       "    </tr>\n",
       "    <tr>\n",
       "      <td>5</td>\n",
       "      <td>39.0</td>\n",
       "      <td>0.0</td>\n",
       "      <td>63.0</td>\n",
       "      <td>[GK]</td>\n",
       "      <td>591.0</td>\n",
       "    </tr>\n",
       "    <tr>\n",
       "      <td>6</td>\n",
       "      <td>40.0</td>\n",
       "      <td>0.0</td>\n",
       "      <td>58.0</td>\n",
       "      <td>[GK]</td>\n",
       "      <td>591.0</td>\n",
       "    </tr>\n",
       "    <tr>\n",
       "      <td>85531</td>\n",
       "      <td>40.0</td>\n",
       "      <td>0.0</td>\n",
       "      <td>63.0</td>\n",
       "      <td>[GK]</td>\n",
       "      <td>591.0</td>\n",
       "    </tr>\n",
       "    <tr>\n",
       "      <td>7</td>\n",
       "      <td>41.0</td>\n",
       "      <td>0.0</td>\n",
       "      <td>59.0</td>\n",
       "      <td>[GK]</td>\n",
       "      <td>591.0</td>\n",
       "    </tr>\n",
       "  </tbody>\n",
       "</table>\n",
       "</div>"
      ],
      "text/plain": [
       "        age  change  overall player_positions  sofifa_id\n",
       "0      33.0     0.0     69.0             [LM]        2.0\n",
       "1      35.0     0.0     73.0        [CM, CDM]      164.0\n",
       "85530  36.0     0.0     73.0        [CM, CDM]      164.0\n",
       "2      37.0     0.0     70.0        [CDM, CM]      164.0\n",
       "3      34.0     0.0     80.0             [ST]      330.0\n",
       "4      35.0     0.0     80.0             [ST]      330.0\n",
       "5      39.0     0.0     63.0             [GK]      591.0\n",
       "6      40.0     0.0     58.0             [GK]      591.0\n",
       "85531  40.0     0.0     63.0             [GK]      591.0\n",
       "7      41.0     0.0     59.0             [GK]      591.0"
      ]
     },
     "execution_count": 48,
     "metadata": {},
     "output_type": "execute_result"
    }
   ],
   "source": [
    "temp = None\n",
    "fifa_temp = pd.DataFrame()\n",
    "fifa_performance_sorted_years['change'] = 0\n",
    "for index, row in fifa_performance_sorted_years.iterrows():\n",
    "    if temp is None or temp['sofifa_id'] != row['sofifa_id']:\n",
    "        temp = row\n",
    "    else:\n",
    "        #change = (row['overall'] - temp['overall']) / temp['overall']\n",
    "        if row['age'] - temp['age'] != 1:\n",
    "            fill = dict(\n",
    "                sofifa_id=row['sofifa_id'],\n",
    "                age=temp['age']+1,\n",
    "                overall=temp['overall'],\n",
    "                player_positions=temp['player_positions'],\n",
    "                change=0\n",
    "            )\n",
    "            temp = fill\n",
    "            fifa_temp = fifa_temp.append(fill, ignore_index=True)\n",
    "        #fifa_performance_sorted_years.at[index, 'change'] = change\n",
    "fifa_performance_sorted_years = fifa_performance_sorted_years.append(fifa_temp, ignore_index=True)\n",
    "fifa_performance_sorted_years = fifa_performance_sorted_years.sort_values(by=['sofifa_id', 'age'])        \n",
    "fifa_performance_sorted_years.head(10)"
   ]
  },
  {
   "cell_type": "markdown",
   "metadata": {},
   "source": [
    "#### Calculate change of overall performance"
   ]
  },
  {
   "cell_type": "code",
   "execution_count": 49,
   "metadata": {},
   "outputs": [
    {
     "data": {
      "text/html": [
       "<div>\n",
       "<style scoped>\n",
       "    .dataframe tbody tr th:only-of-type {\n",
       "        vertical-align: middle;\n",
       "    }\n",
       "\n",
       "    .dataframe tbody tr th {\n",
       "        vertical-align: top;\n",
       "    }\n",
       "\n",
       "    .dataframe thead th {\n",
       "        text-align: right;\n",
       "    }\n",
       "</style>\n",
       "<table border=\"1\" class=\"dataframe\">\n",
       "  <thead>\n",
       "    <tr style=\"text-align: right;\">\n",
       "      <th></th>\n",
       "      <th>age</th>\n",
       "      <th>change</th>\n",
       "      <th>overall</th>\n",
       "      <th>player_positions</th>\n",
       "      <th>sofifa_id</th>\n",
       "    </tr>\n",
       "  </thead>\n",
       "  <tbody>\n",
       "    <tr>\n",
       "      <td>0</td>\n",
       "      <td>33.0</td>\n",
       "      <td>0.000000</td>\n",
       "      <td>69.0</td>\n",
       "      <td>[LM]</td>\n",
       "      <td>2.0</td>\n",
       "    </tr>\n",
       "    <tr>\n",
       "      <td>1</td>\n",
       "      <td>35.0</td>\n",
       "      <td>0.000000</td>\n",
       "      <td>73.0</td>\n",
       "      <td>[CM, CDM]</td>\n",
       "      <td>164.0</td>\n",
       "    </tr>\n",
       "    <tr>\n",
       "      <td>85530</td>\n",
       "      <td>36.0</td>\n",
       "      <td>0.000000</td>\n",
       "      <td>73.0</td>\n",
       "      <td>[CM, CDM]</td>\n",
       "      <td>164.0</td>\n",
       "    </tr>\n",
       "    <tr>\n",
       "      <td>2</td>\n",
       "      <td>37.0</td>\n",
       "      <td>-0.041096</td>\n",
       "      <td>70.0</td>\n",
       "      <td>[CDM, CM]</td>\n",
       "      <td>164.0</td>\n",
       "    </tr>\n",
       "    <tr>\n",
       "      <td>3</td>\n",
       "      <td>34.0</td>\n",
       "      <td>0.000000</td>\n",
       "      <td>80.0</td>\n",
       "      <td>[ST]</td>\n",
       "      <td>330.0</td>\n",
       "    </tr>\n",
       "    <tr>\n",
       "      <td>4</td>\n",
       "      <td>35.0</td>\n",
       "      <td>0.000000</td>\n",
       "      <td>80.0</td>\n",
       "      <td>[ST]</td>\n",
       "      <td>330.0</td>\n",
       "    </tr>\n",
       "    <tr>\n",
       "      <td>5</td>\n",
       "      <td>39.0</td>\n",
       "      <td>0.000000</td>\n",
       "      <td>63.0</td>\n",
       "      <td>[GK]</td>\n",
       "      <td>591.0</td>\n",
       "    </tr>\n",
       "    <tr>\n",
       "      <td>6</td>\n",
       "      <td>40.0</td>\n",
       "      <td>-0.079365</td>\n",
       "      <td>58.0</td>\n",
       "      <td>[GK]</td>\n",
       "      <td>591.0</td>\n",
       "    </tr>\n",
       "    <tr>\n",
       "      <td>85531</td>\n",
       "      <td>40.0</td>\n",
       "      <td>0.000000</td>\n",
       "      <td>63.0</td>\n",
       "      <td>[GK]</td>\n",
       "      <td>591.0</td>\n",
       "    </tr>\n",
       "    <tr>\n",
       "      <td>7</td>\n",
       "      <td>41.0</td>\n",
       "      <td>-0.063492</td>\n",
       "      <td>59.0</td>\n",
       "      <td>[GK]</td>\n",
       "      <td>591.0</td>\n",
       "    </tr>\n",
       "  </tbody>\n",
       "</table>\n",
       "</div>"
      ],
      "text/plain": [
       "        age    change  overall player_positions  sofifa_id\n",
       "0      33.0  0.000000     69.0             [LM]        2.0\n",
       "1      35.0  0.000000     73.0        [CM, CDM]      164.0\n",
       "85530  36.0  0.000000     73.0        [CM, CDM]      164.0\n",
       "2      37.0 -0.041096     70.0        [CDM, CM]      164.0\n",
       "3      34.0  0.000000     80.0             [ST]      330.0\n",
       "4      35.0  0.000000     80.0             [ST]      330.0\n",
       "5      39.0  0.000000     63.0             [GK]      591.0\n",
       "6      40.0 -0.079365     58.0             [GK]      591.0\n",
       "85531  40.0  0.000000     63.0             [GK]      591.0\n",
       "7      41.0 -0.063492     59.0             [GK]      591.0"
      ]
     },
     "execution_count": 49,
     "metadata": {},
     "output_type": "execute_result"
    }
   ],
   "source": [
    "temp = None\n",
    "for index, row in fifa_performance_sorted_years.iterrows():\n",
    "    if temp is None or temp['sofifa_id'] != row['sofifa_id']:\n",
    "        temp = row\n",
    "    else:\n",
    "        change = (row['overall'] - temp['overall']) / temp['overall']\n",
    "        fifa_performance_sorted_years.at[index, 'change'] = change\n",
    "        \n",
    "fifa_performance_sorted_years.head(10)"
   ]
  },
  {
   "cell_type": "code",
   "execution_count": 50,
   "metadata": {},
   "outputs": [
    {
     "data": {
      "text/html": [
       "<div>\n",
       "<style scoped>\n",
       "    .dataframe tbody tr th:only-of-type {\n",
       "        vertical-align: middle;\n",
       "    }\n",
       "\n",
       "    .dataframe tbody tr th {\n",
       "        vertical-align: top;\n",
       "    }\n",
       "\n",
       "    .dataframe thead th {\n",
       "        text-align: right;\n",
       "    }\n",
       "</style>\n",
       "<table border=\"1\" class=\"dataframe\">\n",
       "  <thead>\n",
       "    <tr style=\"text-align: right;\">\n",
       "      <th></th>\n",
       "      <th>age</th>\n",
       "      <th>change</th>\n",
       "      <th>overall</th>\n",
       "      <th>player_positions</th>\n",
       "      <th>sofifa_id</th>\n",
       "    </tr>\n",
       "  </thead>\n",
       "  <tbody>\n",
       "    <tr>\n",
       "      <td>2</td>\n",
       "      <td>37.0</td>\n",
       "      <td>-0.041096</td>\n",
       "      <td>70.0</td>\n",
       "      <td>[CDM, CM]</td>\n",
       "      <td>164.0</td>\n",
       "    </tr>\n",
       "    <tr>\n",
       "      <td>6</td>\n",
       "      <td>40.0</td>\n",
       "      <td>-0.079365</td>\n",
       "      <td>58.0</td>\n",
       "      <td>[GK]</td>\n",
       "      <td>591.0</td>\n",
       "    </tr>\n",
       "    <tr>\n",
       "      <td>7</td>\n",
       "      <td>41.0</td>\n",
       "      <td>-0.063492</td>\n",
       "      <td>59.0</td>\n",
       "      <td>[GK]</td>\n",
       "      <td>591.0</td>\n",
       "    </tr>\n",
       "    <tr>\n",
       "      <td>11</td>\n",
       "      <td>33.0</td>\n",
       "      <td>0.029412</td>\n",
       "      <td>70.0</td>\n",
       "      <td>[CDM, CM]</td>\n",
       "      <td>657.0</td>\n",
       "    </tr>\n",
       "    <tr>\n",
       "      <td>12</td>\n",
       "      <td>34.0</td>\n",
       "      <td>0.014706</td>\n",
       "      <td>69.0</td>\n",
       "      <td>[CDM, CM]</td>\n",
       "      <td>657.0</td>\n",
       "    </tr>\n",
       "    <tr>\n",
       "      <td>13</td>\n",
       "      <td>35.0</td>\n",
       "      <td>-0.029412</td>\n",
       "      <td>66.0</td>\n",
       "      <td>[CDM, CM]</td>\n",
       "      <td>657.0</td>\n",
       "    </tr>\n",
       "    <tr>\n",
       "      <td>18</td>\n",
       "      <td>34.0</td>\n",
       "      <td>-0.013333</td>\n",
       "      <td>74.0</td>\n",
       "      <td>[CB]</td>\n",
       "      <td>768.0</td>\n",
       "    </tr>\n",
       "    <tr>\n",
       "      <td>20</td>\n",
       "      <td>32.0</td>\n",
       "      <td>0.015625</td>\n",
       "      <td>65.0</td>\n",
       "      <td>[CB]</td>\n",
       "      <td>887.0</td>\n",
       "    </tr>\n",
       "    <tr>\n",
       "      <td>21</td>\n",
       "      <td>33.0</td>\n",
       "      <td>0.015625</td>\n",
       "      <td>65.0</td>\n",
       "      <td>[CB]</td>\n",
       "      <td>887.0</td>\n",
       "    </tr>\n",
       "    <tr>\n",
       "      <td>24</td>\n",
       "      <td>35.0</td>\n",
       "      <td>0.013333</td>\n",
       "      <td>76.0</td>\n",
       "      <td>[CB]</td>\n",
       "      <td>1178.0</td>\n",
       "    </tr>\n",
       "  </tbody>\n",
       "</table>\n",
       "</div>"
      ],
      "text/plain": [
       "     age    change  overall player_positions  sofifa_id\n",
       "2   37.0 -0.041096     70.0        [CDM, CM]      164.0\n",
       "6   40.0 -0.079365     58.0             [GK]      591.0\n",
       "7   41.0 -0.063492     59.0             [GK]      591.0\n",
       "11  33.0  0.029412     70.0        [CDM, CM]      657.0\n",
       "12  34.0  0.014706     69.0        [CDM, CM]      657.0\n",
       "13  35.0 -0.029412     66.0        [CDM, CM]      657.0\n",
       "18  34.0 -0.013333     74.0             [CB]      768.0\n",
       "20  32.0  0.015625     65.0             [CB]      887.0\n",
       "21  33.0  0.015625     65.0             [CB]      887.0\n",
       "24  35.0  0.013333     76.0             [CB]     1178.0"
      ]
     },
     "execution_count": 50,
     "metadata": {},
     "output_type": "execute_result"
    }
   ],
   "source": [
    "fifa_performance_sorted_years_non_zero_change = fifa_performance_sorted_years[fifa_performance_sorted_years.change != 0]\n",
    "fifa_performance_sorted_years_non_zero_change.head(10)"
   ]
  },
  {
   "cell_type": "code",
   "execution_count": 51,
   "metadata": {},
   "outputs": [
    {
     "data": {
      "image/png": "[encoded data removed]",
      "text/plain": [
       "<Figure size 432x288 with 1 Axes>"
      ]
     },
     "metadata": {
      "needs_background": "light"
     },
     "output_type": "display_data"
    }
   ],
   "source": [
    "from sklearn.model_selection import train_test_split\n",
    "fifa_performance_X = fifa_performance_sorted_years_non_zero_change['age'].values.reshape(-1,1)\n",
    "fifa_performance_Y = fifa_performance_sorted_years_non_zero_change['change']\n",
    "\n",
    "x_train, x_test, y_train, y_test = train_test_split(fifa_performance_X, fifa_performance_Y, test_size= 0.2, random_state=420)\n",
    "plt.scatter(fifa_performance_X, fifa_performance_Y)\n",
    "plt.title(\"Distribution between age and performance change\")\n",
    "plt.show()"
   ]
  },
  {
   "cell_type": "code",
   "execution_count": 52,
   "metadata": {},
   "outputs": [],
   "source": [
    "age_min = int(fifa_performance_sorted_years_non_zero_change['age'].min())\n",
    "age_max = int(fifa_performance_sorted_years_non_zero_change['age'].max())\n",
    "              \n",
    "age_range = np.arange(age_min, age_max).reshape(-1, 1)"
   ]
  },
  {
   "cell_type": "code",
   "execution_count": 53,
   "metadata": {
    "pycharm": {
     "is_executing": true
    }
   },
   "outputs": [
    {
     "data": {
      "image/png": "[encoded data removed]",
      "text/plain": [
       "<Figure size 432x288 with 1 Axes>"
      ]
     },
     "metadata": {
      "needs_background": "light"
     },
     "output_type": "display_data"
    }
   ],
   "source": [
    "from sklearn.svm import SVR\n",
    "\n",
    "svr_rbf = SVR(kernel='rbf', C=100, gamma=0.1, epsilon=.1)\n",
    "svr_rbf.fit(x_train, y_train)\n",
    "svr_predit = svr_rbf.predict(age_range)\n",
    "plt.scatter(fifa_performance_X, fifa_performance_Y, c='k')\n",
    "plt.plot(age_range, svr_predit, c='r')\n",
    "plt.title(\"The decay curve between age and performance change\")\n",
    "plt.show()"
   ]
  },
  {
   "cell_type": "code",
   "execution_count": 54,
   "metadata": {},
   "outputs": [
    {
     "data": {
      "image/png": "[encoded data removed]",
      "text/plain": [
       "<Figure size 432x288 with 1 Axes>"
      ]
     },
     "metadata": {
      "needs_background": "light"
     },
     "output_type": "display_data"
    }
   ],
   "source": [
    "fifa_performance_Y_s = fifa_performance_sorted_years_non_zero_change['overall']\n",
    "\n",
    "x_train, x_test, y_train, y_test = train_test_split(fifa_performance_X, fifa_performance_Y_s, test_size= 0.2, random_state=420)\n",
    "plt.scatter(fifa_performance_X, fifa_performance_Y_s)\n",
    "plt.title(\"Distribution between age and performance overall\")\n",
    "plt.show()"
   ]
  },
  {
   "cell_type": "code",
   "execution_count": 55,
   "metadata": {},
   "outputs": [
    {
     "data": {
      "image/png": "[encoded data removed]",
      "text/plain": [
       "<Figure size 432x288 with 1 Axes>"
      ]
     },
     "metadata": {
      "needs_background": "light"
     },
     "output_type": "display_data"
    }
   ],
   "source": [
    "svr_rbf = SVR(kernel='rbf', C=100, gamma=0.1, epsilon=.1)\n",
    "svr_rbf.fit(x_train, y_train)\n",
    "svr_predit = svr_rbf.predict(age_range)\n",
    "plt.scatter(fifa_performance_X, fifa_performance_Y_s, c='k')\n",
    "plt.plot(age_range, svr_predit, c='r')\n",
    "plt.title(\"The decay curve between age and performance overall\")\n",
    "plt.show()"
   ]
  },
  {
   "cell_type": "markdown",
   "metadata": {},
   "source": [
    "#### Age Vs Performance in diff position"
   ]
  },
  {
   "cell_type": "markdown",
   "metadata": {},
   "source": [
    "##### 1. Forward "
   ]
  },
  {
   "cell_type": "code",
   "execution_count": 66,
   "metadata": {},
   "outputs": [
    {
     "data": {
      "text/html": [
       "<div>\n",
       "<style scoped>\n",
       "    .dataframe tbody tr th:only-of-type {\n",
       "        vertical-align: middle;\n",
       "    }\n",
       "\n",
       "    .dataframe tbody tr th {\n",
       "        vertical-align: top;\n",
       "    }\n",
       "\n",
       "    .dataframe thead th {\n",
       "        text-align: right;\n",
       "    }\n",
       "</style>\n",
       "<table border=\"1\" class=\"dataframe\">\n",
       "  <thead>\n",
       "    <tr style=\"text-align: right;\">\n",
       "      <th></th>\n",
       "      <th>age</th>\n",
       "      <th>change</th>\n",
       "      <th>overall</th>\n",
       "      <th>player_positions</th>\n",
       "      <th>sofifa_id</th>\n",
       "      <th>position_group</th>\n",
       "    </tr>\n",
       "  </thead>\n",
       "  <tbody>\n",
       "    <tr>\n",
       "      <td>0</td>\n",
       "      <td>33.0</td>\n",
       "      <td>0.000000</td>\n",
       "      <td>69.0</td>\n",
       "      <td>[LM]</td>\n",
       "      <td>2.0</td>\n",
       "      <td>mid</td>\n",
       "    </tr>\n",
       "    <tr>\n",
       "      <td>1</td>\n",
       "      <td>35.0</td>\n",
       "      <td>0.000000</td>\n",
       "      <td>73.0</td>\n",
       "      <td>[CM, CDM]</td>\n",
       "      <td>164.0</td>\n",
       "      <td>mid</td>\n",
       "    </tr>\n",
       "    <tr>\n",
       "      <td>85530</td>\n",
       "      <td>36.0</td>\n",
       "      <td>0.000000</td>\n",
       "      <td>73.0</td>\n",
       "      <td>[CM, CDM]</td>\n",
       "      <td>164.0</td>\n",
       "      <td>mid</td>\n",
       "    </tr>\n",
       "    <tr>\n",
       "      <td>2</td>\n",
       "      <td>37.0</td>\n",
       "      <td>-0.041096</td>\n",
       "      <td>70.0</td>\n",
       "      <td>[CDM, CM]</td>\n",
       "      <td>164.0</td>\n",
       "      <td>mid</td>\n",
       "    </tr>\n",
       "    <tr>\n",
       "      <td>3</td>\n",
       "      <td>34.0</td>\n",
       "      <td>0.000000</td>\n",
       "      <td>80.0</td>\n",
       "      <td>[ST]</td>\n",
       "      <td>330.0</td>\n",
       "      <td>forward</td>\n",
       "    </tr>\n",
       "    <tr>\n",
       "      <td>4</td>\n",
       "      <td>35.0</td>\n",
       "      <td>0.000000</td>\n",
       "      <td>80.0</td>\n",
       "      <td>[ST]</td>\n",
       "      <td>330.0</td>\n",
       "      <td>forward</td>\n",
       "    </tr>\n",
       "    <tr>\n",
       "      <td>5</td>\n",
       "      <td>39.0</td>\n",
       "      <td>0.000000</td>\n",
       "      <td>63.0</td>\n",
       "      <td>[GK]</td>\n",
       "      <td>591.0</td>\n",
       "      <td>keeper</td>\n",
       "    </tr>\n",
       "    <tr>\n",
       "      <td>6</td>\n",
       "      <td>40.0</td>\n",
       "      <td>-0.079365</td>\n",
       "      <td>58.0</td>\n",
       "      <td>[GK]</td>\n",
       "      <td>591.0</td>\n",
       "      <td>keeper</td>\n",
       "    </tr>\n",
       "    <tr>\n",
       "      <td>85531</td>\n",
       "      <td>40.0</td>\n",
       "      <td>0.000000</td>\n",
       "      <td>63.0</td>\n",
       "      <td>[GK]</td>\n",
       "      <td>591.0</td>\n",
       "      <td>keeper</td>\n",
       "    </tr>\n",
       "    <tr>\n",
       "      <td>7</td>\n",
       "      <td>41.0</td>\n",
       "      <td>-0.063492</td>\n",
       "      <td>59.0</td>\n",
       "      <td>[GK]</td>\n",
       "      <td>591.0</td>\n",
       "      <td>keeper</td>\n",
       "    </tr>\n",
       "  </tbody>\n",
       "</table>\n",
       "</div>"
      ],
      "text/plain": [
       "        age    change  overall player_positions  sofifa_id position_group\n",
       "0      33.0  0.000000     69.0             [LM]        2.0            mid\n",
       "1      35.0  0.000000     73.0        [CM, CDM]      164.0            mid\n",
       "85530  36.0  0.000000     73.0        [CM, CDM]      164.0            mid\n",
       "2      37.0 -0.041096     70.0        [CDM, CM]      164.0            mid\n",
       "3      34.0  0.000000     80.0             [ST]      330.0        forward\n",
       "4      35.0  0.000000     80.0             [ST]      330.0        forward\n",
       "5      39.0  0.000000     63.0             [GK]      591.0         keeper\n",
       "6      40.0 -0.079365     58.0             [GK]      591.0         keeper\n",
       "85531  40.0  0.000000     63.0             [GK]      591.0         keeper\n",
       "7      41.0 -0.063492     59.0             [GK]      591.0         keeper"
      ]
     },
     "execution_count": 66,
     "metadata": {},
     "output_type": "execute_result"
    }
   ],
   "source": [
    "def assign_position_group(row):\n",
    "    if set(row).issubset(set([x.upper() for x in forward])):\n",
    "        return 'forward'\n",
    "    elif set(row).issubset(set([x.upper() for x in mid])):\n",
    "        return 'mid'\n",
    "    elif set(row).issubset(set([x.upper() for x in back])):\n",
    "        return 'back'\n",
    "    elif set(row).issubset(set([x.upper() for x in keeper])):\n",
    "        return 'keeper'\n",
    "    else:\n",
    "        return None\n",
    "fifa_performance_sorted_years['position_group'] = fifa_performance_sorted_years['player_positions'].apply(assign_position_group)\n",
    "fifa_performance_sorted_years.head(10)"
   ]
  },
  {
   "cell_type": "code",
   "execution_count": 102,
   "metadata": {},
   "outputs": [],
   "source": [
    "fifa_performance_forward = fifa_performance_sorted_years[fifa_performance_sorted_years.position_group == 'forward']\n",
    "fifa_performance_forward = fifa_performance_forward[fifa_performance_forward.change != 0]\n",
    "fifa_performance_forward.head(10)\n",
    "\n",
    "age_min = int(fifa_performance_forward['age'].min())\n",
    "age_max = int(fifa_performance_forward['age'].max())\n",
    "              \n",
    "age_range = np.arange(age_min, age_max).reshape(-1, 1)"
   ]
  },
  {
   "cell_type": "code",
   "execution_count": 103,
   "metadata": {},
   "outputs": [
    {
     "data": {
      "image/png": "[encoded data removed]",
      "text/plain": [
       "<Figure size 432x288 with 1 Axes>"
      ]
     },
     "metadata": {
      "needs_background": "light"
     },
     "output_type": "display_data"
    }
   ],
   "source": [
    "from sklearn.model_selection import train_test_split\n",
    "fifa_performance_X = fifa_performance_forward['age'].values.reshape(-1,1)\n",
    "fifa_performance_Y = fifa_performance_forward['change']\n",
    "\n",
    "x_train, x_test, y_train, y_test = train_test_split(fifa_performance_X, fifa_performance_Y, test_size= 0.2, random_state=420)\n",
    "plt.scatter(fifa_performance_X, fifa_performance_Y)\n",
    "plt.title(\"Distribution between age and performance change of Forward\")\n",
    "plt.show()"
   ]
  },
  {
   "cell_type": "code",
   "execution_count": 104,
   "metadata": {},
   "outputs": [
    {
     "data": {
      "image/png": "[encoded data removed]",
      "text/plain": [
       "<Figure size 432x288 with 1 Axes>"
      ]
     },
     "metadata": {
      "needs_background": "light"
     },
     "output_type": "display_data"
    }
   ],
   "source": [
    "from sklearn.svm import SVR\n",
    "\n",
    "svr_rbf = SVR(kernel='rbf', C=100, gamma=0.1, epsilon=.1)\n",
    "svr_rbf.fit(x_train, y_train)\n",
    "svr_predit = svr_rbf.predict(age_range)\n",
    "plt.scatter(fifa_performance_X, fifa_performance_Y, c='k')\n",
    "plt.plot(age_range, svr_predit, c='r')\n",
    "plt.title(\"The decay curve between age and performance change of Forward\")\n",
    "plt.show()"
   ]
  },
  {
   "cell_type": "code",
   "execution_count": 105,
   "metadata": {},
   "outputs": [
    {
     "data": {
      "image/png": "[encoded data removed]",
      "text/plain": [
       "<Figure size 432x288 with 1 Axes>"
      ]
     },
     "metadata": {
      "needs_background": "light"
     },
     "output_type": "display_data"
    }
   ],
   "source": [
    "fifa_performance_Y_s = fifa_performance_forward['overall']\n",
    "\n",
    "x_train, x_test, y_train, y_test = train_test_split(fifa_performance_X, fifa_performance_Y_s, test_size= 0.2, random_state=420)\n",
    "plt.scatter(fifa_performance_X, fifa_performance_Y_s)\n",
    "plt.title(\"Distribution between age and performance overall of Forward\")\n",
    "plt.show()"
   ]
  },
  {
   "cell_type": "code",
   "execution_count": 106,
   "metadata": {},
   "outputs": [
    {
     "data": {
      "image/png": "[encoded data removed]",
      "text/plain": [
       "<Figure size 432x288 with 1 Axes>"
      ]
     },
     "metadata": {
      "needs_background": "light"
     },
     "output_type": "display_data"
    }
   ],
   "source": [
    "svr_rbf = SVR(kernel='rbf', C=100, gamma=0.1, epsilon=.1)\n",
    "svr_rbf.fit(x_train, y_train)\n",
    "svr_predit = svr_rbf.predict(age_range)\n",
    "plt.scatter(fifa_performance_X, fifa_performance_Y_s, c='k')\n",
    "plt.plot(age_range, svr_predit, c='r')\n",
    "plt.title(\"The decay curve between age and performance overall of Forward\")\n",
    "plt.show()"
   ]
  },
  {
   "cell_type": "markdown",
   "metadata": {},
   "source": [
    "##### 2. Mid "
   ]
  },
  {
   "cell_type": "code",
   "execution_count": 107,
   "metadata": {},
   "outputs": [],
   "source": [
    "fifa_performance_mid = fifa_performance_sorted_years[fifa_performance_sorted_years.position_group == 'mid']\n",
    "fifa_performance_mid = fifa_performance_mid[fifa_performance_mid.change != 0]\n",
    "fifa_performance_mid.head(10)\n",
    "\n",
    "age_min = int(fifa_performance_mid['age'].min())\n",
    "age_max = int(fifa_performance_mid['age'].max())\n",
    "              \n",
    "age_range = np.arange(age_min, age_max).reshape(-1, 1)"
   ]
  },
  {
   "cell_type": "code",
   "execution_count": 108,
   "metadata": {},
   "outputs": [
    {
     "data": {
      "image/png": "[encoded data removed]",
      "text/plain": [
       "<Figure size 432x288 with 1 Axes>"
      ]
     },
     "metadata": {
      "needs_background": "light"
     },
     "output_type": "display_data"
    }
   ],
   "source": [
    "from sklearn.model_selection import train_test_split\n",
    "fifa_performance_X = fifa_performance_mid['age'].values.reshape(-1,1)\n",
    "fifa_performance_Y = fifa_performance_mid['change']\n",
    "\n",
    "x_train, x_test, y_train, y_test = train_test_split(fifa_performance_X, fifa_performance_Y, test_size= 0.2, random_state=420)\n",
    "plt.scatter(fifa_performance_X, fifa_performance_Y)\n",
    "plt.title(\"Distribution between age and performance change of Mid\")\n",
    "plt.show()"
   ]
  },
  {
   "cell_type": "code",
   "execution_count": 109,
   "metadata": {},
   "outputs": [
    {
     "data": {
      "image/png": "[encoded data removed]",
      "text/plain": [
       "<Figure size 432x288 with 1 Axes>"
      ]
     },
     "metadata": {
      "needs_background": "light"
     },
     "output_type": "display_data"
    }
   ],
   "source": [
    "from sklearn.svm import SVR\n",
    "\n",
    "svr_rbf = SVR(kernel='rbf', C=100, gamma=0.1, epsilon=.1)\n",
    "svr_rbf.fit(x_train, y_train)\n",
    "svr_predit = svr_rbf.predict(age_range)\n",
    "plt.scatter(fifa_performance_X, fifa_performance_Y, c='k')\n",
    "plt.plot(age_range, svr_predit, c='r')\n",
    "plt.title(\"The decay curve between age and performance change of Mid\")\n",
    "plt.show()"
   ]
  },
  {
   "cell_type": "code",
   "execution_count": 110,
   "metadata": {},
   "outputs": [
    {
     "data": {
      "image/png": "[encoded data removed]",
      "text/plain": [
       "<Figure size 432x288 with 1 Axes>"
      ]
     },
     "metadata": {
      "needs_background": "light"
     },
     "output_type": "display_data"
    }
   ],
   "source": [
    "fifa_performance_Y_s = fifa_performance_mid['overall']\n",
    "\n",
    "x_train, x_test, y_train, y_test = train_test_split(fifa_performance_X, fifa_performance_Y_s, test_size= 0.2, random_state=420)\n",
    "plt.scatter(fifa_performance_X, fifa_performance_Y_s)\n",
    "plt.title(\"Distribution between age and performance overall of Mid\")\n",
    "plt.show()"
   ]
  },
  {
   "cell_type": "code",
   "execution_count": 111,
   "metadata": {},
   "outputs": [
    {
     "data": {
      "image/png": "[encoded data removed]",
      "text/plain": [
       "<Figure size 432x288 with 1 Axes>"
      ]
     },
     "metadata": {
      "needs_background": "light"
     },
     "output_type": "display_data"
    }
   ],
   "source": [
    "svr_rbf = SVR(kernel='rbf', C=100, gamma=0.1, epsilon=.1)\n",
    "svr_rbf.fit(x_train, y_train)\n",
    "svr_predit = svr_rbf.predict(age_range)\n",
    "plt.scatter(fifa_performance_X, fifa_performance_Y_s, c='k')\n",
    "plt.plot(age_range, svr_predit, c='r')\n",
    "plt.title(\"The decay curve between age and performance overall of Mid\")\n",
    "plt.show()"
   ]
  },
  {
   "cell_type": "markdown",
   "metadata": {},
   "source": [
    "##### 3. Back "
   ]
  },
  {
   "cell_type": "code",
   "execution_count": 112,
   "metadata": {},
   "outputs": [],
   "source": [
    "fifa_performance_back = fifa_performance_sorted_years[fifa_performance_sorted_years.position_group == 'back']\n",
    "fifa_performance_back = fifa_performance_back[fifa_performance_back.change != 0]\n",
    "fifa_performance_back.head(10)\n",
    "\n",
    "age_min = int(fifa_performance_back['age'].min())\n",
    "age_max = int(fifa_performance_back['age'].max())\n",
    "              \n",
    "age_range = np.arange(age_min, age_max).reshape(-1, 1)"
   ]
  },
  {
   "cell_type": "code",
   "execution_count": 113,
   "metadata": {},
   "outputs": [
    {
     "data": {
      "image/png": "[encoded data removed]",
      "text/plain": [
       "<Figure size 432x288 with 1 Axes>"
      ]
     },
     "metadata": {
      "needs_background": "light"
     },
     "output_type": "display_data"
    }
   ],
   "source": [
    "from sklearn.model_selection import train_test_split\n",
    "fifa_performance_X = fifa_performance_back['age'].values.reshape(-1,1)\n",
    "fifa_performance_Y = fifa_performance_back['change']\n",
    "\n",
    "x_train, x_test, y_train, y_test = train_test_split(fifa_performance_X, fifa_performance_Y, test_size= 0.2, random_state=420)\n",
    "plt.scatter(fifa_performance_X, fifa_performance_Y)\n",
    "plt.title(\"Distribution between age and performance change of Back\")\n",
    "plt.show()"
   ]
  },
  {
   "cell_type": "code",
   "execution_count": 114,
   "metadata": {},
   "outputs": [
    {
     "data": {
      "image/png": "[encoded data removed]",
      "text/plain": [
       "<Figure size 432x288 with 1 Axes>"
      ]
     },
     "metadata": {
      "needs_background": "light"
     },
     "output_type": "display_data"
    }
   ],
   "source": [
    "from sklearn.svm import SVR\n",
    "\n",
    "svr_rbf = SVR(kernel='rbf', C=100, gamma=0.1, epsilon=.1)\n",
    "svr_rbf.fit(x_train, y_train)\n",
    "svr_predit = svr_rbf.predict(age_range)\n",
    "plt.scatter(fifa_performance_X, fifa_performance_Y, c='k')\n",
    "plt.plot(age_range, svr_predit, c='r')\n",
    "plt.title(\"The decay curve between age and performance change of Back\")\n",
    "plt.show()"
   ]
  },
  {
   "cell_type": "code",
   "execution_count": 115,
   "metadata": {},
   "outputs": [
    {
     "data": {
      "image/png": "[encoded data removed]",
      "text/plain": [
       "<Figure size 432x288 with 1 Axes>"
      ]
     },
     "metadata": {
      "needs_background": "light"
     },
     "output_type": "display_data"
    }
   ],
   "source": [
    "fifa_performance_Y_s = fifa_performance_back['overall']\n",
    "\n",
    "x_train, x_test, y_train, y_test = train_test_split(fifa_performance_X, fifa_performance_Y_s, test_size= 0.2, random_state=420)\n",
    "plt.scatter(fifa_performance_X, fifa_performance_Y_s)\n",
    "plt.title(\"Distribution between age and performance overall of Back\")\n",
    "plt.show()"
   ]
  },
  {
   "cell_type": "code",
   "execution_count": 116,
   "metadata": {},
   "outputs": [
    {
     "data": {
      "image/png": "[encoded data removed]",
      "text/plain": [
       "<Figure size 432x288 with 1 Axes>"
      ]
     },
     "metadata": {
      "needs_background": "light"
     },
     "output_type": "display_data"
    }
   ],
   "source": [
    "svr_rbf = SVR(kernel='rbf', C=100, gamma=0.1, epsilon=.1)\n",
    "svr_rbf.fit(x_train, y_train)\n",
    "svr_predit = svr_rbf.predict(age_range)\n",
    "plt.scatter(fifa_performance_X, fifa_performance_Y_s, c='k')\n",
    "plt.plot(age_range, svr_predit, c='r')\n",
    "plt.title(\"The decay curve between age and performance overall of Back\")\n",
    "plt.show()"
   ]
  },
  {
   "cell_type": "markdown",
   "metadata": {},
   "source": [
    "##### 4. Keeper "
   ]
  },
  {
   "cell_type": "code",
   "execution_count": 117,
   "metadata": {},
   "outputs": [],
   "source": [
    "fifa_performance_keeper = fifa_performance_sorted_years[fifa_performance_sorted_years.position_group == 'keeper']\n",
    "fifa_performance_keeper = fifa_performance_keeper[fifa_performance_keeper.change != 0]\n",
    "fifa_performance_keeper.head(10)\n",
    "\n",
    "age_min = int(fifa_performance_keeper['age'].min())\n",
    "age_max = int(fifa_performance_keeper['age'].max())\n",
    "              \n",
    "age_range = np.arange(age_min, age_max).reshape(-1, 1)"
   ]
  },
  {
   "cell_type": "code",
   "execution_count": 118,
   "metadata": {},
   "outputs": [
    {
     "data": {
      "image/png": "[encoded data removed]",
      "text/plain": [
       "<Figure size 432x288 with 1 Axes>"
      ]
     },
     "metadata": {
      "needs_background": "light"
     },
     "output_type": "display_data"
    }
   ],
   "source": [
    "from sklearn.model_selection import train_test_split\n",
    "fifa_performance_X = fifa_performance_keeper['age'].values.reshape(-1,1)\n",
    "fifa_performance_Y = fifa_performance_keeper['change']\n",
    "\n",
    "x_train, x_test, y_train, y_test = train_test_split(fifa_performance_X, fifa_performance_Y, test_size= 0.2, random_state=420)\n",
    "plt.scatter(fifa_performance_X, fifa_performance_Y)\n",
    "plt.title(\"Distribution between age and performance change of Back\")\n",
    "plt.show()"
   ]
  },
  {
   "cell_type": "code",
   "execution_count": 119,
   "metadata": {},
   "outputs": [
    {
     "data": {
      "image/png": "[encoded data removed]",
      "text/plain": [
       "<Figure size 432x288 with 1 Axes>"
      ]
     },
     "metadata": {
      "needs_background": "light"
     },
     "output_type": "display_data"
    }
   ],
   "source": [
    "from sklearn.svm import SVR\n",
    "\n",
    "svr_rbf = SVR(kernel='rbf', C=100, gamma=0.1, epsilon=.1)\n",
    "svr_rbf.fit(x_train, y_train)\n",
    "svr_predit = svr_rbf.predict(age_range)\n",
    "plt.scatter(fifa_performance_X, fifa_performance_Y, c='k')\n",
    "plt.plot(age_range, svr_predit, c='r')\n",
    "plt.title(\"The decay curve between age and performance change of Back\")\n",
    "plt.show()"
   ]
  },
  {
   "cell_type": "code",
   "execution_count": 120,
   "metadata": {},
   "outputs": [
    {
     "data": {
      "image/png": "[encoded data removed]",
      "text/plain": [
       "<Figure size 432x288 with 1 Axes>"
      ]
     },
     "metadata": {
      "needs_background": "light"
     },
     "output_type": "display_data"
    }
   ],
   "source": [
    "fifa_performance_Y_s = fifa_performance_keeper['overall']\n",
    "\n",
    "x_train, x_test, y_train, y_test = train_test_split(fifa_performance_X, fifa_performance_Y_s, test_size= 0.2, random_state=420)\n",
    "plt.scatter(fifa_performance_X, fifa_performance_Y_s)\n",
    "plt.title(\"Distribution between age and performance overall of Back\")\n",
    "plt.show()"
   ]
  },
  {
   "cell_type": "code",
   "execution_count": 121,
   "metadata": {},
   "outputs": [
    {
     "data": {
      "image/png": "[encoded data removed]",
      "text/plain": [
       "<Figure size 432x288 with 1 Axes>"
      ]
     },
     "metadata": {
      "needs_background": "light"
     },
     "output_type": "display_data"
    }
   ],
   "source": [
    "svr_rbf = SVR(kernel='rbf', C=100, gamma=0.1, epsilon=.1)\n",
    "svr_rbf.fit(x_train, y_train)\n",
    "svr_predit = svr_rbf.predict(age_range)\n",
    "plt.scatter(fifa_performance_X, fifa_performance_Y_s, c='k')\n",
    "plt.plot(age_range, svr_predit, c='r')\n",
    "plt.title(\"The decay curve between age and performance overall of Back\")\n",
    "plt.show()"
   ]
  },
  {
   "cell_type": "code",
   "execution_count": null,
   "metadata": {},
   "outputs": [],
   "source": []
  }
 ],
 "metadata": {
  "kernelspec": {
   "display_name": "Python 3",
   "language": "python",
   "name": "python3"
  },
  "language_info": {
   "codemirror_mode": {
    "name": "ipython",
    "version": 3
   },
   "file_extension": ".py",
   "mimetype": "text/x-python",
   "name": "python",
   "nbconvert_exporter": "python",
   "pygments_lexer": "ipython3",
   "version": "3.6.8"
  }
 },
 "nbformat": 4,
 "nbformat_minor": 1
}
